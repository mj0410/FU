{
 "cells": [
  {
   "cell_type": "code",
   "execution_count": 1,
   "metadata": {
    "colab": {
     "base_uri": "https://localhost:8080/"
    },
    "id": "_4ZyQwFliAdG",
    "outputId": "53d3983f-e912-434d-e1dd-e74d2851da6a"
   },
   "outputs": [
    {
     "name": "stdout",
     "output_type": "stream",
     "text": [
      "Collecting Biopython\n",
      "  Downloading biopython-1.78-cp37-cp37m-win_amd64.whl (2.3 MB)\n",
      "Requirement already satisfied: numpy in c:\\users\\minie\\appdata\\local\\programs\\python\\python37\\lib\\site-packages (from Biopython) (1.19.5)\n",
      "Installing collected packages: Biopython\n",
      "Successfully installed Biopython-1.78\n"
     ]
    },
    {
     "name": "stderr",
     "output_type": "stream",
     "text": [
      "WARNING: You are using pip version 21.0; however, version 21.0.1 is available.\n",
      "You should consider upgrading via the 'c:\\users\\minie\\appdata\\local\\programs\\python\\python37\\python.exe -m pip install --upgrade pip' command.\n"
     ]
    }
   ],
   "source": [
    "!pip install Biopython"
   ]
  },
  {
   "cell_type": "code",
   "execution_count": 2,
   "metadata": {
    "id": "eIOGkIB6XFUZ"
   },
   "outputs": [],
   "source": [
    "import tarfile\n",
    "import pandas as pd\n",
    "import numpy as np\n",
    "import re\n",
    "from datetime import datetime\n",
    "\n",
    "from sklearn.preprocessing import LabelEncoder\n",
    "from sklearn.metrics import precision_recall_curve\n",
    "from sklearn.metrics import roc_curve\n",
    "from sklearn.metrics import roc_auc_score\n",
    "from sklearn.model_selection import GridSearchCV\n",
    "from keras.wrappers.scikit_learn import KerasClassifier\n",
    "\n",
    "from keras.utils import to_categorical\n",
    "from keras.models import Sequential\n",
    "from keras.layers import Dropout, Activation, Flatten\n",
    "from keras.layers import Conv1D, MaxPooling1D, Embedding, LSTM, Dense, Bidirectional, TimeDistributed\n",
    "\n",
    "from matplotlib import pyplot as plt\n",
    "\n",
    "from Bio.Seq import Seq"
   ]
  },
  {
   "cell_type": "markdown",
   "metadata": {
    "id": "50wt8MJjaB_7"
   },
   "source": [
    "### Read data"
   ]
  },
  {
   "cell_type": "code",
   "execution_count": 3,
   "metadata": {
    "id": "Y8my459WYZmG"
   },
   "outputs": [],
   "source": [
    "filename = \"training_data.tar.gz\"\n",
    "\n",
    "data = tarfile.open(filename, \"r:gz\")\n",
    "data.extractall()\n",
    "data.close()"
   ]
  },
  {
   "cell_type": "code",
   "execution_count": 4,
   "metadata": {
    "id": "UBZNL_hjY6mE"
   },
   "outputs": [],
   "source": [
    "b = open('ghl_gold.fa','r')\n",
    "bind = b.readlines()\n",
    "b.close()\n",
    "\n",
    "u = open('ghl_gold_random.fa','r')\n",
    "unbind = u.readlines()\n",
    "u.close()"
   ]
  },
  {
   "cell_type": "markdown",
   "metadata": {
    "id": "vha3FF0GaGZF"
   },
   "source": [
    "### Data preprocessing"
   ]
  },
  {
   "cell_type": "code",
   "execution_count": 5,
   "metadata": {
    "id": "v9welhjpanPv"
   },
   "outputs": [],
   "source": [
    "bind = [v for v in bind if '>' not in v]\n",
    "bind = [s.replace('\\n', '') for s in bind]\n",
    "bind = [x.upper() for x in bind]\n",
    "\n",
    "unbind = [v for v in unbind if '>' not in v]\n",
    "unbind = [s.replace('\\n', '') for s in unbind]\n",
    "unbind = [x.upper() for x in unbind]"
   ]
  },
  {
   "cell_type": "code",
   "execution_count": 6,
   "metadata": {
    "colab": {
     "base_uri": "https://localhost:8080/"
    },
    "id": "Fhir2ae1W5Ej",
    "outputId": "53867be6-d6d0-4f1d-ddc9-cbc8fb1af070"
   },
   "outputs": [
    {
     "name": "stdout",
     "output_type": "stream",
     "text": [
      "1400090 1400090\n"
     ]
    }
   ],
   "source": [
    "print(len(bind), len(unbind))"
   ]
  },
  {
   "cell_type": "markdown",
   "metadata": {
    "id": "otwxSGdF5UWb"
   },
   "source": [
    "##### Reverse complement"
   ]
  },
  {
   "cell_type": "code",
   "execution_count": 7,
   "metadata": {
    "id": "xKy9l5cM5k2N"
   },
   "outputs": [],
   "source": [
    "bind_rev = list(range(len(bind)))\n",
    "\n",
    "for i in range(len(bind)):\n",
    "  seq = Seq(bind[i])\n",
    "  rev = seq.reverse_complement()\n",
    "  bind_rev[i] = str(rev)\n",
    "\n",
    "unbind_rev = list(range(len(unbind)))\n",
    "\n",
    "for i in range(len(unbind)):\n",
    "  seq = Seq(unbind[i])\n",
    "  rev = seq.reverse_complement()\n",
    "  unbind_rev[i] = str(rev)"
   ]
  },
  {
   "cell_type": "code",
   "execution_count": 8,
   "metadata": {
    "id": "JIRBrsVj9PJq"
   },
   "outputs": [],
   "source": [
    "bind_fb = bind + bind_rev\n",
    "unbind_fb = unbind + unbind_rev"
   ]
  },
  {
   "cell_type": "code",
   "execution_count": 9,
   "metadata": {
    "id": "tjoTPRns3B2n"
   },
   "outputs": [],
   "source": [
    "bind_label = [1 for i in range(len(bind_fb))]\n",
    "unbind_label = [0 for i in range(len(unbind_fb))]"
   ]
  },
  {
   "cell_type": "code",
   "execution_count": 10,
   "metadata": {
    "id": "o6DJLyjq3oyA"
   },
   "outputs": [],
   "source": [
    "bind_dict = {\"seq\":bind_fb, \"label\":bind_label}\n",
    "unbind_dict = {\"seq\":unbind_fb, \"label\":unbind_label}"
   ]
  },
  {
   "cell_type": "code",
   "execution_count": 11,
   "metadata": {
    "id": "Z3BNnw6G33Ru"
   },
   "outputs": [],
   "source": [
    "bind_df = pd.DataFrame(bind_dict)\n",
    "unbind_df = pd.DataFrame(unbind_dict)"
   ]
  },
  {
   "cell_type": "code",
   "execution_count": 12,
   "metadata": {
    "id": "GcjHA2u_4Cit"
   },
   "outputs": [],
   "source": [
    "df = pd.concat([bind_df, unbind_df])"
   ]
  },
  {
   "cell_type": "markdown",
   "metadata": {
    "id": "_zu7lz0Wfuwv"
   },
   "source": [
    "##### split the dataset"
   ]
  },
  {
   "cell_type": "code",
   "execution_count": 13,
   "metadata": {
    "id": "nNGtJxlpcRi0"
   },
   "outputs": [],
   "source": [
    "from sklearn.utils import shuffle\n",
    "\n",
    "new_df = shuffle(df)\n",
    "new_df = new_df.reset_index()"
   ]
  },
  {
   "cell_type": "code",
   "execution_count": 14,
   "metadata": {
    "id": "R9Pwyf2Ddco6"
   },
   "outputs": [],
   "source": [
    "x = new_df.seq\n",
    "y = new_df.label"
   ]
  },
  {
   "cell_type": "code",
   "execution_count": 15,
   "metadata": {
    "id": "n7kh3l_GdBp8"
   },
   "outputs": [],
   "source": [
    "from sklearn.model_selection import train_test_split\n",
    "\n",
    "x_train, x_test, y_train, y_test = train_test_split(x, y, test_size=0.2, random_state=40)"
   ]
  },
  {
   "cell_type": "markdown",
   "metadata": {
    "id": "goou7uBw-5Ic"
   },
   "source": [
    "##### One-hot Encoding"
   ]
  },
  {
   "cell_type": "code",
   "execution_count": 16,
   "metadata": {
    "colab": {
     "base_uri": "https://localhost:8080/"
    },
    "id": "SnTPRkO4x4At",
    "outputId": "4f0355f2-8b49-414c-9cf8-98ea9ff68337"
   },
   "outputs": [
    {
     "data": {
      "text/plain": [
       "LabelEncoder()"
      ]
     },
     "execution_count": 16,
     "metadata": {},
     "output_type": "execute_result"
    }
   ],
   "source": [
    "LE = LabelEncoder()\n",
    "LE.fit(['A', 'C', 'G', 'T', 'N'])"
   ]
  },
  {
   "cell_type": "code",
   "execution_count": 17,
   "metadata": {
    "colab": {
     "base_uri": "https://localhost:8080/"
    },
    "id": "yCAAE6Pd4UHl",
    "outputId": "d04f1823-8c25-4177-f9fb-553a63f132d9"
   },
   "outputs": [
    {
     "name": "stdout",
     "output_type": "stream",
     "text": [
      "encoding running time : 0:07:43.316557\n"
     ]
    }
   ],
   "source": [
    "start = datetime.now()\n",
    "\n",
    "for index, row in x_train.items():\n",
    "  x_train[index] = LE.transform(list(row))\n",
    "\n",
    "for index, row in x_test.items():\n",
    "  x_test[index] = LE.transform(list(row))\n",
    "\n",
    "x_train = to_categorical(x_train.values.tolist())\n",
    "x_t = to_categorical(x_test.values.tolist())\n",
    "\n",
    "y_train = to_categorical(y_train.values.tolist())\n",
    "y_t = to_categorical(y_test.values.tolist())\n",
    "\n",
    "end = datetime.now()\n",
    "print(\"encoding running time : \"+str(end-start))"
   ]
  },
  {
   "cell_type": "markdown",
   "metadata": {
    "id": "JTgb9hnyS2dP"
   },
   "source": [
    "### CNN"
   ]
  },
  {
   "cell_type": "code",
   "execution_count": 18,
   "metadata": {
    "id": "xQxXZDkCS5Me"
   },
   "outputs": [],
   "source": [
    "cnn_model = Sequential()\n",
    "cnn_model.add(Conv1D(filters=64, kernel_size=7, strides=1, padding='valid', input_shape=(20,5), activation='relu'))\n",
    "cnn_model.add(MaxPooling1D(pool_size=3, strides=1, padding='valid'))\n",
    "cnn_model.add(Flatten())\n",
    "cnn_model.add(Dense(32, activation='relu'))\n",
    "cnn_model.add(Dropout(0.2))\n",
    "cnn_model.add(Dense(2, activation='sigmoid'))\n",
    "cnn_model.compile(optimizer='adam', loss='binary_crossentropy', metrics=['accuracy'])"
   ]
  },
  {
   "cell_type": "code",
   "execution_count": 20,
   "metadata": {
    "colab": {
     "base_uri": "https://localhost:8080/"
    },
    "id": "ZKsmpWUdT3R5",
    "outputId": "d10194ef-6b82-4f03-881d-f053cea1d28d"
   },
   "outputs": [
    {
     "name": "stdout",
     "output_type": "stream",
     "text": [
      "Epoch 1/10\n",
      "112008/112008 [==============================] - 384s 3ms/step - loss: 0.3384 - accuracy: 0.8542 - val_loss: 0.3278 - val_accuracy: 0.8584\n",
      "Epoch 2/10\n",
      "112008/112008 [==============================] - 383s 3ms/step - loss: 0.3350 - accuracy: 0.8557 - val_loss: 0.3268 - val_accuracy: 0.8585\n",
      "Epoch 3/10\n",
      "112008/112008 [==============================] - 400s 4ms/step - loss: 0.3337 - accuracy: 0.8564 - val_loss: 0.3253 - val_accuracy: 0.8595\n",
      "Epoch 4/10\n",
      "112008/112008 [==============================] - 412s 4ms/step - loss: 0.3331 - accuracy: 0.8566 - val_loss: 0.3257 - val_accuracy: 0.8591\n",
      "Epoch 5/10\n",
      "112008/112008 [==============================] - 413s 4ms/step - loss: 0.3325 - accuracy: 0.8569 - val_loss: 0.3239 - val_accuracy: 0.8598\n",
      "Epoch 6/10\n",
      "112008/112008 [==============================] - 420s 4ms/step - loss: 0.3322 - accuracy: 0.8570 - val_loss: 0.3268 - val_accuracy: 0.8582\n",
      "Epoch 7/10\n",
      "112008/112008 [==============================] - 415s 4ms/step - loss: 0.3319 - accuracy: 0.8570 - val_loss: 0.3236 - val_accuracy: 0.8602\n",
      "Epoch 8/10\n",
      "112008/112008 [==============================] - 390s 3ms/step - loss: 0.3316 - accuracy: 0.8572 - val_loss: 0.3249 - val_accuracy: 0.8596\n",
      "Epoch 9/10\n",
      "112008/112008 [==============================] - 383s 3ms/step - loss: 0.3316 - accuracy: 0.8571 - val_loss: 0.3250 - val_accuracy: 0.8587\n",
      "Epoch 10/10\n",
      "112008/112008 [==============================] - 401s 4ms/step - loss: 0.3313 - accuracy: 0.8572 - val_loss: 0.3240 - val_accuracy: 0.8600\n"
     ]
    }
   ],
   "source": [
    "cnn_history = cnn_model.fit(x_train, y_train, epochs = 10, validation_split = 0.2)"
   ]
  },
  {
   "cell_type": "markdown",
   "metadata": {
    "id": "V43wDJc6S34n"
   },
   "source": [
    "### RNN"
   ]
  },
  {
   "cell_type": "markdown",
   "metadata": {
    "id": "Q3ls0a6LTTS3"
   },
   "source": [
    "LSTM"
   ]
  },
  {
   "cell_type": "code",
   "execution_count": 21,
   "metadata": {
    "id": "0fjtJ2sRTH7A"
   },
   "outputs": [],
   "source": [
    "lstm_model = Sequential()\n",
    "lstm_model.add(LSTM(128, input_shape=(20, 5), return_sequences=True))\n",
    "lstm_model.add(LSTM(128))\n",
    "lstm_model.add(Dense(64, activation='relu'))\n",
    "lstm_model.add(Dropout(0.2))\n",
    "lstm_model.add(Dense(2, activation='sigmoid'))\n",
    "lstm_model.compile(optimizer='adam', loss='binary_crossentropy', metrics=['accuracy'])"
   ]
  },
  {
   "cell_type": "code",
   "execution_count": 22,
   "metadata": {
    "colab": {
     "base_uri": "https://localhost:8080/"
    },
    "id": "nBbsG00kT_2J",
    "outputId": "936c843c-cdcd-4284-cac7-823eabc26e09"
   },
   "outputs": [
    {
     "name": "stdout",
     "output_type": "stream",
     "text": [
      "Epoch 1/10\n",
      " 11171/112008 [=>............................] - ETA: 1:26:57 - loss: 0.4179 - accuracy: 0.8058- ETA: 1:26:56 - loss: 0.4180 - accur"
     ]
    },
    {
     "ename": "KeyboardInterrupt",
     "evalue": "",
     "output_type": "error",
     "traceback": [
      "\u001b[1;31m---------------------------------------------------------------------------\u001b[0m",
      "\u001b[1;31mKeyboardInterrupt\u001b[0m                         Traceback (most recent call last)",
      "\u001b[1;32m<ipython-input-22-25a95838fb42>\u001b[0m in \u001b[0;36m<module>\u001b[1;34m\u001b[0m\n\u001b[1;32m----> 1\u001b[1;33m \u001b[0mlstm_history\u001b[0m \u001b[1;33m=\u001b[0m \u001b[0mlstm_model\u001b[0m\u001b[1;33m.\u001b[0m\u001b[0mfit\u001b[0m\u001b[1;33m(\u001b[0m\u001b[0mx_train\u001b[0m\u001b[1;33m,\u001b[0m \u001b[0my_train\u001b[0m\u001b[1;33m,\u001b[0m \u001b[0mepochs\u001b[0m \u001b[1;33m=\u001b[0m \u001b[1;36m10\u001b[0m\u001b[1;33m,\u001b[0m \u001b[0mvalidation_split\u001b[0m \u001b[1;33m=\u001b[0m \u001b[1;36m0.2\u001b[0m\u001b[1;33m)\u001b[0m\u001b[1;33m\u001b[0m\u001b[1;33m\u001b[0m\u001b[0m\n\u001b[0m",
      "\u001b[1;32mc:\\users\\minie\\appdata\\local\\programs\\python\\python37\\lib\\site-packages\\tensorflow\\python\\keras\\engine\\training.py\u001b[0m in \u001b[0;36mfit\u001b[1;34m(self, x, y, batch_size, epochs, verbose, callbacks, validation_split, validation_data, shuffle, class_weight, sample_weight, initial_epoch, steps_per_epoch, validation_steps, validation_batch_size, validation_freq, max_queue_size, workers, use_multiprocessing)\u001b[0m\n\u001b[0;32m   1098\u001b[0m                 _r=1):\n\u001b[0;32m   1099\u001b[0m               \u001b[0mcallbacks\u001b[0m\u001b[1;33m.\u001b[0m\u001b[0mon_train_batch_begin\u001b[0m\u001b[1;33m(\u001b[0m\u001b[0mstep\u001b[0m\u001b[1;33m)\u001b[0m\u001b[1;33m\u001b[0m\u001b[1;33m\u001b[0m\u001b[0m\n\u001b[1;32m-> 1100\u001b[1;33m               \u001b[0mtmp_logs\u001b[0m \u001b[1;33m=\u001b[0m \u001b[0mself\u001b[0m\u001b[1;33m.\u001b[0m\u001b[0mtrain_function\u001b[0m\u001b[1;33m(\u001b[0m\u001b[0miterator\u001b[0m\u001b[1;33m)\u001b[0m\u001b[1;33m\u001b[0m\u001b[1;33m\u001b[0m\u001b[0m\n\u001b[0m\u001b[0;32m   1101\u001b[0m               \u001b[1;32mif\u001b[0m \u001b[0mdata_handler\u001b[0m\u001b[1;33m.\u001b[0m\u001b[0mshould_sync\u001b[0m\u001b[1;33m:\u001b[0m\u001b[1;33m\u001b[0m\u001b[1;33m\u001b[0m\u001b[0m\n\u001b[0;32m   1102\u001b[0m                 \u001b[0mcontext\u001b[0m\u001b[1;33m.\u001b[0m\u001b[0masync_wait\u001b[0m\u001b[1;33m(\u001b[0m\u001b[1;33m)\u001b[0m\u001b[1;33m\u001b[0m\u001b[1;33m\u001b[0m\u001b[0m\n",
      "\u001b[1;32mc:\\users\\minie\\appdata\\local\\programs\\python\\python37\\lib\\site-packages\\tensorflow\\python\\eager\\def_function.py\u001b[0m in \u001b[0;36m__call__\u001b[1;34m(self, *args, **kwds)\u001b[0m\n\u001b[0;32m    826\u001b[0m     \u001b[0mtracing_count\u001b[0m \u001b[1;33m=\u001b[0m \u001b[0mself\u001b[0m\u001b[1;33m.\u001b[0m\u001b[0mexperimental_get_tracing_count\u001b[0m\u001b[1;33m(\u001b[0m\u001b[1;33m)\u001b[0m\u001b[1;33m\u001b[0m\u001b[1;33m\u001b[0m\u001b[0m\n\u001b[0;32m    827\u001b[0m     \u001b[1;32mwith\u001b[0m \u001b[0mtrace\u001b[0m\u001b[1;33m.\u001b[0m\u001b[0mTrace\u001b[0m\u001b[1;33m(\u001b[0m\u001b[0mself\u001b[0m\u001b[1;33m.\u001b[0m\u001b[0m_name\u001b[0m\u001b[1;33m)\u001b[0m \u001b[1;32mas\u001b[0m \u001b[0mtm\u001b[0m\u001b[1;33m:\u001b[0m\u001b[1;33m\u001b[0m\u001b[1;33m\u001b[0m\u001b[0m\n\u001b[1;32m--> 828\u001b[1;33m       \u001b[0mresult\u001b[0m \u001b[1;33m=\u001b[0m \u001b[0mself\u001b[0m\u001b[1;33m.\u001b[0m\u001b[0m_call\u001b[0m\u001b[1;33m(\u001b[0m\u001b[1;33m*\u001b[0m\u001b[0margs\u001b[0m\u001b[1;33m,\u001b[0m \u001b[1;33m**\u001b[0m\u001b[0mkwds\u001b[0m\u001b[1;33m)\u001b[0m\u001b[1;33m\u001b[0m\u001b[1;33m\u001b[0m\u001b[0m\n\u001b[0m\u001b[0;32m    829\u001b[0m       \u001b[0mcompiler\u001b[0m \u001b[1;33m=\u001b[0m \u001b[1;34m\"xla\"\u001b[0m \u001b[1;32mif\u001b[0m \u001b[0mself\u001b[0m\u001b[1;33m.\u001b[0m\u001b[0m_experimental_compile\u001b[0m \u001b[1;32melse\u001b[0m \u001b[1;34m\"nonXla\"\u001b[0m\u001b[1;33m\u001b[0m\u001b[1;33m\u001b[0m\u001b[0m\n\u001b[0;32m    830\u001b[0m       \u001b[0mnew_tracing_count\u001b[0m \u001b[1;33m=\u001b[0m \u001b[0mself\u001b[0m\u001b[1;33m.\u001b[0m\u001b[0mexperimental_get_tracing_count\u001b[0m\u001b[1;33m(\u001b[0m\u001b[1;33m)\u001b[0m\u001b[1;33m\u001b[0m\u001b[1;33m\u001b[0m\u001b[0m\n",
      "\u001b[1;32mc:\\users\\minie\\appdata\\local\\programs\\python\\python37\\lib\\site-packages\\tensorflow\\python\\eager\\def_function.py\u001b[0m in \u001b[0;36m_call\u001b[1;34m(self, *args, **kwds)\u001b[0m\n\u001b[0;32m    853\u001b[0m       \u001b[1;31m# In this case we have created variables on the first call, so we run the\u001b[0m\u001b[1;33m\u001b[0m\u001b[1;33m\u001b[0m\u001b[1;33m\u001b[0m\u001b[0m\n\u001b[0;32m    854\u001b[0m       \u001b[1;31m# defunned version which is guaranteed to never create variables.\u001b[0m\u001b[1;33m\u001b[0m\u001b[1;33m\u001b[0m\u001b[1;33m\u001b[0m\u001b[0m\n\u001b[1;32m--> 855\u001b[1;33m       \u001b[1;32mreturn\u001b[0m \u001b[0mself\u001b[0m\u001b[1;33m.\u001b[0m\u001b[0m_stateless_fn\u001b[0m\u001b[1;33m(\u001b[0m\u001b[1;33m*\u001b[0m\u001b[0margs\u001b[0m\u001b[1;33m,\u001b[0m \u001b[1;33m**\u001b[0m\u001b[0mkwds\u001b[0m\u001b[1;33m)\u001b[0m  \u001b[1;31m# pylint: disable=not-callable\u001b[0m\u001b[1;33m\u001b[0m\u001b[1;33m\u001b[0m\u001b[0m\n\u001b[0m\u001b[0;32m    856\u001b[0m     \u001b[1;32melif\u001b[0m \u001b[0mself\u001b[0m\u001b[1;33m.\u001b[0m\u001b[0m_stateful_fn\u001b[0m \u001b[1;32mis\u001b[0m \u001b[1;32mnot\u001b[0m \u001b[1;32mNone\u001b[0m\u001b[1;33m:\u001b[0m\u001b[1;33m\u001b[0m\u001b[1;33m\u001b[0m\u001b[0m\n\u001b[0;32m    857\u001b[0m       \u001b[1;31m# Release the lock early so that multiple threads can perform the call\u001b[0m\u001b[1;33m\u001b[0m\u001b[1;33m\u001b[0m\u001b[1;33m\u001b[0m\u001b[0m\n",
      "\u001b[1;32mc:\\users\\minie\\appdata\\local\\programs\\python\\python37\\lib\\site-packages\\tensorflow\\python\\eager\\function.py\u001b[0m in \u001b[0;36m__call__\u001b[1;34m(self, *args, **kwargs)\u001b[0m\n\u001b[0;32m   2941\u001b[0m        filtered_flat_args) = self._maybe_define_function(args, kwargs)\n\u001b[0;32m   2942\u001b[0m     return graph_function._call_flat(\n\u001b[1;32m-> 2943\u001b[1;33m         filtered_flat_args, captured_inputs=graph_function.captured_inputs)  # pylint: disable=protected-access\n\u001b[0m\u001b[0;32m   2944\u001b[0m \u001b[1;33m\u001b[0m\u001b[0m\n\u001b[0;32m   2945\u001b[0m   \u001b[1;33m@\u001b[0m\u001b[0mproperty\u001b[0m\u001b[1;33m\u001b[0m\u001b[1;33m\u001b[0m\u001b[0m\n",
      "\u001b[1;32mc:\\users\\minie\\appdata\\local\\programs\\python\\python37\\lib\\site-packages\\tensorflow\\python\\eager\\function.py\u001b[0m in \u001b[0;36m_call_flat\u001b[1;34m(self, args, captured_inputs, cancellation_manager)\u001b[0m\n\u001b[0;32m   1917\u001b[0m       \u001b[1;31m# No tape is watching; skip to running the function.\u001b[0m\u001b[1;33m\u001b[0m\u001b[1;33m\u001b[0m\u001b[1;33m\u001b[0m\u001b[0m\n\u001b[0;32m   1918\u001b[0m       return self._build_call_outputs(self._inference_function.call(\n\u001b[1;32m-> 1919\u001b[1;33m           ctx, args, cancellation_manager=cancellation_manager))\n\u001b[0m\u001b[0;32m   1920\u001b[0m     forward_backward = self._select_forward_and_backward_functions(\n\u001b[0;32m   1921\u001b[0m         \u001b[0margs\u001b[0m\u001b[1;33m,\u001b[0m\u001b[1;33m\u001b[0m\u001b[1;33m\u001b[0m\u001b[0m\n",
      "\u001b[1;32mc:\\users\\minie\\appdata\\local\\programs\\python\\python37\\lib\\site-packages\\tensorflow\\python\\eager\\function.py\u001b[0m in \u001b[0;36mcall\u001b[1;34m(self, ctx, args, cancellation_manager)\u001b[0m\n\u001b[0;32m    558\u001b[0m               \u001b[0minputs\u001b[0m\u001b[1;33m=\u001b[0m\u001b[0margs\u001b[0m\u001b[1;33m,\u001b[0m\u001b[1;33m\u001b[0m\u001b[1;33m\u001b[0m\u001b[0m\n\u001b[0;32m    559\u001b[0m               \u001b[0mattrs\u001b[0m\u001b[1;33m=\u001b[0m\u001b[0mattrs\u001b[0m\u001b[1;33m,\u001b[0m\u001b[1;33m\u001b[0m\u001b[1;33m\u001b[0m\u001b[0m\n\u001b[1;32m--> 560\u001b[1;33m               ctx=ctx)\n\u001b[0m\u001b[0;32m    561\u001b[0m         \u001b[1;32melse\u001b[0m\u001b[1;33m:\u001b[0m\u001b[1;33m\u001b[0m\u001b[1;33m\u001b[0m\u001b[0m\n\u001b[0;32m    562\u001b[0m           outputs = execute.execute_with_cancellation(\n",
      "\u001b[1;32mc:\\users\\minie\\appdata\\local\\programs\\python\\python37\\lib\\site-packages\\tensorflow\\python\\eager\\execute.py\u001b[0m in \u001b[0;36mquick_execute\u001b[1;34m(op_name, num_outputs, inputs, attrs, ctx, name)\u001b[0m\n\u001b[0;32m     58\u001b[0m     \u001b[0mctx\u001b[0m\u001b[1;33m.\u001b[0m\u001b[0mensure_initialized\u001b[0m\u001b[1;33m(\u001b[0m\u001b[1;33m)\u001b[0m\u001b[1;33m\u001b[0m\u001b[1;33m\u001b[0m\u001b[0m\n\u001b[0;32m     59\u001b[0m     tensors = pywrap_tfe.TFE_Py_Execute(ctx._handle, device_name, op_name,\n\u001b[1;32m---> 60\u001b[1;33m                                         inputs, attrs, num_outputs)\n\u001b[0m\u001b[0;32m     61\u001b[0m   \u001b[1;32mexcept\u001b[0m \u001b[0mcore\u001b[0m\u001b[1;33m.\u001b[0m\u001b[0m_NotOkStatusException\u001b[0m \u001b[1;32mas\u001b[0m \u001b[0me\u001b[0m\u001b[1;33m:\u001b[0m\u001b[1;33m\u001b[0m\u001b[1;33m\u001b[0m\u001b[0m\n\u001b[0;32m     62\u001b[0m     \u001b[1;32mif\u001b[0m \u001b[0mname\u001b[0m \u001b[1;32mis\u001b[0m \u001b[1;32mnot\u001b[0m \u001b[1;32mNone\u001b[0m\u001b[1;33m:\u001b[0m\u001b[1;33m\u001b[0m\u001b[1;33m\u001b[0m\u001b[0m\n",
      "\u001b[1;31mKeyboardInterrupt\u001b[0m: "
     ]
    }
   ],
   "source": [
    "lstm_history = lstm_model.fit(x_train, y_train, epochs = 10, validation_split = 0.2)"
   ]
  },
  {
   "cell_type": "markdown",
   "metadata": {
    "id": "53-V_Cx8TU2f"
   },
   "source": [
    "Bi-LSTM"
   ]
  },
  {
   "cell_type": "code",
   "execution_count": null,
   "metadata": {
    "id": "3FgigNs_TWmH"
   },
   "outputs": [],
   "source": [
    "bi_model = Sequential()\n",
    "bi_model.add(Bidirectional(LSTM(64, return_sequences=True), input_shape=(20, 5)))\n",
    "bi_model.add(Bidirectional(LSTM(64)))\n",
    "bi_model.add(Dense(64, activation='relu'))\n",
    "bi_model.add(Dropout(0.2))\n",
    "bi_model.add(Dense(2, activation='sigmoid'))\n",
    "bi_model.compile(optimizer='adam', loss='binary_crossentropy', metrics=['accuracy'])"
   ]
  },
  {
   "cell_type": "code",
   "execution_count": null,
   "metadata": {
    "colab": {
     "base_uri": "https://localhost:8080/"
    },
    "id": "S9H8lCn2UFMG",
    "outputId": "67560d3e-b221-4e35-b1e2-d576a2472282"
   },
   "outputs": [],
   "source": [
    "bi_history = bi_model.fit(x_train, y_train, epochs = 10, validation_split = 0.2)"
   ]
  },
  {
   "cell_type": "markdown",
   "metadata": {
    "id": "_pl7cuzzi9cG"
   },
   "source": [
    "### CNN + RNN"
   ]
  },
  {
   "cell_type": "markdown",
   "metadata": {
    "id": "0u778WVzTfrv"
   },
   "source": [
    "CNN + LSTM"
   ]
  },
  {
   "cell_type": "code",
   "execution_count": null,
   "metadata": {
    "id": "3CGpE6m9Tmne"
   },
   "outputs": [],
   "source": [
    "cl_model = Sequential()\n",
    "cl_model.add(Conv1D(filters=64, kernel_size=7, strides=1, padding='valid', activation='relu', input_shape=(20, 5)))\n",
    "cl_model.add(MaxPooling1D(pool_size=3, strides=1, padding='valid'))\n",
    "\n",
    "cl_model.add(LSTM(128, return_sequences=True))\n",
    "cl_model.add(LSTM(128))\n",
    "cl_model.add(Dense(64, activation='relu'))\n",
    "cl_model.add(Dropout(0.2))\n",
    "cl_model.add(Dense(2, activation='sigmoid'))\n",
    "cl_model.compile(optimizer='adam', loss='binary_crossentropy', metrics=['accuracy'])"
   ]
  },
  {
   "cell_type": "code",
   "execution_count": null,
   "metadata": {
    "colab": {
     "base_uri": "https://localhost:8080/"
    },
    "id": "8vxbDpm2UQP_",
    "outputId": "62da8ca4-c8ec-47e2-942e-35984dd9d079"
   },
   "outputs": [],
   "source": [
    "cl_history = cl_model.fit(x_train, y_train, epochs = 10, validation_split = 0.2)"
   ]
  },
  {
   "cell_type": "markdown",
   "metadata": {
    "id": "nqowlVtvTizh"
   },
   "source": [
    "CNN + Bi-LSTM"
   ]
  },
  {
   "cell_type": "code",
   "execution_count": null,
   "metadata": {
    "id": "6jwBfnc35eNo"
   },
   "outputs": [],
   "source": [
    "cbi_model = Sequential()\n",
    "cbi_model.add(Conv1D(filters=64, kernel_size=7, strides=1, padding='valid', activation='relu', input_shape=(20, 5)))\n",
    "cbi_model.add(MaxPooling1D(pool_size=3, strides=1, padding='valid'))\n",
    "\n",
    "cbi_model.add(Bidirectional(LSTM(64, return_sequences=True)))\n",
    "cbi_model.add(Bidirectional(LSTM(64)))\n",
    "cbi_model.add(Dense(64, activation='relu'))\n",
    "cbi_model.add(Dropout(0.2))\n",
    "cbi_model.add(Dense(2, activation='sigmoid'))\n",
    "cbi_model.compile(optimizer='adam', loss='binary_crossentropy', metrics=['accuracy'])"
   ]
  },
  {
   "cell_type": "code",
   "execution_count": null,
   "metadata": {
    "id": "7ShrRjPHUbsR"
   },
   "outputs": [],
   "source": [
    "cbi_history = cbi_model.fit(x_train, y_train, epochs = 10, validation_split = 0.2)"
   ]
  },
  {
   "cell_type": "markdown",
   "metadata": {
    "id": "6X-swJeIm8Sv"
   },
   "source": [
    "### Evaluation"
   ]
  },
  {
   "cell_type": "markdown",
   "metadata": {
    "id": "RErs9eW5jlXe"
   },
   "source": [
    "Accuracy"
   ]
  },
  {
   "cell_type": "code",
   "execution_count": null,
   "metadata": {
    "colab": {
     "base_uri": "https://localhost:8080/"
    },
    "id": "jNvaieI51aSp",
    "outputId": "526de3c4-4e4c-4abb-fa54-701a87d6cd01"
   },
   "outputs": [],
   "source": [
    "cnn_score = cnn_model.evaluate(x_t, y_t)\n",
    "lstm_score = lstm_model.evaluate(x_t, y_t)\n",
    "bi_score = bi_model.evaluate(x_t, y_t)\n",
    "cl_score = cl_model.evaluate(x_t, y_t)\n",
    "cbi_score = cbi_model.evaluate(x_t, y_t)\n",
    "\n",
    "model = ['CNN', 'LSTM', \"BiLSTM\", \"CNN-LSTM\", \"CNN-BiLSTM\"]\n",
    "acc = [round(cnn_score[1], 2), round(lstm_score[1], 2), round(bi_score[1], 2), round(ci_score[1], 2), round(cbi_score[1], 2)]\n",
    "acc_dict = {\"Model\":model, \"Accuracy\":bind_label}\n",
    "df_acc = pd.DataFrame(acc_dict)\n",
    "\n",
    "df_acc"
   ]
  },
  {
   "cell_type": "markdown",
   "metadata": {
    "id": "mKttxzpgjnkv"
   },
   "source": [
    "loss-epoch curve"
   ]
  },
  {
   "cell_type": "code",
   "execution_count": null,
   "metadata": {
    "id": "m66OxJqfWTB3"
   },
   "outputs": [],
   "source": [
    "fig, axs = plt.subplots(1, 5, figsize=(25,5))\n",
    "\n",
    "axs[0].plot(cnn_history.history['loss'])\n",
    "axs[0].plot(cnn_history.history['val_loss'])\n",
    "axs[0].set(ylabel='Loss')\n",
    "axs[0].set_title('CNN')\n",
    "\n",
    "axs[1].plot(lstm_history.history['loss'])\n",
    "axs[1].plot(lstm_history.history['val_loss'])\n",
    "axs[1].set_title('LSTM')\n",
    "\n",
    "axs[2].plot(bi_history.history['loss'])\n",
    "axs[2].plot(bi_history.history['val_loss'])\n",
    "axs[2].set_title('BiLSTM')\n",
    "\n",
    "axs[3].plot(cl_history.history['loss'])\n",
    "axs[3].plot(cl_history.history['val_loss'])\n",
    "axs[3].set_title('CNN-LSTM')\n",
    "\n",
    "axs[4].plot(cbi_history.history['loss'])\n",
    "axs[4].plot(cbi_history.history['val_loss'])\n",
    "axs[4].set_title('CNN-BiLSTM')\n",
    "\n",
    "for ax in axs.flat:\n",
    "    ax.set(xlabel='Epoch')\n",
    "\n",
    "plt.suptitle('Model Loss')\n",
    "plt.legend(['train', 'val'], loc='upper right', bbox_to_anchor=(1.05, 1.0))"
   ]
  },
  {
   "cell_type": "markdown",
   "metadata": {
    "id": "vi4GYKutj4MO"
   },
   "source": [
    "precision-recall curve"
   ]
  },
  {
   "cell_type": "code",
   "execution_count": null,
   "metadata": {
    "id": "smm9t2b5JwHs"
   },
   "outputs": [],
   "source": [
    "cnn_probs = cnn_model.predict(x_t)[:,1]\n",
    "lstm_probs = lstm_model.predict(x_t)[:,1]\n",
    "bi_probs = bi_model.predict(x_t)[:,1]\n",
    "cl_probs = cl_model.predict(x_t)[:,1]\n",
    "cbi_probs = cbi_model.predict(x_t)[:,1]"
   ]
  },
  {
   "cell_type": "code",
   "execution_count": null,
   "metadata": {
    "id": "-NiRh5hLLMO-"
   },
   "outputs": [],
   "source": [
    "cnn_precision, cnn_recall, cnn_thresholds = precision_recall_curve(y_test.values, cnn_probs)\n",
    "lstm_precision, lstm_recall, lstm_thresholds = precision_recall_curve(y_test.values, lstm_probs)\n",
    "bi_precision, bi_recall, bi_thresholds = precision_recall_curve(y_test.values, bi_probs)\n",
    "cl_precision, cl_recall, cl_thresholds = precision_recall_curve(y_test.values, cl_probs)\n",
    "cbi_precision, cbi_recall, cbi_thresholds = precision_recall_curve(y_test.values, cbi_probs)"
   ]
  },
  {
   "cell_type": "code",
   "execution_count": null,
   "metadata": {
    "colab": {
     "base_uri": "https://localhost:8080/",
     "height": 295
    },
    "id": "FFlZeLK1MLIb",
    "outputId": "b3cb17de-c336-4fec-a778-3c598809a992"
   },
   "outputs": [],
   "source": [
    "fig, axs = plt.subplots(1, 5, figsize=(25,3))\n",
    "\n",
    "axs[0].plot(cnn_precision, cnn_recall)\n",
    "#axs[0].set(ylabel='Loss')\n",
    "axs[0].set_title('CNN')\n",
    "\n",
    "axs[1].plot(lstm_precision, lstm_recall)\n",
    "axs[1].set_title('LSTM')\n",
    "\n",
    "axs[2].plot(bi_precision, bi_recall)\n",
    "axs[2].set_title('BiLSTM')\n",
    "\n",
    "axs[3].plot(cl_precision, cl_recall)\n",
    "axs[3].set_title('CNN-LSTM')\n",
    "\n",
    "axs[4].plot(cbi_precision, cbi_recall)\n",
    "axs[4].set_title('CNN-BiLSTM')\n",
    "\n",
    "#for ax in axs.flat:\n",
    "#    ax.set(xlabel='Epoch')\n",
    "\n",
    "plt.suptitle('Precision-Recall Curve')\n",
    "# plt.legend(['train', 'val'], loc='upper right', bbox_to_anchor=(1.05, 1.0))"
   ]
  },
  {
   "cell_type": "markdown",
   "metadata": {
    "id": "IzH6mYOsIJ4T"
   },
   "source": [
    "ROC Curve, AUC"
   ]
  },
  {
   "cell_type": "code",
   "execution_count": null,
   "metadata": {
    "id": "NGXV61AaTHCQ"
   },
   "outputs": [],
   "source": [
    "cnn_auc = roc_auc_score(y_test.values, cnn_probs)\n",
    "cnn_fpr, cnn_tpr, cnn_ = roc_curve(y_test.values, cnn_probs)\n",
    "\n",
    "lstm_auc = roc_auc_score(y_test.values, lstm_probs)\n",
    "lstm_fpr, lstm_tpr, lstm_ = roc_curve(y_test.values, lstm_probs)\n",
    "\n",
    "bi_auc = roc_auc_score(y_test.values, bi_probs)\n",
    "bi_fpr, bi_tpr, bi_ = roc_curve(y_test.values, bi_probs)\n",
    "\n",
    "cl_auc = roc_auc_score(y_test.values, cl_probs)\n",
    "cl_fpr, cl_tpr, cl_ = roc_curve(y_test.values, cl_probs)\n",
    "\n",
    "cbi_auc = roc_auc_score(y_test.values, cbi_probs)\n",
    "cbi_fpr, cbi_tpr, cbi_ = roc_curve(y_test.values, cbi_probs)"
   ]
  },
  {
   "cell_type": "code",
   "execution_count": null,
   "metadata": {
    "id": "wSRSlLhV9alh"
   },
   "outputs": [],
   "source": [
    "plt.plot(cnn_fpr, cnn_tpr, color='salmon', linewidth=2)\n",
    "plt.plot(lstm_fpr, lstm_tpr, color='coral', linewidth=2)\n",
    "plt.plot(bi_fpr, bi_tpr, color='gold', linewidth=2)\n",
    "plt.plot(cl_fpr, cl_tpr, color='forestgreen', linewidth=2)\n",
    "plt.plot(cbi_fpr, cbi_tpr, color='cornflowerblue', linewidth=2)\n",
    "\n",
    "# lightcoral salmon coral darkorange crimson deepskyblue gold forestgreen seagreen cornflowerblue darkorchid\n",
    "\n",
    "plt.title('ROC Curve')\n",
    "plt.xlabel('False Positive Rate')\n",
    "plt.ylabel('True Positive Rate')\n",
    "\n",
    "plt.legend(['CNN (AUC = ' + str(round(cnn_auc,4)) + ')', 'LSTM (AUC = ' + str(round(lstm_auc,4)) + ')',\n",
    "            'BiLSTM (AUC = ' + str(round(bi_auc,4)) + ')', 'CNN-LSTM (AUC = ' + str(round(cl_auc,4)) + ')',\n",
    "            'CNN-BiLSTM (AUC = ' + str(round(cbi_auc,4)) + ')'], loc='lower right')\n",
    "\n",
    "plt.show()"
   ]
  },
  {
   "cell_type": "code",
   "execution_count": null,
   "metadata": {},
   "outputs": [],
   "source": []
  }
 ],
 "metadata": {
  "accelerator": "GPU",
  "colab": {
   "collapsed_sections": [],
   "name": "Model_Comparison.ipynb",
   "provenance": [],
   "toc_visible": true
  },
  "kernelspec": {
   "display_name": "Python 3",
   "language": "python",
   "name": "python3"
  },
  "language_info": {
   "codemirror_mode": {
    "name": "ipython",
    "version": 3
   },
   "file_extension": ".py",
   "mimetype": "text/x-python",
   "name": "python",
   "nbconvert_exporter": "python",
   "pygments_lexer": "ipython3",
   "version": "3.7.4"
  }
 },
 "nbformat": 4,
 "nbformat_minor": 1
}
