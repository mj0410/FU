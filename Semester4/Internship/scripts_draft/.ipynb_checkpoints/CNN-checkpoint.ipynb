{
 "cells": [
  {
   "cell_type": "code",
   "execution_count": 1,
   "metadata": {
    "id": "eIOGkIB6XFUZ"
   },
   "outputs": [
    {
     "name": "stderr",
     "output_type": "stream",
     "text": [
      "Using TensorFlow backend.\n"
     ]
    }
   ],
   "source": [
    "import tarfile\n",
    "import pandas as pd\n",
    "import numpy as np\n",
    "import re\n",
    "\n",
    "from sklearn.preprocessing import LabelEncoder\n",
    "from sklearn.preprocessing import OneHotEncoder\n",
    "from sklearn.metrics import precision_recall_curve\n",
    "from sklearn.metrics import roc_curve\n",
    "from sklearn.metrics import roc_auc_score\n",
    "\n",
    "from keras.utils import to_categorical\n",
    "from keras.models import Sequential\n",
    "from keras.layers import Dense, Dropout, Activation, Flatten\n",
    "from keras.layers import Conv1D, MaxPooling1D\n",
    "\n",
    "from sklearn.model_selection import GridSearchCV\n",
    "from keras.wrappers.scikit_learn import KerasClassifier\n",
    "\n",
    "from matplotlib import pyplot as plt"
   ]
  },
  {
   "cell_type": "markdown",
   "metadata": {
    "id": "50wt8MJjaB_7"
   },
   "source": [
    "### Read data"
   ]
  },
  {
   "cell_type": "code",
   "execution_count": 2,
   "metadata": {
    "id": "Y8my459WYZmG"
   },
   "outputs": [],
   "source": [
    "filename = \"training_data.tar.gz\"\n",
    "\n",
    "data = tarfile.open(filename, \"r:gz\")\n",
    "data.extractall()\n",
    "data.close()"
   ]
  },
  {
   "cell_type": "code",
   "execution_count": 3,
   "metadata": {
    "id": "UBZNL_hjY6mE"
   },
   "outputs": [],
   "source": [
    "b = open('ghl_gold.fa','r')\n",
    "bind = b.readlines()\n",
    "b.close()\n",
    "\n",
    "u = open('ghl_gold_random.fa','r')\n",
    "unbind = u.readlines()\n",
    "u.close()"
   ]
  },
  {
   "cell_type": "markdown",
   "metadata": {
    "id": "vha3FF0GaGZF"
   },
   "source": [
    "### Data preprocessing"
   ]
  },
  {
   "cell_type": "code",
   "execution_count": 4,
   "metadata": {
    "id": "v9welhjpanPv"
   },
   "outputs": [],
   "source": [
    "bind = [v for v in bind if '>' not in v]\n",
    "bind = [s.replace('\\n', '') for s in bind]\n",
    "bind = [x.upper() for x in bind]\n",
    "\n",
    "unbind = [v for v in unbind if '>' not in v]\n",
    "unbind = [s.replace('\\n', '') for s in unbind]\n",
    "unbind = [x.upper() for x in unbind]"
   ]
  },
  {
   "cell_type": "code",
   "execution_count": 5,
   "metadata": {},
   "outputs": [],
   "source": [
    "import random\n",
    "test_bind = random.sample(bind, 100000)\n",
    "test_unbind = random.sample(unbind, 100000)"
   ]
  },
  {
   "cell_type": "code",
   "execution_count": 6,
   "metadata": {
    "id": "eivsf0x2VfA3"
   },
   "outputs": [],
   "source": [
    "df = pd.DataFrame({'seq':[], 'label':[]})"
   ]
  },
  {
   "cell_type": "code",
   "execution_count": 7,
   "metadata": {
    "colab": {
     "base_uri": "https://localhost:8080/"
    },
    "id": "SnTPRkO4x4At",
    "outputId": "c8eedf6d-90ae-4a7c-f05c-5fa6ccf48553"
   },
   "outputs": [
    {
     "data": {
      "text/plain": [
       "LabelEncoder()"
      ]
     },
     "execution_count": 7,
     "metadata": {},
     "output_type": "execute_result"
    }
   ],
   "source": [
    "LE = LabelEncoder()\n",
    "LE.fit(['A', 'C', 'G', 'T', 'N'])"
   ]
  },
  {
   "cell_type": "code",
   "execution_count": null,
   "metadata": {},
   "outputs": [],
   "source": [
    "from datetime import datetime\n",
    "\n",
    "start = datetime.now()\n",
    "\n",
    "for i in range(len(bind)):\n",
    "  label_encoded = LE.transform(list(bind[i]))\n",
    "  df = df.append({'seq':label_encoded, 'label':1}, ignore_index=True)\n",
    "\n",
    "for i in range(len(unbind)):\n",
    "  label_encoded = LE.transform(list(unbind[i]))\n",
    "  df = df.append({'seq':label_encoded, 'label':0}, ignore_index=True)\n",
    "    \n",
    "end = datetime.now()\n",
    "print(end-start)"
   ]
  },
  {
   "cell_type": "markdown",
   "metadata": {
    "id": "_zu7lz0Wfuwv"
   },
   "source": [
    "##### split the dataset"
   ]
  },
  {
   "cell_type": "code",
   "execution_count": null,
   "metadata": {
    "id": "nNGtJxlpcRi0"
   },
   "outputs": [],
   "source": [
    "from sklearn.utils import shuffle\n",
    "\n",
    "new_df = shuffle(df)"
   ]
  },
  {
   "cell_type": "code",
   "execution_count": null,
   "metadata": {
    "id": "R9Pwyf2Ddco6"
   },
   "outputs": [],
   "source": [
    "x = new_df.seq\n",
    "y = new_df.label"
   ]
  },
  {
   "cell_type": "code",
   "execution_count": null,
   "metadata": {
    "id": "n7kh3l_GdBp8"
   },
   "outputs": [],
   "source": [
    "from sklearn.model_selection import train_test_split\n",
    "\n",
    "x_train, x_test, y_train, y_test = train_test_split(x, y, test_size=0.2, random_state=40)"
   ]
  },
  {
   "cell_type": "code",
   "execution_count": null,
   "metadata": {
    "id": "3DXFchWyf733"
   },
   "outputs": [],
   "source": [
    "x_train = to_categorical(x_train.values.tolist())\n",
    "x_test = to_categorical(x_test.values.tolist())\n",
    "\n",
    "y_train = to_categorical(y_train.values.tolist())\n",
    "y_t = to_categorical(y_test.values.tolist())"
   ]
  },
  {
   "cell_type": "markdown",
   "metadata": {
    "id": "_pl7cuzzi9cG"
   },
   "source": [
    "### CNN model"
   ]
  },
  {
   "cell_type": "code",
   "execution_count": null,
   "metadata": {
    "id": "6jwBfnc35eNo"
   },
   "outputs": [],
   "source": [
    "model=Sequential()\n",
    "model.add(Conv1D(filters=64, kernel_size=3, strides=1, padding='valid', input_shape=(20,5), activation='relu'))\n",
    "model.add(MaxPooling1D(pool_size=3, strides=1, padding='valid'))\n",
    "model.add(Flatten())\n",
    "model.add(Dense(128, activation='relu'))\n",
    "model.add(Dropout(0.2))\n",
    "model.add(Dense(2, activation='softmax'))\n",
    "model.compile(optimizer='adam', loss='categorical_crossentropy', metrics=['accuracy'])"
   ]
  },
  {
   "cell_type": "code",
   "execution_count": null,
   "metadata": {
    "id": "jYQ7z51p8O7d"
   },
   "outputs": [],
   "source": [
    "model.summary()"
   ]
  },
  {
   "cell_type": "code",
   "execution_count": null,
   "metadata": {
    "id": "8XQkX_xJ1ZQ5"
   },
   "outputs": [],
   "source": [
    "history = model.fit(x_train, y_train, epochs=200, validation_split = 0.15)"
   ]
  },
  {
   "cell_type": "markdown",
   "metadata": {
    "id": "6X-swJeIm8Sv"
   },
   "source": [
    "##### Evaluation"
   ]
  },
  {
   "cell_type": "markdown",
   "metadata": {
    "id": "RErs9eW5jlXe"
   },
   "source": [
    "Accuracy"
   ]
  },
  {
   "cell_type": "code",
   "execution_count": null,
   "metadata": {
    "colab": {
     "base_uri": "https://localhost:8080/"
    },
    "id": "jNvaieI51aSp",
    "outputId": "c75b8995-e586-4ddf-eca2-fb26ff53b77b"
   },
   "outputs": [],
   "source": [
    "score = model.evaluate(x_test, y_t, verbose=1)\n",
    "print(\"score = \" + str(round(score[1],2)))"
   ]
  },
  {
   "cell_type": "markdown",
   "metadata": {
    "id": "mKttxzpgjnkv"
   },
   "source": [
    "loss-epoch curve"
   ]
  },
  {
   "cell_type": "code",
   "execution_count": null,
   "metadata": {
    "colab": {
     "base_uri": "https://localhost:8080/",
     "height": 295
    },
    "id": "KXBqRGgvHEXc",
    "outputId": "6f2fc13c-3d8a-4261-ed8f-9929c25e0e56"
   },
   "outputs": [],
   "source": [
    "plt.plot(history.history['loss'])\n",
    "plt.plot(history.history['val_loss'])\n",
    "plt.title('Model loss')\n",
    "plt.ylabel('Loss')\n",
    "plt.xlabel('Epoch')\n",
    "plt.legend(['train', 'val'], loc='upper right')\n",
    "plt.show()"
   ]
  },
  {
   "cell_type": "markdown",
   "metadata": {
    "id": "vi4GYKutj4MO"
   },
   "source": [
    "precision-recall curve"
   ]
  },
  {
   "cell_type": "code",
   "execution_count": null,
   "metadata": {
    "id": "smm9t2b5JwHs"
   },
   "outputs": [],
   "source": [
    "probs = model.predict(x_test, verbose=0)[:,1]"
   ]
  },
  {
   "cell_type": "code",
   "execution_count": null,
   "metadata": {
    "id": "-NiRh5hLLMO-"
   },
   "outputs": [],
   "source": [
    "precision, recall, thresholds = precision_recall_curve(y_test.values, probs)"
   ]
  },
  {
   "cell_type": "code",
   "execution_count": null,
   "metadata": {
    "colab": {
     "base_uri": "https://localhost:8080/",
     "height": 295
    },
    "id": "FFlZeLK1MLIb",
    "outputId": "1b73cb6b-5655-48a6-91c6-cc90dc039adf"
   },
   "outputs": [],
   "source": [
    "plt.plot(recall, precision)\n",
    "\n",
    "plt.title('Precision-Recall Curve')\n",
    "\n",
    "plt.xlabel('Recall')\n",
    "plt.ylabel('Precision')\n",
    "\n",
    "# plt.legend()\n",
    "plt.show()"
   ]
  },
  {
   "cell_type": "markdown",
   "metadata": {
    "id": "C-zhHrrKj63p"
   },
   "source": [
    "ROC curve & AUC"
   ]
  },
  {
   "cell_type": "code",
   "execution_count": null,
   "metadata": {
    "colab": {
     "base_uri": "https://localhost:8080/",
     "height": 295
    },
    "id": "2iU45gfTNHiy",
    "outputId": "cb579ca9-2805-4ca0-f648-308864631ce9"
   },
   "outputs": [],
   "source": [
    "auc = roc_auc_score(y_test.values, probs)\n",
    "fpr, tpr, _ = roc_curve(y_test.values, probs)\n",
    "\n",
    "plt.plot(fpr, tpr)\n",
    "plt.title('ROC Curve (AUC = ' + str(round(auc,2)) + ')')\n",
    "plt.xlabel('False Positive Rate')\n",
    "plt.ylabel('True Positive Rate')\n",
    "plt.show()"
   ]
  },
  {
   "cell_type": "code",
   "execution_count": null,
   "metadata": {},
   "outputs": [],
   "source": []
  }
 ],
 "metadata": {
  "colab": {
   "collapsed_sections": [],
   "name": "CNN.ipynb",
   "provenance": [],
   "toc_visible": true
  },
  "kernelspec": {
   "display_name": "Python 3",
   "language": "python",
   "name": "python3"
  },
  "language_info": {
   "codemirror_mode": {
    "name": "ipython",
    "version": 3
   },
   "file_extension": ".py",
   "mimetype": "text/x-python",
   "name": "python",
   "nbconvert_exporter": "python",
   "pygments_lexer": "ipython3",
   "version": "3.7.6"
  }
 },
 "nbformat": 4,
 "nbformat_minor": 1
}
