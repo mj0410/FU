{
  "nbformat": 4,
  "nbformat_minor": 0,
  "metadata": {
    "colab": {
      "name": "project-1.ipynb",
      "provenance": [],
      "collapsed_sections": [],
      "toc_visible": true
    },
    "kernelspec": {
      "name": "python3",
      "display_name": "Python 3"
    }
  },
  "cells": [
    {
      "cell_type": "markdown",
      "metadata": {
        "id": "sez3zyFv-yD-",
        "colab_type": "text"
      },
      "source": [
        "Project-1\n",
        "\n",
        "Maintainer's Name: \n",
        "1. Minie Jung\n",
        "2. Kunaphas Kongkitimanon\n",
        "3. Chang Wan-Ju\n",
        "\n",
        "Machine leraning method\n",
        "* Multinomial Logistic Regression\n",
        "* Support Vector Machines\n",
        "* K-Nearest Neighbor\n",
        "* Decision Trees\n",
        "* Random Forest\n"
      ]
    },
    {
      "cell_type": "code",
      "metadata": {
        "id": "Czc0wOFPNVcE",
        "colab_type": "code",
        "colab": {}
      },
      "source": [
        "# import libraries\n",
        "import numpy as np # linear algebra\n",
        "import pandas as pd # data processing, CSV file I/O (e.g. pd.read_csv)\n",
        "import seaborn as sns\n",
        "import matplotlib.pyplot as plt\n",
        "%matplotlib inline\n",
        "import warnings\n",
        "warnings.filterwarnings(\"ignore\")\n",
        "import sklearn\n",
        "from sklearn.model_selection import KFold, cross_val_score"
      ],
      "execution_count": 0,
      "outputs": []
    },
    {
      "cell_type": "markdown",
      "metadata": {
        "id": "xxRVk1tlyKev",
        "colab_type": "text"
      },
      "source": [
        "## Data preprocessing \n",
        "Load data"
      ]
    },
    {
      "cell_type": "code",
      "metadata": {
        "id": "QtwkFNLBK_tx",
        "colab_type": "code",
        "outputId": "1c96c3a7-c1fd-45f2-d71b-07efbad15602",
        "colab": {
          "base_uri": "https://localhost:8080/",
          "height": 336
        }
      },
      "source": [
        "col_names=[\"age\",\"sex\", \"cp\", \"trestbps\", \"chol\", \"fbs\", \"restecg\", \"thalach\", \"exang\", \"oldpeak\", \"slope\", \"ca\", \"thal\", \"target\"]\n",
        "\n",
        "df = pd.read_csv(\"processed.cleveland.data\",header=None, names=col_names, na_values=\"?\")\n",
        "#df = pd.read_csv(\"processed.merged.data\", na_values=\"?\")\n",
        "\n",
        "df.info()"
      ],
      "execution_count": 0,
      "outputs": [
        {
          "output_type": "stream",
          "text": [
            "<class 'pandas.core.frame.DataFrame'>\n",
            "RangeIndex: 303 entries, 0 to 302\n",
            "Data columns (total 14 columns):\n",
            "age         303 non-null float64\n",
            "sex         303 non-null float64\n",
            "cp          303 non-null float64\n",
            "trestbps    303 non-null float64\n",
            "chol        303 non-null float64\n",
            "fbs         303 non-null float64\n",
            "restecg     303 non-null float64\n",
            "thalach     303 non-null float64\n",
            "exang       303 non-null float64\n",
            "oldpeak     303 non-null float64\n",
            "slope       303 non-null float64\n",
            "ca          299 non-null float64\n",
            "thal        301 non-null float64\n",
            "target      303 non-null int64\n",
            "dtypes: float64(13), int64(1)\n",
            "memory usage: 33.3 KB\n"
          ],
          "name": "stdout"
        }
      ]
    },
    {
      "cell_type": "markdown",
      "metadata": {
        "id": "TDY-cInWFJTq",
        "colab_type": "text"
      },
      "source": [
        "Visualize all data"
      ]
    },
    {
      "cell_type": "code",
      "metadata": {
        "id": "feqLjtQYFIfD",
        "colab_type": "code",
        "outputId": "20574f26-d777-4e5d-dfb3-28278246fff4",
        "colab": {
          "base_uri": "https://localhost:8080/",
          "height": 402
        }
      },
      "source": [
        "df"
      ],
      "execution_count": 0,
      "outputs": [
        {
          "output_type": "execute_result",
          "data": {
            "text/html": [
              "<div>\n",
              "<style scoped>\n",
              "    .dataframe tbody tr th:only-of-type {\n",
              "        vertical-align: middle;\n",
              "    }\n",
              "\n",
              "    .dataframe tbody tr th {\n",
              "        vertical-align: top;\n",
              "    }\n",
              "\n",
              "    .dataframe thead th {\n",
              "        text-align: right;\n",
              "    }\n",
              "</style>\n",
              "<table border=\"1\" class=\"dataframe\">\n",
              "  <thead>\n",
              "    <tr style=\"text-align: right;\">\n",
              "      <th></th>\n",
              "      <th>age</th>\n",
              "      <th>sex</th>\n",
              "      <th>cp</th>\n",
              "      <th>trestbps</th>\n",
              "      <th>chol</th>\n",
              "      <th>fbs</th>\n",
              "      <th>restecg</th>\n",
              "      <th>thalach</th>\n",
              "      <th>exang</th>\n",
              "      <th>oldpeak</th>\n",
              "      <th>slope</th>\n",
              "      <th>ca</th>\n",
              "      <th>thal</th>\n",
              "      <th>target</th>\n",
              "    </tr>\n",
              "  </thead>\n",
              "  <tbody>\n",
              "    <tr>\n",
              "      <th>0</th>\n",
              "      <td>63.0</td>\n",
              "      <td>1.0</td>\n",
              "      <td>1.0</td>\n",
              "      <td>145.0</td>\n",
              "      <td>233.0</td>\n",
              "      <td>1.0</td>\n",
              "      <td>2.0</td>\n",
              "      <td>150.0</td>\n",
              "      <td>0.0</td>\n",
              "      <td>2.3</td>\n",
              "      <td>3.0</td>\n",
              "      <td>0.0</td>\n",
              "      <td>6.0</td>\n",
              "      <td>0</td>\n",
              "    </tr>\n",
              "    <tr>\n",
              "      <th>1</th>\n",
              "      <td>67.0</td>\n",
              "      <td>1.0</td>\n",
              "      <td>4.0</td>\n",
              "      <td>160.0</td>\n",
              "      <td>286.0</td>\n",
              "      <td>0.0</td>\n",
              "      <td>2.0</td>\n",
              "      <td>108.0</td>\n",
              "      <td>1.0</td>\n",
              "      <td>1.5</td>\n",
              "      <td>2.0</td>\n",
              "      <td>3.0</td>\n",
              "      <td>3.0</td>\n",
              "      <td>2</td>\n",
              "    </tr>\n",
              "    <tr>\n",
              "      <th>2</th>\n",
              "      <td>67.0</td>\n",
              "      <td>1.0</td>\n",
              "      <td>4.0</td>\n",
              "      <td>120.0</td>\n",
              "      <td>229.0</td>\n",
              "      <td>0.0</td>\n",
              "      <td>2.0</td>\n",
              "      <td>129.0</td>\n",
              "      <td>1.0</td>\n",
              "      <td>2.6</td>\n",
              "      <td>2.0</td>\n",
              "      <td>2.0</td>\n",
              "      <td>7.0</td>\n",
              "      <td>1</td>\n",
              "    </tr>\n",
              "    <tr>\n",
              "      <th>3</th>\n",
              "      <td>37.0</td>\n",
              "      <td>1.0</td>\n",
              "      <td>3.0</td>\n",
              "      <td>130.0</td>\n",
              "      <td>250.0</td>\n",
              "      <td>0.0</td>\n",
              "      <td>0.0</td>\n",
              "      <td>187.0</td>\n",
              "      <td>0.0</td>\n",
              "      <td>3.5</td>\n",
              "      <td>3.0</td>\n",
              "      <td>0.0</td>\n",
              "      <td>3.0</td>\n",
              "      <td>0</td>\n",
              "    </tr>\n",
              "    <tr>\n",
              "      <th>4</th>\n",
              "      <td>41.0</td>\n",
              "      <td>0.0</td>\n",
              "      <td>2.0</td>\n",
              "      <td>130.0</td>\n",
              "      <td>204.0</td>\n",
              "      <td>0.0</td>\n",
              "      <td>2.0</td>\n",
              "      <td>172.0</td>\n",
              "      <td>0.0</td>\n",
              "      <td>1.4</td>\n",
              "      <td>1.0</td>\n",
              "      <td>0.0</td>\n",
              "      <td>3.0</td>\n",
              "      <td>0</td>\n",
              "    </tr>\n",
              "    <tr>\n",
              "      <th>...</th>\n",
              "      <td>...</td>\n",
              "      <td>...</td>\n",
              "      <td>...</td>\n",
              "      <td>...</td>\n",
              "      <td>...</td>\n",
              "      <td>...</td>\n",
              "      <td>...</td>\n",
              "      <td>...</td>\n",
              "      <td>...</td>\n",
              "      <td>...</td>\n",
              "      <td>...</td>\n",
              "      <td>...</td>\n",
              "      <td>...</td>\n",
              "      <td>...</td>\n",
              "    </tr>\n",
              "    <tr>\n",
              "      <th>298</th>\n",
              "      <td>45.0</td>\n",
              "      <td>1.0</td>\n",
              "      <td>1.0</td>\n",
              "      <td>110.0</td>\n",
              "      <td>264.0</td>\n",
              "      <td>0.0</td>\n",
              "      <td>0.0</td>\n",
              "      <td>132.0</td>\n",
              "      <td>0.0</td>\n",
              "      <td>1.2</td>\n",
              "      <td>2.0</td>\n",
              "      <td>0.0</td>\n",
              "      <td>7.0</td>\n",
              "      <td>1</td>\n",
              "    </tr>\n",
              "    <tr>\n",
              "      <th>299</th>\n",
              "      <td>68.0</td>\n",
              "      <td>1.0</td>\n",
              "      <td>4.0</td>\n",
              "      <td>144.0</td>\n",
              "      <td>193.0</td>\n",
              "      <td>1.0</td>\n",
              "      <td>0.0</td>\n",
              "      <td>141.0</td>\n",
              "      <td>0.0</td>\n",
              "      <td>3.4</td>\n",
              "      <td>2.0</td>\n",
              "      <td>2.0</td>\n",
              "      <td>7.0</td>\n",
              "      <td>2</td>\n",
              "    </tr>\n",
              "    <tr>\n",
              "      <th>300</th>\n",
              "      <td>57.0</td>\n",
              "      <td>1.0</td>\n",
              "      <td>4.0</td>\n",
              "      <td>130.0</td>\n",
              "      <td>131.0</td>\n",
              "      <td>0.0</td>\n",
              "      <td>0.0</td>\n",
              "      <td>115.0</td>\n",
              "      <td>1.0</td>\n",
              "      <td>1.2</td>\n",
              "      <td>2.0</td>\n",
              "      <td>1.0</td>\n",
              "      <td>7.0</td>\n",
              "      <td>3</td>\n",
              "    </tr>\n",
              "    <tr>\n",
              "      <th>301</th>\n",
              "      <td>57.0</td>\n",
              "      <td>0.0</td>\n",
              "      <td>2.0</td>\n",
              "      <td>130.0</td>\n",
              "      <td>236.0</td>\n",
              "      <td>0.0</td>\n",
              "      <td>2.0</td>\n",
              "      <td>174.0</td>\n",
              "      <td>0.0</td>\n",
              "      <td>0.0</td>\n",
              "      <td>2.0</td>\n",
              "      <td>1.0</td>\n",
              "      <td>3.0</td>\n",
              "      <td>1</td>\n",
              "    </tr>\n",
              "    <tr>\n",
              "      <th>302</th>\n",
              "      <td>38.0</td>\n",
              "      <td>1.0</td>\n",
              "      <td>3.0</td>\n",
              "      <td>138.0</td>\n",
              "      <td>175.0</td>\n",
              "      <td>0.0</td>\n",
              "      <td>0.0</td>\n",
              "      <td>173.0</td>\n",
              "      <td>0.0</td>\n",
              "      <td>0.0</td>\n",
              "      <td>1.0</td>\n",
              "      <td>NaN</td>\n",
              "      <td>3.0</td>\n",
              "      <td>0</td>\n",
              "    </tr>\n",
              "  </tbody>\n",
              "</table>\n",
              "<p>303 rows × 14 columns</p>\n",
              "</div>"
            ],
            "text/plain": [
              "      age  sex   cp  trestbps   chol  ...  oldpeak  slope   ca  thal  target\n",
              "0    63.0  1.0  1.0     145.0  233.0  ...      2.3    3.0  0.0   6.0       0\n",
              "1    67.0  1.0  4.0     160.0  286.0  ...      1.5    2.0  3.0   3.0       2\n",
              "2    67.0  1.0  4.0     120.0  229.0  ...      2.6    2.0  2.0   7.0       1\n",
              "3    37.0  1.0  3.0     130.0  250.0  ...      3.5    3.0  0.0   3.0       0\n",
              "4    41.0  0.0  2.0     130.0  204.0  ...      1.4    1.0  0.0   3.0       0\n",
              "..    ...  ...  ...       ...    ...  ...      ...    ...  ...   ...     ...\n",
              "298  45.0  1.0  1.0     110.0  264.0  ...      1.2    2.0  0.0   7.0       1\n",
              "299  68.0  1.0  4.0     144.0  193.0  ...      3.4    2.0  2.0   7.0       2\n",
              "300  57.0  1.0  4.0     130.0  131.0  ...      1.2    2.0  1.0   7.0       3\n",
              "301  57.0  0.0  2.0     130.0  236.0  ...      0.0    2.0  1.0   3.0       1\n",
              "302  38.0  1.0  3.0     138.0  175.0  ...      0.0    1.0  NaN   3.0       0\n",
              "\n",
              "[303 rows x 14 columns]"
            ]
          },
          "metadata": {
            "tags": []
          },
          "execution_count": 61
        }
      ]
    },
    {
      "cell_type": "markdown",
      "metadata": {
        "id": "UebHXIVMEm7k",
        "colab_type": "text"
      },
      "source": [
        "### Taking care of missing data\n"
      ]
    },
    {
      "cell_type": "markdown",
      "metadata": {
        "id": "DDV8nGE6P-75",
        "colab_type": "text"
      },
      "source": [
        "Identify missing value in a dataset"
      ]
    },
    {
      "cell_type": "code",
      "metadata": {
        "id": "DhjJXAc1P231",
        "colab_type": "code",
        "outputId": "1c5e4880-de82-4844-c3e8-e0036c9a496d",
        "colab": {
          "base_uri": "https://localhost:8080/",
          "height": 887
        }
      },
      "source": [
        "total = df.isnull().sum().sort_values(ascending=False)\n",
        "percent = ((df.isnull().sum()/df.isnull().count())*100).sort_values(ascending=False)\n",
        "missing_data = pd.concat([total, percent], axis=1, keys=['Total', 'Percent'])\n",
        "f, ax = plt.subplots(figsize=(15, 6))\n",
        "plt.xticks(rotation='90')\n",
        "sns.barplot(x=missing_data.index, y=missing_data['Percent'])\n",
        "plt.xlabel('Features', fontsize=15)\n",
        "plt.ylabel('Percent of missing values', fontsize=15)\n",
        "plt.title('Percent missing data by feature', fontsize=15)\n",
        "missing_data"
      ],
      "execution_count": 0,
      "outputs": [
        {
          "output_type": "execute_result",
          "data": {
            "text/html": [
              "<div>\n",
              "<style scoped>\n",
              "    .dataframe tbody tr th:only-of-type {\n",
              "        vertical-align: middle;\n",
              "    }\n",
              "\n",
              "    .dataframe tbody tr th {\n",
              "        vertical-align: top;\n",
              "    }\n",
              "\n",
              "    .dataframe thead th {\n",
              "        text-align: right;\n",
              "    }\n",
              "</style>\n",
              "<table border=\"1\" class=\"dataframe\">\n",
              "  <thead>\n",
              "    <tr style=\"text-align: right;\">\n",
              "      <th></th>\n",
              "      <th>Total</th>\n",
              "      <th>Percent</th>\n",
              "    </tr>\n",
              "  </thead>\n",
              "  <tbody>\n",
              "    <tr>\n",
              "      <th>ca</th>\n",
              "      <td>4</td>\n",
              "      <td>1.320132</td>\n",
              "    </tr>\n",
              "    <tr>\n",
              "      <th>thal</th>\n",
              "      <td>2</td>\n",
              "      <td>0.660066</td>\n",
              "    </tr>\n",
              "    <tr>\n",
              "      <th>target</th>\n",
              "      <td>0</td>\n",
              "      <td>0.000000</td>\n",
              "    </tr>\n",
              "    <tr>\n",
              "      <th>slope</th>\n",
              "      <td>0</td>\n",
              "      <td>0.000000</td>\n",
              "    </tr>\n",
              "    <tr>\n",
              "      <th>oldpeak</th>\n",
              "      <td>0</td>\n",
              "      <td>0.000000</td>\n",
              "    </tr>\n",
              "    <tr>\n",
              "      <th>exang</th>\n",
              "      <td>0</td>\n",
              "      <td>0.000000</td>\n",
              "    </tr>\n",
              "    <tr>\n",
              "      <th>thalach</th>\n",
              "      <td>0</td>\n",
              "      <td>0.000000</td>\n",
              "    </tr>\n",
              "    <tr>\n",
              "      <th>restecg</th>\n",
              "      <td>0</td>\n",
              "      <td>0.000000</td>\n",
              "    </tr>\n",
              "    <tr>\n",
              "      <th>fbs</th>\n",
              "      <td>0</td>\n",
              "      <td>0.000000</td>\n",
              "    </tr>\n",
              "    <tr>\n",
              "      <th>chol</th>\n",
              "      <td>0</td>\n",
              "      <td>0.000000</td>\n",
              "    </tr>\n",
              "    <tr>\n",
              "      <th>trestbps</th>\n",
              "      <td>0</td>\n",
              "      <td>0.000000</td>\n",
              "    </tr>\n",
              "    <tr>\n",
              "      <th>cp</th>\n",
              "      <td>0</td>\n",
              "      <td>0.000000</td>\n",
              "    </tr>\n",
              "    <tr>\n",
              "      <th>sex</th>\n",
              "      <td>0</td>\n",
              "      <td>0.000000</td>\n",
              "    </tr>\n",
              "    <tr>\n",
              "      <th>age</th>\n",
              "      <td>0</td>\n",
              "      <td>0.000000</td>\n",
              "    </tr>\n",
              "  </tbody>\n",
              "</table>\n",
              "</div>"
            ],
            "text/plain": [
              "          Total   Percent\n",
              "ca            4  1.320132\n",
              "thal          2  0.660066\n",
              "target        0  0.000000\n",
              "slope         0  0.000000\n",
              "oldpeak       0  0.000000\n",
              "exang         0  0.000000\n",
              "thalach       0  0.000000\n",
              "restecg       0  0.000000\n",
              "fbs           0  0.000000\n",
              "chol          0  0.000000\n",
              "trestbps      0  0.000000\n",
              "cp            0  0.000000\n",
              "sex           0  0.000000\n",
              "age           0  0.000000"
            ]
          },
          "metadata": {
            "tags": []
          },
          "execution_count": 62
        },
        {
          "output_type": "display_data",
          "data": {
            "image/png": "[encoded data removed]",
            "text/plain": [
              "<Figure size 1080x432 with 1 Axes>"
            ]
          },
          "metadata": {
            "tags": []
          }
        }
      ]
    },
    {
      "cell_type": "markdown",
      "metadata": {
        "id": "3CpRuf1IZm9L",
        "colab_type": "text"
      },
      "source": [
        "Univariate feature imputation"
      ]
    },
    {
      "cell_type": "code",
      "metadata": {
        "id": "KOp_9tkqugnz",
        "colab_type": "code",
        "colab": {}
      },
      "source": [
        "#change thal value\n",
        "\n",
        "for i in range(0,len(df)) :\n",
        "  value = df[\"thal\"][i]\n",
        "  if value == 3 :\n",
        "    df[\"thal\"][i] = 0\n",
        "  elif value == 6 :\n",
        "    df[\"thal\"][i] = 1\n",
        "  elif value == 7 : \n",
        "    df[\"thal\"][i] = 2\n",
        "  else : \n",
        "    df[\"thal\"][i] = value"
      ],
      "execution_count": 0,
      "outputs": []
    },
    {
      "cell_type": "code",
      "metadata": {
        "id": "8BY-O6qoZlEF",
        "colab_type": "code",
        "outputId": "7ff49c0c-66c3-4017-9498-00ea2cc9081f",
        "colab": {
          "base_uri": "https://localhost:8080/",
          "height": 638
        }
      },
      "source": [
        "from sklearn.experimental import enable_iterative_imputer\n",
        "from sklearn.impute import IterativeImputer , SimpleImputer\n",
        "\n",
        "# take care oldpeak \n",
        "df_oldpeak =pd.DataFrame(data=df[\"oldpeak\"].to_numpy(),columns=[\"oldpeak\"])   \n",
        "imp = SimpleImputer(strategy  =\"mean\")\n",
        "imp.fit(df_oldpeak.to_numpy())  \n",
        "_oldpeak = np.around(imp.transform(df_oldpeak.to_numpy() ), decimals=1) # round to the given number of decimals.\n",
        "\n",
        "# take care thal\n",
        "df_thal =pd.DataFrame(data=df[\"thal\"].to_numpy(),columns=[\"thal\"])   \n",
        "imp = SimpleImputer(strategy  =\"median\")\n",
        "imp.fit(df_thal.to_numpy())  \n",
        "_thal = np.round(imp.transform(df_thal.to_numpy() ))\n",
        "\n",
        "# All remaing columns\n",
        "imp = SimpleImputer(strategy  =\"mean\")\n",
        "imp.fit(df.to_numpy())\n",
        "np_imputed =  np.round(imp.transform(df.to_numpy()))\n",
        "\n",
        "# Comvert NP array to data frame\n",
        "df =  pd.DataFrame(data=np_imputed[:,:],columns=col_names)  \n",
        "df[\"oldpeak\"] = _oldpeak\n",
        "df[\"thal\"] = _thal\n",
        "\n",
        "for col in df:\n",
        "    print(col , df[col].unique())"
      ],
      "execution_count": 0,
      "outputs": [
        {
          "output_type": "stream",
          "text": [
            "age [63. 67. 37. 41. 56. 62. 57. 53. 44. 52. 48. 54. 49. 64. 58. 60. 50. 66.\n",
            " 43. 40. 69. 59. 42. 55. 61. 65. 71. 51. 46. 45. 39. 68. 47. 34. 35. 29.\n",
            " 70. 77. 38. 74. 76.]\n",
            "sex [1. 0.]\n",
            "cp [1. 4. 3. 2.]\n",
            "trestbps [145. 160. 120. 130. 140. 172. 150. 110. 132. 117. 135. 112. 105. 124.\n",
            " 125. 142. 128. 170. 155. 104. 180. 138. 108. 134. 122. 115. 118. 100.\n",
            " 200.  94. 165. 102. 152. 101. 126. 174. 148. 178. 158. 192. 129. 144.\n",
            " 123. 136. 146. 106. 156. 154. 114. 164.]\n",
            "chol [233. 286. 229. 250. 204. 236. 268. 354. 254. 203. 192. 294. 256. 263.\n",
            " 199. 168. 239. 275. 266. 211. 283. 284. 224. 206. 219. 340. 226. 247.\n",
            " 167. 230. 335. 234. 177. 276. 353. 243. 225. 302. 212. 330. 175. 417.\n",
            " 197. 198. 290. 253. 172. 273. 213. 305. 216. 304. 188. 282. 185. 232.\n",
            " 326. 231. 269. 267. 248. 360. 258. 308. 245. 270. 208. 264. 321. 274.\n",
            " 325. 235. 257. 164. 141. 252. 255. 201. 222. 260. 182. 303. 265. 309.\n",
            " 307. 249. 186. 341. 183. 407. 217. 288. 220. 209. 227. 261. 174. 281.\n",
            " 221. 205. 240. 289. 318. 298. 564. 246. 322. 299. 300. 293. 277. 214.\n",
            " 207. 223. 160. 394. 184. 315. 409. 244. 195. 196. 126. 313. 259. 200.\n",
            " 262. 215. 228. 193. 271. 210. 327. 149. 295. 306. 178. 237. 218. 242.\n",
            " 319. 166. 180. 311. 278. 342. 169. 187. 157. 176. 241. 131.]\n",
            "fbs [1. 0.]\n",
            "restecg [2. 0. 1.]\n",
            "thalach [150. 108. 129. 187. 172. 178. 160. 163. 147. 155. 148. 153. 142. 173.\n",
            " 162. 174. 168. 139. 171. 144. 132. 158. 114. 151. 161. 179. 120. 112.\n",
            " 137. 157. 169. 165. 123. 128. 152. 140. 188. 109. 125. 131. 170. 113.\n",
            "  99. 177. 141. 180. 111. 143. 182. 156. 115. 149. 145. 146. 175. 186.\n",
            " 185. 159. 130. 190. 136.  97. 127. 154. 133. 126. 202. 103. 166. 164.\n",
            " 184. 124. 122.  96. 138.  88. 105. 194. 195. 106. 167.  95. 192. 117.\n",
            " 121. 116.  71. 118. 181. 134.  90.]\n",
            "exang [0. 1.]\n",
            "oldpeak [2.3 1.5 2.6 3.5 1.4 0.8 3.6 0.6 3.1 0.4 1.3 0.  0.5 1.6 1.  1.2 0.2 1.8\n",
            " 3.2 2.4 2.  2.5 2.2 2.8 3.  3.4 6.2 4.  5.6 2.9 0.1 2.1 1.9 4.2 0.9 1.1\n",
            " 3.8 0.7 0.3 4.4]\n",
            "slope [3. 2. 1.]\n",
            "ca [0. 3. 2. 1.]\n",
            "thal [1. 0. 2.]\n",
            "target [0. 2. 1. 3. 4.]\n"
          ],
          "name": "stdout"
        }
      ]
    },
    {
      "cell_type": "markdown",
      "metadata": {
        "id": "ax46bNRoQsl1",
        "colab_type": "text"
      },
      "source": [
        "Check the 'NaN' value whether it's still exist or not"
      ]
    },
    {
      "cell_type": "code",
      "metadata": {
        "id": "ZDSfrync2EQB",
        "colab_type": "code",
        "outputId": "a3841e15-3c72-43d7-9fcf-2a95bf0af49b",
        "colab": {
          "base_uri": "https://localhost:8080/",
          "height": 47
        }
      },
      "source": [
        "# Summary\n",
        "# look at the actual data though, to confirm\n",
        "df[df.isna().any(axis=1)]"
      ],
      "execution_count": 0,
      "outputs": [
        {
          "output_type": "execute_result",
          "data": {
            "text/html": [
              "<div>\n",
              "<style scoped>\n",
              "    .dataframe tbody tr th:only-of-type {\n",
              "        vertical-align: middle;\n",
              "    }\n",
              "\n",
              "    .dataframe tbody tr th {\n",
              "        vertical-align: top;\n",
              "    }\n",
              "\n",
              "    .dataframe thead th {\n",
              "        text-align: right;\n",
              "    }\n",
              "</style>\n",
              "<table border=\"1\" class=\"dataframe\">\n",
              "  <thead>\n",
              "    <tr style=\"text-align: right;\">\n",
              "      <th></th>\n",
              "      <th>age</th>\n",
              "      <th>sex</th>\n",
              "      <th>cp</th>\n",
              "      <th>trestbps</th>\n",
              "      <th>chol</th>\n",
              "      <th>fbs</th>\n",
              "      <th>restecg</th>\n",
              "      <th>thalach</th>\n",
              "      <th>exang</th>\n",
              "      <th>oldpeak</th>\n",
              "      <th>slope</th>\n",
              "      <th>ca</th>\n",
              "      <th>thal</th>\n",
              "      <th>target</th>\n",
              "    </tr>\n",
              "  </thead>\n",
              "  <tbody>\n",
              "  </tbody>\n",
              "</table>\n",
              "</div>"
            ],
            "text/plain": [
              "Empty DataFrame\n",
              "Columns: [age, sex, cp, trestbps, chol, fbs, restecg, thalach, exang, oldpeak, slope, ca, thal, target]\n",
              "Index: []"
            ]
          },
          "metadata": {
            "tags": []
          },
          "execution_count": 65
        }
      ]
    },
    {
      "cell_type": "markdown",
      "metadata": {
        "id": "Zb0I6XVVXjjM",
        "colab_type": "text"
      },
      "source": [
        "### OneHotEndocer"
      ]
    },
    {
      "cell_type": "code",
      "metadata": {
        "id": "wJAdzqZVVBMs",
        "colab_type": "code",
        "outputId": "0bdca82d-4140-41c5-e618-db83b54dbb5d",
        "colab": {
          "base_uri": "https://localhost:8080/",
          "height": 402
        }
      },
      "source": [
        "need_encode_col = [\"restecg\", \"thal\", \"slope\", \"cp\"]\n",
        "df[need_encode_col] = df[need_encode_col].astype('int')\n",
        "df"
      ],
      "execution_count": 0,
      "outputs": [
        {
          "output_type": "execute_result",
          "data": {
            "text/html": [
              "<div>\n",
              "<style scoped>\n",
              "    .dataframe tbody tr th:only-of-type {\n",
              "        vertical-align: middle;\n",
              "    }\n",
              "\n",
              "    .dataframe tbody tr th {\n",
              "        vertical-align: top;\n",
              "    }\n",
              "\n",
              "    .dataframe thead th {\n",
              "        text-align: right;\n",
              "    }\n",
              "</style>\n",
              "<table border=\"1\" class=\"dataframe\">\n",
              "  <thead>\n",
              "    <tr style=\"text-align: right;\">\n",
              "      <th></th>\n",
              "      <th>age</th>\n",
              "      <th>sex</th>\n",
              "      <th>cp</th>\n",
              "      <th>trestbps</th>\n",
              "      <th>chol</th>\n",
              "      <th>fbs</th>\n",
              "      <th>restecg</th>\n",
              "      <th>thalach</th>\n",
              "      <th>exang</th>\n",
              "      <th>oldpeak</th>\n",
              "      <th>slope</th>\n",
              "      <th>ca</th>\n",
              "      <th>thal</th>\n",
              "      <th>target</th>\n",
              "    </tr>\n",
              "  </thead>\n",
              "  <tbody>\n",
              "    <tr>\n",
              "      <th>0</th>\n",
              "      <td>63.0</td>\n",
              "      <td>1.0</td>\n",
              "      <td>1</td>\n",
              "      <td>145.0</td>\n",
              "      <td>233.0</td>\n",
              "      <td>1.0</td>\n",
              "      <td>2</td>\n",
              "      <td>150.0</td>\n",
              "      <td>0.0</td>\n",
              "      <td>2.3</td>\n",
              "      <td>3</td>\n",
              "      <td>0.0</td>\n",
              "      <td>1</td>\n",
              "      <td>0.0</td>\n",
              "    </tr>\n",
              "    <tr>\n",
              "      <th>1</th>\n",
              "      <td>67.0</td>\n",
              "      <td>1.0</td>\n",
              "      <td>4</td>\n",
              "      <td>160.0</td>\n",
              "      <td>286.0</td>\n",
              "      <td>0.0</td>\n",
              "      <td>2</td>\n",
              "      <td>108.0</td>\n",
              "      <td>1.0</td>\n",
              "      <td>1.5</td>\n",
              "      <td>2</td>\n",
              "      <td>3.0</td>\n",
              "      <td>0</td>\n",
              "      <td>2.0</td>\n",
              "    </tr>\n",
              "    <tr>\n",
              "      <th>2</th>\n",
              "      <td>67.0</td>\n",
              "      <td>1.0</td>\n",
              "      <td>4</td>\n",
              "      <td>120.0</td>\n",
              "      <td>229.0</td>\n",
              "      <td>0.0</td>\n",
              "      <td>2</td>\n",
              "      <td>129.0</td>\n",
              "      <td>1.0</td>\n",
              "      <td>2.6</td>\n",
              "      <td>2</td>\n",
              "      <td>2.0</td>\n",
              "      <td>2</td>\n",
              "      <td>1.0</td>\n",
              "    </tr>\n",
              "    <tr>\n",
              "      <th>3</th>\n",
              "      <td>37.0</td>\n",
              "      <td>1.0</td>\n",
              "      <td>3</td>\n",
              "      <td>130.0</td>\n",
              "      <td>250.0</td>\n",
              "      <td>0.0</td>\n",
              "      <td>0</td>\n",
              "      <td>187.0</td>\n",
              "      <td>0.0</td>\n",
              "      <td>3.5</td>\n",
              "      <td>3</td>\n",
              "      <td>0.0</td>\n",
              "      <td>0</td>\n",
              "      <td>0.0</td>\n",
              "    </tr>\n",
              "    <tr>\n",
              "      <th>4</th>\n",
              "      <td>41.0</td>\n",
              "      <td>0.0</td>\n",
              "      <td>2</td>\n",
              "      <td>130.0</td>\n",
              "      <td>204.0</td>\n",
              "      <td>0.0</td>\n",
              "      <td>2</td>\n",
              "      <td>172.0</td>\n",
              "      <td>0.0</td>\n",
              "      <td>1.4</td>\n",
              "      <td>1</td>\n",
              "      <td>0.0</td>\n",
              "      <td>0</td>\n",
              "      <td>0.0</td>\n",
              "    </tr>\n",
              "    <tr>\n",
              "      <th>...</th>\n",
              "      <td>...</td>\n",
              "      <td>...</td>\n",
              "      <td>...</td>\n",
              "      <td>...</td>\n",
              "      <td>...</td>\n",
              "      <td>...</td>\n",
              "      <td>...</td>\n",
              "      <td>...</td>\n",
              "      <td>...</td>\n",
              "      <td>...</td>\n",
              "      <td>...</td>\n",
              "      <td>...</td>\n",
              "      <td>...</td>\n",
              "      <td>...</td>\n",
              "    </tr>\n",
              "    <tr>\n",
              "      <th>298</th>\n",
              "      <td>45.0</td>\n",
              "      <td>1.0</td>\n",
              "      <td>1</td>\n",
              "      <td>110.0</td>\n",
              "      <td>264.0</td>\n",
              "      <td>0.0</td>\n",
              "      <td>0</td>\n",
              "      <td>132.0</td>\n",
              "      <td>0.0</td>\n",
              "      <td>1.2</td>\n",
              "      <td>2</td>\n",
              "      <td>0.0</td>\n",
              "      <td>2</td>\n",
              "      <td>1.0</td>\n",
              "    </tr>\n",
              "    <tr>\n",
              "      <th>299</th>\n",
              "      <td>68.0</td>\n",
              "      <td>1.0</td>\n",
              "      <td>4</td>\n",
              "      <td>144.0</td>\n",
              "      <td>193.0</td>\n",
              "      <td>1.0</td>\n",
              "      <td>0</td>\n",
              "      <td>141.0</td>\n",
              "      <td>0.0</td>\n",
              "      <td>3.4</td>\n",
              "      <td>2</td>\n",
              "      <td>2.0</td>\n",
              "      <td>2</td>\n",
              "      <td>2.0</td>\n",
              "    </tr>\n",
              "    <tr>\n",
              "      <th>300</th>\n",
              "      <td>57.0</td>\n",
              "      <td>1.0</td>\n",
              "      <td>4</td>\n",
              "      <td>130.0</td>\n",
              "      <td>131.0</td>\n",
              "      <td>0.0</td>\n",
              "      <td>0</td>\n",
              "      <td>115.0</td>\n",
              "      <td>1.0</td>\n",
              "      <td>1.2</td>\n",
              "      <td>2</td>\n",
              "      <td>1.0</td>\n",
              "      <td>2</td>\n",
              "      <td>3.0</td>\n",
              "    </tr>\n",
              "    <tr>\n",
              "      <th>301</th>\n",
              "      <td>57.0</td>\n",
              "      <td>0.0</td>\n",
              "      <td>2</td>\n",
              "      <td>130.0</td>\n",
              "      <td>236.0</td>\n",
              "      <td>0.0</td>\n",
              "      <td>2</td>\n",
              "      <td>174.0</td>\n",
              "      <td>0.0</td>\n",
              "      <td>0.0</td>\n",
              "      <td>2</td>\n",
              "      <td>1.0</td>\n",
              "      <td>0</td>\n",
              "      <td>1.0</td>\n",
              "    </tr>\n",
              "    <tr>\n",
              "      <th>302</th>\n",
              "      <td>38.0</td>\n",
              "      <td>1.0</td>\n",
              "      <td>3</td>\n",
              "      <td>138.0</td>\n",
              "      <td>175.0</td>\n",
              "      <td>0.0</td>\n",
              "      <td>0</td>\n",
              "      <td>173.0</td>\n",
              "      <td>0.0</td>\n",
              "      <td>0.0</td>\n",
              "      <td>1</td>\n",
              "      <td>1.0</td>\n",
              "      <td>0</td>\n",
              "      <td>0.0</td>\n",
              "    </tr>\n",
              "  </tbody>\n",
              "</table>\n",
              "<p>303 rows × 14 columns</p>\n",
              "</div>"
            ],
            "text/plain": [
              "      age  sex  cp  trestbps   chol  ...  oldpeak  slope   ca  thal  target\n",
              "0    63.0  1.0   1     145.0  233.0  ...      2.3      3  0.0     1     0.0\n",
              "1    67.0  1.0   4     160.0  286.0  ...      1.5      2  3.0     0     2.0\n",
              "2    67.0  1.0   4     120.0  229.0  ...      2.6      2  2.0     2     1.0\n",
              "3    37.0  1.0   3     130.0  250.0  ...      3.5      3  0.0     0     0.0\n",
              "4    41.0  0.0   2     130.0  204.0  ...      1.4      1  0.0     0     0.0\n",
              "..    ...  ...  ..       ...    ...  ...      ...    ...  ...   ...     ...\n",
              "298  45.0  1.0   1     110.0  264.0  ...      1.2      2  0.0     2     1.0\n",
              "299  68.0  1.0   4     144.0  193.0  ...      3.4      2  2.0     2     2.0\n",
              "300  57.0  1.0   4     130.0  131.0  ...      1.2      2  1.0     2     3.0\n",
              "301  57.0  0.0   2     130.0  236.0  ...      0.0      2  1.0     0     1.0\n",
              "302  38.0  1.0   3     138.0  175.0  ...      0.0      1  1.0     0     0.0\n",
              "\n",
              "[303 rows x 14 columns]"
            ]
          },
          "metadata": {
            "tags": []
          },
          "execution_count": 73
        }
      ]
    },
    {
      "cell_type": "code",
      "metadata": {
        "id": "wQPd4iCMlPJh",
        "colab_type": "code",
        "outputId": "1ea609ab-f6c1-4c43-d587-48014a0bf392",
        "colab": {
          "base_uri": "https://localhost:8080/",
          "height": 215
        }
      },
      "source": [
        "def onehot(ser, num_classes=None):\n",
        "    \n",
        "    if num_classes == None:\n",
        "        num_classes = len(np.unique(ser))\n",
        "    return np.identity(num_classes)[ser]\n",
        "\n",
        "new_col_names = []\n",
        "need_encode_col = [\"restecg\", \"thal\", \"slope\", \"cp\"] \n",
        "no_encode_col = [col for col in df.columns if col not in need_encode_col]\n",
        "df_new = df[need_encode_col]\n",
        "new_df = df[no_encode_col]\n",
        "\n",
        "for col in need_encode_col:\n",
        "    #print(df[col])\n",
        "    if col == \"cp\":\n",
        "        df_new[col] = df_new[col]-1\n",
        "    elif col == \"slope\":\n",
        "        df_new[col] = df_new[col]-1\n",
        "               \n",
        "    num_classes = len(df[col].unique())\n",
        "    new_col_names = [f\"{col}_{i}\" for i in range(num_classes)]\n",
        "    encoded = pd.DataFrame(onehot(df_new[col], num_classes), columns=new_col_names, dtype=int)\n",
        "    new_df = pd.concat([new_df, encoded], axis=1)\n",
        "    \n",
        "new_df.head()\n"
      ],
      "execution_count": 0,
      "outputs": [
        {
          "output_type": "execute_result",
          "data": {
            "text/html": [
              "<div>\n",
              "<style scoped>\n",
              "    .dataframe tbody tr th:only-of-type {\n",
              "        vertical-align: middle;\n",
              "    }\n",
              "\n",
              "    .dataframe tbody tr th {\n",
              "        vertical-align: top;\n",
              "    }\n",
              "\n",
              "    .dataframe thead th {\n",
              "        text-align: right;\n",
              "    }\n",
              "</style>\n",
              "<table border=\"1\" class=\"dataframe\">\n",
              "  <thead>\n",
              "    <tr style=\"text-align: right;\">\n",
              "      <th></th>\n",
              "      <th>age</th>\n",
              "      <th>sex</th>\n",
              "      <th>trestbps</th>\n",
              "      <th>chol</th>\n",
              "      <th>fbs</th>\n",
              "      <th>thalach</th>\n",
              "      <th>exang</th>\n",
              "      <th>oldpeak</th>\n",
              "      <th>ca</th>\n",
              "      <th>target</th>\n",
              "      <th>restecg_0</th>\n",
              "      <th>restecg_1</th>\n",
              "      <th>restecg_2</th>\n",
              "      <th>thal_0</th>\n",
              "      <th>thal_1</th>\n",
              "      <th>thal_2</th>\n",
              "      <th>slope_0</th>\n",
              "      <th>slope_1</th>\n",
              "      <th>slope_2</th>\n",
              "      <th>cp_0</th>\n",
              "      <th>cp_1</th>\n",
              "      <th>cp_2</th>\n",
              "      <th>cp_3</th>\n",
              "    </tr>\n",
              "  </thead>\n",
              "  <tbody>\n",
              "    <tr>\n",
              "      <th>0</th>\n",
              "      <td>63.0</td>\n",
              "      <td>1.0</td>\n",
              "      <td>145.0</td>\n",
              "      <td>233.0</td>\n",
              "      <td>1.0</td>\n",
              "      <td>150.0</td>\n",
              "      <td>0.0</td>\n",
              "      <td>2.3</td>\n",
              "      <td>0.0</td>\n",
              "      <td>0.0</td>\n",
              "      <td>0</td>\n",
              "      <td>0</td>\n",
              "      <td>1</td>\n",
              "      <td>0</td>\n",
              "      <td>1</td>\n",
              "      <td>0</td>\n",
              "      <td>0</td>\n",
              "      <td>0</td>\n",
              "      <td>1</td>\n",
              "      <td>1</td>\n",
              "      <td>0</td>\n",
              "      <td>0</td>\n",
              "      <td>0</td>\n",
              "    </tr>\n",
              "    <tr>\n",
              "      <th>1</th>\n",
              "      <td>67.0</td>\n",
              "      <td>1.0</td>\n",
              "      <td>160.0</td>\n",
              "      <td>286.0</td>\n",
              "      <td>0.0</td>\n",
              "      <td>108.0</td>\n",
              "      <td>1.0</td>\n",
              "      <td>1.5</td>\n",
              "      <td>3.0</td>\n",
              "      <td>2.0</td>\n",
              "      <td>0</td>\n",
              "      <td>0</td>\n",
              "      <td>1</td>\n",
              "      <td>1</td>\n",
              "      <td>0</td>\n",
              "      <td>0</td>\n",
              "      <td>0</td>\n",
              "      <td>1</td>\n",
              "      <td>0</td>\n",
              "      <td>0</td>\n",
              "      <td>0</td>\n",
              "      <td>0</td>\n",
              "      <td>1</td>\n",
              "    </tr>\n",
              "    <tr>\n",
              "      <th>2</th>\n",
              "      <td>67.0</td>\n",
              "      <td>1.0</td>\n",
              "      <td>120.0</td>\n",
              "      <td>229.0</td>\n",
              "      <td>0.0</td>\n",
              "      <td>129.0</td>\n",
              "      <td>1.0</td>\n",
              "      <td>2.6</td>\n",
              "      <td>2.0</td>\n",
              "      <td>1.0</td>\n",
              "      <td>0</td>\n",
              "      <td>0</td>\n",
              "      <td>1</td>\n",
              "      <td>0</td>\n",
              "      <td>0</td>\n",
              "      <td>1</td>\n",
              "      <td>0</td>\n",
              "      <td>1</td>\n",
              "      <td>0</td>\n",
              "      <td>0</td>\n",
              "      <td>0</td>\n",
              "      <td>0</td>\n",
              "      <td>1</td>\n",
              "    </tr>\n",
              "    <tr>\n",
              "      <th>3</th>\n",
              "      <td>37.0</td>\n",
              "      <td>1.0</td>\n",
              "      <td>130.0</td>\n",
              "      <td>250.0</td>\n",
              "      <td>0.0</td>\n",
              "      <td>187.0</td>\n",
              "      <td>0.0</td>\n",
              "      <td>3.5</td>\n",
              "      <td>0.0</td>\n",
              "      <td>0.0</td>\n",
              "      <td>1</td>\n",
              "      <td>0</td>\n",
              "      <td>0</td>\n",
              "      <td>1</td>\n",
              "      <td>0</td>\n",
              "      <td>0</td>\n",
              "      <td>0</td>\n",
              "      <td>0</td>\n",
              "      <td>1</td>\n",
              "      <td>0</td>\n",
              "      <td>0</td>\n",
              "      <td>1</td>\n",
              "      <td>0</td>\n",
              "    </tr>\n",
              "    <tr>\n",
              "      <th>4</th>\n",
              "      <td>41.0</td>\n",
              "      <td>0.0</td>\n",
              "      <td>130.0</td>\n",
              "      <td>204.0</td>\n",
              "      <td>0.0</td>\n",
              "      <td>172.0</td>\n",
              "      <td>0.0</td>\n",
              "      <td>1.4</td>\n",
              "      <td>0.0</td>\n",
              "      <td>0.0</td>\n",
              "      <td>0</td>\n",
              "      <td>0</td>\n",
              "      <td>1</td>\n",
              "      <td>1</td>\n",
              "      <td>0</td>\n",
              "      <td>0</td>\n",
              "      <td>1</td>\n",
              "      <td>0</td>\n",
              "      <td>0</td>\n",
              "      <td>0</td>\n",
              "      <td>1</td>\n",
              "      <td>0</td>\n",
              "      <td>0</td>\n",
              "    </tr>\n",
              "  </tbody>\n",
              "</table>\n",
              "</div>"
            ],
            "text/plain": [
              "    age  sex  trestbps   chol  fbs  ...  slope_2  cp_0  cp_1  cp_2  cp_3\n",
              "0  63.0  1.0     145.0  233.0  1.0  ...        1     1     0     0     0\n",
              "1  67.0  1.0     160.0  286.0  0.0  ...        0     0     0     0     1\n",
              "2  67.0  1.0     120.0  229.0  0.0  ...        0     0     0     0     1\n",
              "3  37.0  1.0     130.0  250.0  0.0  ...        1     0     0     1     0\n",
              "4  41.0  0.0     130.0  204.0  0.0  ...        0     0     1     0     0\n",
              "\n",
              "[5 rows x 23 columns]"
            ]
          },
          "metadata": {
            "tags": []
          },
          "execution_count": 74
        }
      ]
    },
    {
      "cell_type": "markdown",
      "metadata": {
        "id": "BiWtTgm1boFF",
        "colab_type": "text"
      },
      "source": [
        "###Detect and Remove Outliers"
      ]
    },
    {
      "cell_type": "code",
      "metadata": {
        "id": "kvId9QPhbuxl",
        "colab_type": "code",
        "outputId": "fe8fabb8-706a-41ef-f38a-ce10fb8e0291",
        "colab": {
          "base_uri": "https://localhost:8080/",
          "height": 319
        }
      },
      "source": [
        "#detect outliers_Elliptic envelope\n",
        "from sklearn.covariance import EllipticEnvelope\n",
        "clf = EllipticEnvelope(contamination=.1,random_state=0)\n",
        "clf.fit(new_df)\n",
        "ee_scores = pd.Series(clf.decision_function(new_df)) \n",
        "ee_predict = clf.predict(new_df)\n",
        "\n",
        "ee_predict #value -1 means it is outlier"
      ],
      "execution_count": 0,
      "outputs": [
        {
          "output_type": "execute_result",
          "data": {
            "text/plain": [
              "array([-1,  1,  1, -1,  1,  1, -1,  1,  1, -1,  1,  1,  1,  1,  1,  1, -1,\n",
              "        1,  1,  1,  1,  1,  1,  1,  1,  1,  1, -1,  1,  1,  1,  1,  1,  1,\n",
              "        1,  1,  1,  1,  1,  1,  1,  1,  1,  1,  1,  1,  1,  1,  1,  1,  1,\n",
              "        1,  1,  1,  1,  1,  1,  1, -1,  1,  1, -1,  1,  1,  1,  1,  1,  1,\n",
              "       -1,  1,  1,  1,  1,  1,  1,  1,  1,  1,  1,  1,  1,  1,  1,  1,  1,\n",
              "        1,  1,  1,  1,  1,  1, -1,  1,  1,  1,  1,  1,  1,  1,  1,  1,  1,\n",
              "        1,  1,  1,  1,  1,  1,  1,  1,  1,  1, -1,  1,  1,  1,  1,  1,  1,\n",
              "        1,  1, -1,  1, -1,  1,  1, -1,  1,  1,  1,  1,  1,  1,  1,  1,  1,\n",
              "       -1,  1,  1,  1,  1,  1,  1,  1,  1,  1,  1,  1,  1,  1,  1,  1, -1,\n",
              "        1, -1,  1,  1,  1,  1,  1,  1, -1,  1,  1,  1,  1,  1,  1,  1,  1,\n",
              "        1,  1,  1,  1,  1,  1,  1,  1,  1,  1,  1,  1,  1, -1,  1,  1, -1,\n",
              "       -1,  1,  1,  1,  1,  1,  1,  1,  1,  1,  1,  1,  1,  1,  1,  1,  1,\n",
              "        1,  1,  1,  1,  1,  1,  1, -1,  1,  1,  1,  1,  1,  1,  1,  1,  1,\n",
              "        1,  1,  1,  1,  1,  1,  1,  1,  1,  1, -1,  1,  1,  1,  1, -1,  1,\n",
              "        1,  1,  1,  1,  1,  1,  1,  1,  1,  1,  1,  1,  1,  1,  1,  1,  1,\n",
              "        1,  1, -1,  1,  1,  1,  1,  1,  1,  1,  1,  1,  1,  1,  1,  1,  1,\n",
              "        1,  1,  1,  1,  1,  1,  1,  1,  1,  1, -1,  1,  1, -1, -1,  1,  1,\n",
              "       -1,  1,  1, -1,  1,  1,  1, -1,  1,  1,  1,  1,  1,  1])"
            ]
          },
          "metadata": {
            "tags": []
          },
          "execution_count": 75
        }
      ]
    },
    {
      "cell_type": "code",
      "metadata": {
        "id": "pFxfuDXhb7KE",
        "colab_type": "code",
        "outputId": "c9e2ac7b-bf90-4454-d418-0be2e926e93f",
        "colab": {
          "base_uri": "https://localhost:8080/",
          "height": 487
        }
      },
      "source": [
        "#remove outliers\n",
        "ee_df = new_df[ee_predict==1]\n",
        "ee_df.info()"
      ],
      "execution_count": 0,
      "outputs": [
        {
          "output_type": "stream",
          "text": [
            "<class 'pandas.core.frame.DataFrame'>\n",
            "Int64Index: 272 entries, 1 to 302\n",
            "Data columns (total 23 columns):\n",
            "age          272 non-null float64\n",
            "sex          272 non-null float64\n",
            "trestbps     272 non-null float64\n",
            "chol         272 non-null float64\n",
            "fbs          272 non-null float64\n",
            "thalach      272 non-null float64\n",
            "exang        272 non-null float64\n",
            "oldpeak      272 non-null float64\n",
            "ca           272 non-null float64\n",
            "target       272 non-null float64\n",
            "restecg_0    272 non-null int64\n",
            "restecg_1    272 non-null int64\n",
            "restecg_2    272 non-null int64\n",
            "thal_0       272 non-null int64\n",
            "thal_1       272 non-null int64\n",
            "thal_2       272 non-null int64\n",
            "slope_0      272 non-null int64\n",
            "slope_1      272 non-null int64\n",
            "slope_2      272 non-null int64\n",
            "cp_0         272 non-null int64\n",
            "cp_1         272 non-null int64\n",
            "cp_2         272 non-null int64\n",
            "cp_3         272 non-null int64\n",
            "dtypes: float64(10), int64(13)\n",
            "memory usage: 51.0 KB\n"
          ],
          "name": "stdout"
        }
      ]
    },
    {
      "cell_type": "markdown",
      "metadata": {
        "id": "97yqubkLkc_3",
        "colab_type": "text"
      },
      "source": [
        "\n",
        "\n",
        "### Normalization \n"
      ]
    },
    {
      "cell_type": "code",
      "metadata": {
        "id": "YR1QVKj8plsv",
        "colab_type": "code",
        "outputId": "4929d800-f304-4a45-b5da-7129833dcd68",
        "colab": {
          "base_uri": "https://localhost:8080/",
          "height": 422
        }
      },
      "source": [
        "import copy\n",
        "\n",
        "norm_col = [\"age\", \"trestbps\", \"chol\", \"thalach\", \"oldpeak\"]\n",
        "norm_df = copy.copy(ee_df)\n",
        "\n",
        "for col in norm_col:\n",
        "    norm_df[col] = (norm_df[col] - norm_df[col].mean()) / (norm_df[col].max() - norm_df[col].min())\n",
        "    \n",
        "norm_df"
      ],
      "execution_count": 0,
      "outputs": [
        {
          "output_type": "execute_result",
          "data": {
            "text/html": [
              "<div>\n",
              "<style scoped>\n",
              "    .dataframe tbody tr th:only-of-type {\n",
              "        vertical-align: middle;\n",
              "    }\n",
              "\n",
              "    .dataframe tbody tr th {\n",
              "        vertical-align: top;\n",
              "    }\n",
              "\n",
              "    .dataframe thead th {\n",
              "        text-align: right;\n",
              "    }\n",
              "</style>\n",
              "<table border=\"1\" class=\"dataframe\">\n",
              "  <thead>\n",
              "    <tr style=\"text-align: right;\">\n",
              "      <th></th>\n",
              "      <th>age</th>\n",
              "      <th>sex</th>\n",
              "      <th>trestbps</th>\n",
              "      <th>chol</th>\n",
              "      <th>fbs</th>\n",
              "      <th>thalach</th>\n",
              "      <th>exang</th>\n",
              "      <th>oldpeak</th>\n",
              "      <th>ca</th>\n",
              "      <th>target</th>\n",
              "      <th>restecg_0</th>\n",
              "      <th>restecg_1</th>\n",
              "      <th>restecg_2</th>\n",
              "      <th>thal_0</th>\n",
              "      <th>thal_1</th>\n",
              "      <th>thal_2</th>\n",
              "      <th>slope_0</th>\n",
              "      <th>slope_1</th>\n",
              "      <th>slope_2</th>\n",
              "      <th>cp_0</th>\n",
              "      <th>cp_1</th>\n",
              "      <th>cp_2</th>\n",
              "      <th>cp_3</th>\n",
              "    </tr>\n",
              "  </thead>\n",
              "  <tbody>\n",
              "    <tr>\n",
              "      <th>1</th>\n",
              "      <td>0.286356</td>\n",
              "      <td>1.0</td>\n",
              "      <td>0.299632</td>\n",
              "      <td>0.137786</td>\n",
              "      <td>0.0</td>\n",
              "      <td>-0.322659</td>\n",
              "      <td>1.0</td>\n",
              "      <td>0.147496</td>\n",
              "      <td>3.0</td>\n",
              "      <td>2.0</td>\n",
              "      <td>0</td>\n",
              "      <td>0</td>\n",
              "      <td>1</td>\n",
              "      <td>1</td>\n",
              "      <td>0</td>\n",
              "      <td>0</td>\n",
              "      <td>0</td>\n",
              "      <td>1</td>\n",
              "      <td>0</td>\n",
              "      <td>0</td>\n",
              "      <td>0</td>\n",
              "      <td>0</td>\n",
              "      <td>1</td>\n",
              "    </tr>\n",
              "    <tr>\n",
              "      <th>2</th>\n",
              "      <td>0.286356</td>\n",
              "      <td>1.0</td>\n",
              "      <td>-0.108531</td>\n",
              "      <td>-0.058091</td>\n",
              "      <td>0.0</td>\n",
              "      <td>-0.162354</td>\n",
              "      <td>1.0</td>\n",
              "      <td>0.409401</td>\n",
              "      <td>2.0</td>\n",
              "      <td>1.0</td>\n",
              "      <td>0</td>\n",
              "      <td>0</td>\n",
              "      <td>1</td>\n",
              "      <td>0</td>\n",
              "      <td>0</td>\n",
              "      <td>1</td>\n",
              "      <td>0</td>\n",
              "      <td>1</td>\n",
              "      <td>0</td>\n",
              "      <td>0</td>\n",
              "      <td>0</td>\n",
              "      <td>0</td>\n",
              "      <td>1</td>\n",
              "    </tr>\n",
              "    <tr>\n",
              "      <th>4</th>\n",
              "      <td>-0.291422</td>\n",
              "      <td>0.0</td>\n",
              "      <td>-0.006490</td>\n",
              "      <td>-0.144001</td>\n",
              "      <td>0.0</td>\n",
              "      <td>0.165890</td>\n",
              "      <td>0.0</td>\n",
              "      <td>0.123687</td>\n",
              "      <td>0.0</td>\n",
              "      <td>0.0</td>\n",
              "      <td>0</td>\n",
              "      <td>0</td>\n",
              "      <td>1</td>\n",
              "      <td>1</td>\n",
              "      <td>0</td>\n",
              "      <td>0</td>\n",
              "      <td>1</td>\n",
              "      <td>0</td>\n",
              "      <td>0</td>\n",
              "      <td>0</td>\n",
              "      <td>1</td>\n",
              "      <td>0</td>\n",
              "      <td>0</td>\n",
              "    </tr>\n",
              "    <tr>\n",
              "      <th>5</th>\n",
              "      <td>0.041912</td>\n",
              "      <td>1.0</td>\n",
              "      <td>-0.108531</td>\n",
              "      <td>-0.034036</td>\n",
              "      <td>0.0</td>\n",
              "      <td>0.211692</td>\n",
              "      <td>0.0</td>\n",
              "      <td>-0.019170</td>\n",
              "      <td>0.0</td>\n",
              "      <td>0.0</td>\n",
              "      <td>1</td>\n",
              "      <td>0</td>\n",
              "      <td>0</td>\n",
              "      <td>1</td>\n",
              "      <td>0</td>\n",
              "      <td>0</td>\n",
              "      <td>1</td>\n",
              "      <td>0</td>\n",
              "      <td>0</td>\n",
              "      <td>0</td>\n",
              "      <td>1</td>\n",
              "      <td>0</td>\n",
              "      <td>0</td>\n",
              "    </tr>\n",
              "    <tr>\n",
              "      <th>7</th>\n",
              "      <td>0.064134</td>\n",
              "      <td>0.0</td>\n",
              "      <td>-0.108531</td>\n",
              "      <td>0.371463</td>\n",
              "      <td>0.0</td>\n",
              "      <td>0.097188</td>\n",
              "      <td>1.0</td>\n",
              "      <td>-0.066789</td>\n",
              "      <td>0.0</td>\n",
              "      <td>0.0</td>\n",
              "      <td>1</td>\n",
              "      <td>0</td>\n",
              "      <td>0</td>\n",
              "      <td>1</td>\n",
              "      <td>0</td>\n",
              "      <td>0</td>\n",
              "      <td>1</td>\n",
              "      <td>0</td>\n",
              "      <td>0</td>\n",
              "      <td>0</td>\n",
              "      <td>0</td>\n",
              "      <td>0</td>\n",
              "      <td>1</td>\n",
              "    </tr>\n",
              "    <tr>\n",
              "      <th>...</th>\n",
              "      <td>...</td>\n",
              "      <td>...</td>\n",
              "      <td>...</td>\n",
              "      <td>...</td>\n",
              "      <td>...</td>\n",
              "      <td>...</td>\n",
              "      <td>...</td>\n",
              "      <td>...</td>\n",
              "      <td>...</td>\n",
              "      <td>...</td>\n",
              "      <td>...</td>\n",
              "      <td>...</td>\n",
              "      <td>...</td>\n",
              "      <td>...</td>\n",
              "      <td>...</td>\n",
              "      <td>...</td>\n",
              "      <td>...</td>\n",
              "      <td>...</td>\n",
              "      <td>...</td>\n",
              "      <td>...</td>\n",
              "      <td>...</td>\n",
              "      <td>...</td>\n",
              "      <td>...</td>\n",
              "    </tr>\n",
              "    <tr>\n",
              "      <th>298</th>\n",
              "      <td>-0.202533</td>\n",
              "      <td>1.0</td>\n",
              "      <td>-0.210572</td>\n",
              "      <td>0.062184</td>\n",
              "      <td>0.0</td>\n",
              "      <td>-0.139453</td>\n",
              "      <td>0.0</td>\n",
              "      <td>0.076068</td>\n",
              "      <td>0.0</td>\n",
              "      <td>1.0</td>\n",
              "      <td>1</td>\n",
              "      <td>0</td>\n",
              "      <td>0</td>\n",
              "      <td>0</td>\n",
              "      <td>0</td>\n",
              "      <td>1</td>\n",
              "      <td>0</td>\n",
              "      <td>1</td>\n",
              "      <td>0</td>\n",
              "      <td>1</td>\n",
              "      <td>0</td>\n",
              "      <td>0</td>\n",
              "      <td>0</td>\n",
              "    </tr>\n",
              "    <tr>\n",
              "      <th>299</th>\n",
              "      <td>0.308578</td>\n",
              "      <td>1.0</td>\n",
              "      <td>0.136367</td>\n",
              "      <td>-0.181802</td>\n",
              "      <td>1.0</td>\n",
              "      <td>-0.070751</td>\n",
              "      <td>0.0</td>\n",
              "      <td>0.599877</td>\n",
              "      <td>2.0</td>\n",
              "      <td>2.0</td>\n",
              "      <td>1</td>\n",
              "      <td>0</td>\n",
              "      <td>0</td>\n",
              "      <td>0</td>\n",
              "      <td>0</td>\n",
              "      <td>1</td>\n",
              "      <td>0</td>\n",
              "      <td>1</td>\n",
              "      <td>0</td>\n",
              "      <td>0</td>\n",
              "      <td>0</td>\n",
              "      <td>0</td>\n",
              "      <td>1</td>\n",
              "    </tr>\n",
              "    <tr>\n",
              "      <th>300</th>\n",
              "      <td>0.064134</td>\n",
              "      <td>1.0</td>\n",
              "      <td>-0.006490</td>\n",
              "      <td>-0.394861</td>\n",
              "      <td>0.0</td>\n",
              "      <td>-0.269224</td>\n",
              "      <td>1.0</td>\n",
              "      <td>0.076068</td>\n",
              "      <td>1.0</td>\n",
              "      <td>3.0</td>\n",
              "      <td>1</td>\n",
              "      <td>0</td>\n",
              "      <td>0</td>\n",
              "      <td>0</td>\n",
              "      <td>0</td>\n",
              "      <td>1</td>\n",
              "      <td>0</td>\n",
              "      <td>1</td>\n",
              "      <td>0</td>\n",
              "      <td>0</td>\n",
              "      <td>0</td>\n",
              "      <td>0</td>\n",
              "      <td>1</td>\n",
              "    </tr>\n",
              "    <tr>\n",
              "      <th>301</th>\n",
              "      <td>0.064134</td>\n",
              "      <td>0.0</td>\n",
              "      <td>-0.006490</td>\n",
              "      <td>-0.034036</td>\n",
              "      <td>0.0</td>\n",
              "      <td>0.181157</td>\n",
              "      <td>0.0</td>\n",
              "      <td>-0.209646</td>\n",
              "      <td>1.0</td>\n",
              "      <td>1.0</td>\n",
              "      <td>0</td>\n",
              "      <td>0</td>\n",
              "      <td>1</td>\n",
              "      <td>1</td>\n",
              "      <td>0</td>\n",
              "      <td>0</td>\n",
              "      <td>0</td>\n",
              "      <td>1</td>\n",
              "      <td>0</td>\n",
              "      <td>0</td>\n",
              "      <td>1</td>\n",
              "      <td>0</td>\n",
              "      <td>0</td>\n",
              "    </tr>\n",
              "    <tr>\n",
              "      <th>302</th>\n",
              "      <td>-0.358088</td>\n",
              "      <td>1.0</td>\n",
              "      <td>0.075143</td>\n",
              "      <td>-0.243658</td>\n",
              "      <td>0.0</td>\n",
              "      <td>0.173524</td>\n",
              "      <td>0.0</td>\n",
              "      <td>-0.209646</td>\n",
              "      <td>1.0</td>\n",
              "      <td>0.0</td>\n",
              "      <td>1</td>\n",
              "      <td>0</td>\n",
              "      <td>0</td>\n",
              "      <td>1</td>\n",
              "      <td>0</td>\n",
              "      <td>0</td>\n",
              "      <td>1</td>\n",
              "      <td>0</td>\n",
              "      <td>0</td>\n",
              "      <td>0</td>\n",
              "      <td>0</td>\n",
              "      <td>1</td>\n",
              "      <td>0</td>\n",
              "    </tr>\n",
              "  </tbody>\n",
              "</table>\n",
              "<p>272 rows × 23 columns</p>\n",
              "</div>"
            ],
            "text/plain": [
              "          age  sex  trestbps      chol  fbs  ...  slope_2  cp_0  cp_1  cp_2  cp_3\n",
              "1    0.286356  1.0  0.299632  0.137786  0.0  ...        0     0     0     0     1\n",
              "2    0.286356  1.0 -0.108531 -0.058091  0.0  ...        0     0     0     0     1\n",
              "4   -0.291422  0.0 -0.006490 -0.144001  0.0  ...        0     0     1     0     0\n",
              "5    0.041912  1.0 -0.108531 -0.034036  0.0  ...        0     0     1     0     0\n",
              "7    0.064134  0.0 -0.108531  0.371463  0.0  ...        0     0     0     0     1\n",
              "..        ...  ...       ...       ...  ...  ...      ...   ...   ...   ...   ...\n",
              "298 -0.202533  1.0 -0.210572  0.062184  0.0  ...        0     1     0     0     0\n",
              "299  0.308578  1.0  0.136367 -0.181802  1.0  ...        0     0     0     0     1\n",
              "300  0.064134  1.0 -0.006490 -0.394861  0.0  ...        0     0     0     0     1\n",
              "301  0.064134  0.0 -0.006490 -0.034036  0.0  ...        0     0     1     0     0\n",
              "302 -0.358088  1.0  0.075143 -0.243658  0.0  ...        0     0     0     1     0\n",
              "\n",
              "[272 rows x 23 columns]"
            ]
          },
          "metadata": {
            "tags": []
          },
          "execution_count": 77
        }
      ]
    },
    {
      "cell_type": "markdown",
      "metadata": {
        "id": "wIAj3GVDXqjw",
        "colab_type": "text"
      },
      "source": [
        "### Splitting the dataset"
      ]
    },
    {
      "cell_type": "markdown",
      "metadata": {
        "id": "l8zbuXCbyTOS",
        "colab_type": "text"
      },
      "source": [
        "Split the dataset into  dependent variable and independent variables set\n",
        "\n"
      ]
    },
    {
      "cell_type": "code",
      "metadata": {
        "id": "DpxagQbk0vuZ",
        "colab_type": "code",
        "outputId": "7a260b36-40f2-4dd4-8f35-dd27c472008b",
        "colab": {
          "base_uri": "https://localhost:8080/",
          "height": 487
        }
      },
      "source": [
        "#for model without normalization\n",
        "\n",
        "X = ee_df.loc[:, new_df.columns != 'target'] # Features\n",
        "y = ee_df[ [\"target\"]] #  Label\n",
        "\n",
        "print(X)\n",
        "print(y)\n",
        "\n",
        "# Splitting the dataset into the Training set and Test set\n",
        "from sklearn.model_selection import train_test_split\n",
        "X_train, X_test, y_train, y_test = train_test_split(X, y, test_size = 0.20, random_state = 0)"
      ],
      "execution_count": 0,
      "outputs": [
        {
          "output_type": "stream",
          "text": [
            "      age  sex  trestbps   chol  fbs  ...  slope_2  cp_0  cp_1  cp_2  cp_3\n",
            "1    67.0  1.0     160.0  286.0  0.0  ...        0     0     0     0     1\n",
            "2    67.0  1.0     120.0  229.0  0.0  ...        0     0     0     0     1\n",
            "4    41.0  0.0     130.0  204.0  0.0  ...        0     0     1     0     0\n",
            "5    56.0  1.0     120.0  236.0  0.0  ...        0     0     1     0     0\n",
            "7    57.0  0.0     120.0  354.0  0.0  ...        0     0     0     0     1\n",
            "..    ...  ...       ...    ...  ...  ...      ...   ...   ...   ...   ...\n",
            "298  45.0  1.0     110.0  264.0  0.0  ...        0     1     0     0     0\n",
            "299  68.0  1.0     144.0  193.0  1.0  ...        0     0     0     0     1\n",
            "300  57.0  1.0     130.0  131.0  0.0  ...        0     0     0     0     1\n",
            "301  57.0  0.0     130.0  236.0  0.0  ...        0     0     1     0     0\n",
            "302  38.0  1.0     138.0  175.0  0.0  ...        0     0     0     1     0\n",
            "\n",
            "[272 rows x 22 columns]\n",
            "     target\n",
            "1       2.0\n",
            "2       1.0\n",
            "4       0.0\n",
            "5       0.0\n",
            "7       0.0\n",
            "..      ...\n",
            "298     1.0\n",
            "299     2.0\n",
            "300     3.0\n",
            "301     1.0\n",
            "302     0.0\n",
            "\n",
            "[272 rows x 1 columns]\n"
          ],
          "name": "stdout"
        }
      ]
    },
    {
      "cell_type": "code",
      "metadata": {
        "id": "WLkjvtesjxh4",
        "colab_type": "code",
        "outputId": "80965a2c-cd9d-4d1b-de42-c132bef104ce",
        "colab": {
          "base_uri": "https://localhost:8080/",
          "height": 487
        }
      },
      "source": [
        "#for model with normalization\n",
        "\n",
        "X = norm_df.loc[:, new_df.columns != 'target'] # Features\n",
        "y = norm_df[ [\"target\"]] #  Label\n",
        "\n",
        "print(X)\n",
        "print(y)\n",
        "\n",
        "# Splitting the dataset into the Training set and Test set\n",
        "from sklearn.model_selection import train_test_split\n",
        "X_train, X_test, y_train, y_test = train_test_split(X, y, test_size = 0.20, random_state = 0)"
      ],
      "execution_count": 0,
      "outputs": [
        {
          "output_type": "stream",
          "text": [
            "          age  sex  trestbps      chol  fbs  ...  slope_2  cp_0  cp_1  cp_2  cp_3\n",
            "1    0.286356  1.0  0.299632  0.137786  0.0  ...        0     0     0     0     1\n",
            "2    0.286356  1.0 -0.108531 -0.058091  0.0  ...        0     0     0     0     1\n",
            "4   -0.291422  0.0 -0.006490 -0.144001  0.0  ...        0     0     1     0     0\n",
            "5    0.041912  1.0 -0.108531 -0.034036  0.0  ...        0     0     1     0     0\n",
            "7    0.064134  0.0 -0.108531  0.371463  0.0  ...        0     0     0     0     1\n",
            "..        ...  ...       ...       ...  ...  ...      ...   ...   ...   ...   ...\n",
            "298 -0.202533  1.0 -0.210572  0.062184  0.0  ...        0     1     0     0     0\n",
            "299  0.308578  1.0  0.136367 -0.181802  1.0  ...        0     0     0     0     1\n",
            "300  0.064134  1.0 -0.006490 -0.394861  0.0  ...        0     0     0     0     1\n",
            "301  0.064134  0.0 -0.006490 -0.034036  0.0  ...        0     0     1     0     0\n",
            "302 -0.358088  1.0  0.075143 -0.243658  0.0  ...        0     0     0     1     0\n",
            "\n",
            "[272 rows x 22 columns]\n",
            "     target\n",
            "1       2.0\n",
            "2       1.0\n",
            "4       0.0\n",
            "5       0.0\n",
            "7       0.0\n",
            "..      ...\n",
            "298     1.0\n",
            "299     2.0\n",
            "300     3.0\n",
            "301     1.0\n",
            "302     0.0\n",
            "\n",
            "[272 rows x 1 columns]\n"
          ],
          "name": "stdout"
        }
      ]
    },
    {
      "cell_type": "markdown",
      "metadata": {
        "id": "Xljh4wB8AEpz",
        "colab_type": "text"
      },
      "source": [
        "## Build Model "
      ]
    },
    {
      "cell_type": "markdown",
      "metadata": {
        "id": "nECb-TUyV1nO",
        "colab_type": "text"
      },
      "source": [
        "### Multinomial Logistic Regression"
      ]
    },
    {
      "cell_type": "code",
      "metadata": {
        "id": "ulRAs7pL3mZM",
        "colab_type": "code",
        "outputId": "fa15233f-eebd-41a9-f414-37d492f1bfa5",
        "colab": {
          "base_uri": "https://localhost:8080/",
          "height": 101
        }
      },
      "source": [
        "# Fitting Logistic RegressioLogistic Regression to the Training set\n",
        "from sklearn.linear_model import LogisticRegression\n",
        "classifier_logis = LogisticRegression(random_state = 0,multi_class='multinomial', solver='newton-cg')\n",
        "classifier_logis"
      ],
      "execution_count": 0,
      "outputs": [
        {
          "output_type": "execute_result",
          "data": {
            "text/plain": [
              "LogisticRegression(C=1.0, class_weight=None, dual=False, fit_intercept=True,\n",
              "                   intercept_scaling=1, l1_ratio=None, max_iter=100,\n",
              "                   multi_class='multinomial', n_jobs=None, penalty='l2',\n",
              "                   random_state=0, solver='newton-cg', tol=0.0001, verbose=0,\n",
              "                   warm_start=False)"
            ]
          },
          "metadata": {
            "tags": []
          },
          "execution_count": 80
        }
      ]
    },
    {
      "cell_type": "markdown",
      "metadata": {
        "id": "9ry7ot-NWKVs",
        "colab_type": "text"
      },
      "source": [
        "### SVM (Support vector machines )"
      ]
    },
    {
      "cell_type": "code",
      "metadata": {
        "id": "B3SevcGjWb3d",
        "colab_type": "code",
        "outputId": "f80a5017-7458-437b-804c-5ddd3e116750",
        "colab": {
          "base_uri": "https://localhost:8080/",
          "height": 84
        }
      },
      "source": [
        "# Create your classifier here\n",
        "from sklearn.svm import SVC\n",
        "classifier_svm = SVC(kernel  = \"rbf\", random_state = 0 )\n",
        "classifier_svm"
      ],
      "execution_count": 0,
      "outputs": [
        {
          "output_type": "execute_result",
          "data": {
            "text/plain": [
              "SVC(C=1.0, cache_size=200, class_weight=None, coef0=0.0,\n",
              "    decision_function_shape='ovr', degree=3, gamma='auto_deprecated',\n",
              "    kernel='rbf', max_iter=-1, probability=False, random_state=0,\n",
              "    shrinking=True, tol=0.001, verbose=False)"
            ]
          },
          "metadata": {
            "tags": []
          },
          "execution_count": 81
        }
      ]
    },
    {
      "cell_type": "markdown",
      "metadata": {
        "colab_type": "text",
        "id": "I6rfqeBu8lrx"
      },
      "source": [
        "### KNN"
      ]
    },
    {
      "cell_type": "code",
      "metadata": {
        "id": "sT5HLVxZ8ogM",
        "colab_type": "code",
        "outputId": "1a1117eb-81ca-4780-d7ce-23f2b4a2c8e0",
        "colab": {
          "base_uri": "https://localhost:8080/",
          "height": 67
        }
      },
      "source": [
        "from sklearn.neighbors import KNeighborsClassifier\n",
        "clf_neigh = KNeighborsClassifier(n_neighbors=3)\n",
        "clf_neigh"
      ],
      "execution_count": 0,
      "outputs": [
        {
          "output_type": "execute_result",
          "data": {
            "text/plain": [
              "KNeighborsClassifier(algorithm='auto', leaf_size=30, metric='minkowski',\n",
              "                     metric_params=None, n_jobs=None, n_neighbors=3, p=2,\n",
              "                     weights='uniform')"
            ]
          },
          "metadata": {
            "tags": []
          },
          "execution_count": 82
        }
      ]
    },
    {
      "cell_type": "markdown",
      "metadata": {
        "id": "uTkEir9odPdp",
        "colab_type": "text"
      },
      "source": [
        "###Decision Tree"
      ]
    },
    {
      "cell_type": "code",
      "metadata": {
        "id": "Ck9qeXTbdRSd",
        "colab_type": "code",
        "outputId": "057dd582-c60f-4db1-dffe-ab624a64e5c0",
        "colab": {
          "base_uri": "https://localhost:8080/",
          "height": 118
        }
      },
      "source": [
        "from sklearn import tree\n",
        "clf_decision_tree = tree.DecisionTreeClassifier(criterion = 'entropy', max_depth = 4, random_state = 0)\n",
        "clf_decision_tree\n",
        "  #criterion method = 'entropy'/'gini'\n",
        "  #restrict the depth of tree: prevent overfitting"
      ],
      "execution_count": 0,
      "outputs": [
        {
          "output_type": "execute_result",
          "data": {
            "text/plain": [
              "DecisionTreeClassifier(class_weight=None, criterion='entropy', max_depth=4,\n",
              "                       max_features=None, max_leaf_nodes=None,\n",
              "                       min_impurity_decrease=0.0, min_impurity_split=None,\n",
              "                       min_samples_leaf=1, min_samples_split=2,\n",
              "                       min_weight_fraction_leaf=0.0, presort=False,\n",
              "                       random_state=0, splitter='best')"
            ]
          },
          "metadata": {
            "tags": []
          },
          "execution_count": 83
        }
      ]
    },
    {
      "cell_type": "code",
      "metadata": {
        "id": "4mzPKQpGbnML",
        "colab_type": "code",
        "outputId": "aaa91e54-7278-49be-c9f6-23d784264b1b",
        "colab": {
          "base_uri": "https://localhost:8080/",
          "height": 773
        }
      },
      "source": [
        "from sklearn.tree import export_graphviz\n",
        "from sklearn.externals.six import StringIO  \n",
        "from IPython.display import Image  \n",
        "import pydotplus\n",
        "\n",
        "clf_decision_tree = clf_decision_tree.fit(X_train, y_train)\n",
        "column_name = new_df.columns[0:22]\n",
        "\n",
        "dot_data = StringIO()\n",
        "export_graphviz(clf_decision_tree, out_file=dot_data,  \n",
        "                filled=True, rounded=True,\n",
        "                special_characters=True, feature_names = column_name, class_names=['0','1','2','3','4'])\n",
        "graph = pydotplus.graph_from_dot_data(dot_data.getvalue())  \n",
        "graph.write_png('diabetes.png')\n",
        "Image(graph.create_png())"
      ],
      "execution_count": 0,
      "outputs": [
        {
          "output_type": "execute_result",
          "data": {
            "image/png": "[encoded data removed]",
            "text/plain": [
              "<IPython.core.display.Image object>"
            ]
          },
          "metadata": {
            "tags": []
          },
          "execution_count": 84
        }
      ]
    },
    {
      "cell_type": "markdown",
      "metadata": {
        "id": "8MwInPQIdJP7",
        "colab_type": "text"
      },
      "source": [
        "###Random Forest Algorithms"
      ]
    },
    {
      "cell_type": "code",
      "metadata": {
        "id": "SovE7-K2dN4j",
        "colab_type": "code",
        "outputId": "72a0b404-f10b-4a0d-c9d7-4b2a76ef2a71",
        "colab": {
          "base_uri": "https://localhost:8080/",
          "height": 134
        }
      },
      "source": [
        "#Import Random Forest Model\n",
        "from sklearn.ensemble import RandomForestClassifier\n",
        "\n",
        "#Create a Gaussian Classifier\n",
        "clf_random_forest=RandomForestClassifier(random_state = 0)\n",
        "clf_random_forest"
      ],
      "execution_count": 0,
      "outputs": [
        {
          "output_type": "execute_result",
          "data": {
            "text/plain": [
              "RandomForestClassifier(bootstrap=True, class_weight=None, criterion='gini',\n",
              "                       max_depth=None, max_features='auto', max_leaf_nodes=None,\n",
              "                       min_impurity_decrease=0.0, min_impurity_split=None,\n",
              "                       min_samples_leaf=1, min_samples_split=2,\n",
              "                       min_weight_fraction_leaf=0.0, n_estimators='warn',\n",
              "                       n_jobs=None, oob_score=False, random_state=0, verbose=0,\n",
              "                       warm_start=False)"
            ]
          },
          "metadata": {
            "tags": []
          },
          "execution_count": 85
        }
      ]
    },
    {
      "cell_type": "markdown",
      "metadata": {
        "id": "RnXaaGbmu6lA",
        "colab_type": "text"
      },
      "source": [
        "visual decision tree"
      ]
    },
    {
      "cell_type": "markdown",
      "metadata": {
        "id": "hX-kDW66AJ9f",
        "colab_type": "text"
      },
      "source": [
        "## Evaluation\n",
        "\n",
        "\n"
      ]
    },
    {
      "cell_type": "markdown",
      "metadata": {
        "id": "sSxKZt3BcV5p",
        "colab_type": "text"
      },
      "source": [
        "####K-Fold"
      ]
    },
    {
      "cell_type": "code",
      "metadata": {
        "id": "B9X1DCra4nHQ",
        "colab_type": "code",
        "colab": {}
      },
      "source": [
        "from sklearn.metrics import confusion_matrix\n",
        "from sklearn.metrics import accuracy_score\n",
        "from sklearn.model_selection import cross_val_score , KFold\n",
        "kf = KFold(n_splits=10, shuffle=True)\n",
        "#cm = pd.DataFrame(confusion_matrix(y_test, y_pred), columns=[\"T\", \"F\"], index=[\"P\", \"N\"])\n",
        "#print(\"Accuracy = %.2f%%\" % ((cm.iloc[1, 1] + cm.iloc[0, 0]) / cm.values.sum() * 100))\n",
        "#confusion_matrix(y_test, y_pred)\n",
        "#accuracy_score(y_test, y_pred_logis)\n",
        "\n",
        "def print_accuracy_report(classifier, X, y, num_validations=5):\n",
        "    \n",
        "    accuracy = cross_val_score(classifier, \n",
        "            X, y, scoring='accuracy', cv=num_validations)\n",
        "    print(\"Accuracy: %0.2f (+/- %0.2f)\" % (accuracy.mean(), accuracy.std()*2 ))\n",
        "\n",
        "    f1 = cross_val_score(classifier, \n",
        "            X, y, scoring='f1_weighted', cv=num_validations)\n",
        "    print (\"F1: : %0.2f (+/- %0.2f)\" %  (f1.mean(),f1.std()*2) )\n",
        "    \n",
        "    precision = cross_val_score(classifier, \n",
        "            X, y, scoring='precision_weighted', cv=num_validations)\n",
        "    print (\"Precision: : %0.2f (+/- %0.2f)\" %  (precision.mean(),precision.std()*2) )\n",
        "\n",
        "    recall = cross_val_score(classifier, \n",
        "            X, y, scoring='recall_weighted', cv=num_validations)\n",
        "    print (\"Recall: : %0.2f (+/- %0.2f)\" %  (recall.mean(),recall.std()*2) )"
      ],
      "execution_count": 0,
      "outputs": []
    },
    {
      "cell_type": "markdown",
      "metadata": {
        "id": "saYEoUbhWtYg",
        "colab_type": "text"
      },
      "source": [
        "Multinomial Logistic Regression"
      ]
    },
    {
      "cell_type": "code",
      "metadata": {
        "id": "cz1SCQEJWtNr",
        "colab_type": "code",
        "outputId": "811fabe1-a782-41fb-d1fd-6b1cffa3369d",
        "colab": {
          "base_uri": "https://localhost:8080/",
          "height": 84
        }
      },
      "source": [
        "print_accuracy_report(classifier_logis, X, y, num_validations=kf )"
      ],
      "execution_count": 0,
      "outputs": [
        {
          "output_type": "stream",
          "text": [
            "Accuracy: 0.60 (+/- 0.15)\n",
            "F1: : 0.57 (+/- 0.15)\n",
            "Precision: : 0.56 (+/- 0.24)\n",
            "Recall: : 0.58 (+/- 0.22)\n"
          ],
          "name": "stdout"
        }
      ]
    },
    {
      "cell_type": "markdown",
      "metadata": {
        "id": "Yy5t5uwAW9u4",
        "colab_type": "text"
      },
      "source": [
        "SVM "
      ]
    },
    {
      "cell_type": "code",
      "metadata": {
        "id": "RE8DUvA-W8mS",
        "colab_type": "code",
        "outputId": "d1e2aead-4d1a-40e8-807e-af3b4108e8c7",
        "colab": {
          "base_uri": "https://localhost:8080/",
          "height": 84
        }
      },
      "source": [
        "print_accuracy_report(classifier_svm, X, y, num_validations=kf )"
      ],
      "execution_count": 0,
      "outputs": [
        {
          "output_type": "stream",
          "text": [
            "Accuracy: 0.60 (+/- 0.16)\n",
            "F1: : 0.53 (+/- 0.14)\n",
            "Precision: : 0.50 (+/- 0.18)\n",
            "Recall: : 0.62 (+/- 0.12)\n"
          ],
          "name": "stdout"
        }
      ]
    },
    {
      "cell_type": "markdown",
      "metadata": {
        "id": "LT33caml84Dx",
        "colab_type": "text"
      },
      "source": [
        "KNN"
      ]
    },
    {
      "cell_type": "code",
      "metadata": {
        "id": "p3VphAqh86D7",
        "colab_type": "code",
        "outputId": "0afc7f91-bf11-40fe-fbab-42263d470832",
        "colab": {
          "base_uri": "https://localhost:8080/",
          "height": 84
        }
      },
      "source": [
        "print_accuracy_report(clf_neigh, X, y, num_validations=kf )"
      ],
      "execution_count": 0,
      "outputs": [
        {
          "output_type": "stream",
          "text": [
            "Accuracy: 0.59 (+/- 0.15)\n",
            "F1: : 0.57 (+/- 0.23)\n",
            "Precision: : 0.56 (+/- 0.18)\n",
            "Recall: : 0.58 (+/- 0.09)\n"
          ],
          "name": "stdout"
        }
      ]
    },
    {
      "cell_type": "markdown",
      "metadata": {
        "id": "i3NbCcE3n1FQ",
        "colab_type": "text"
      },
      "source": [
        "Decision Tree"
      ]
    },
    {
      "cell_type": "code",
      "metadata": {
        "id": "EWwdsW7jnso6",
        "colab_type": "code",
        "outputId": "c9ddec93-e510-442e-e611-faf394752572",
        "colab": {
          "base_uri": "https://localhost:8080/",
          "height": 84
        }
      },
      "source": [
        "print_accuracy_report(clf_decision_tree, X, y, num_validations=kf )"
      ],
      "execution_count": 0,
      "outputs": [
        {
          "output_type": "stream",
          "text": [
            "Accuracy: 0.55 (+/- 0.17)\n",
            "F1: : 0.51 (+/- 0.26)\n",
            "Precision: : 0.54 (+/- 0.20)\n",
            "Recall: : 0.58 (+/- 0.21)\n"
          ],
          "name": "stdout"
        }
      ]
    },
    {
      "cell_type": "markdown",
      "metadata": {
        "id": "voknsiqLntPr",
        "colab_type": "text"
      },
      "source": [
        "Random Forest "
      ]
    },
    {
      "cell_type": "code",
      "metadata": {
        "id": "ML9xqJCInsgS",
        "colab_type": "code",
        "outputId": "94286cdf-555b-432c-c6cc-b7b5653d768b",
        "colab": {
          "base_uri": "https://localhost:8080/",
          "height": 84
        }
      },
      "source": [
        "print_accuracy_report(clf_random_forest, X, y, num_validations=kf )"
      ],
      "execution_count": 0,
      "outputs": [
        {
          "output_type": "stream",
          "text": [
            "Accuracy: 0.58 (+/- 0.16)\n",
            "F1: : 0.54 (+/- 0.17)\n",
            "Precision: : 0.53 (+/- 0.23)\n",
            "Recall: : 0.57 (+/- 0.19)\n"
          ],
          "name": "stdout"
        }
      ]
    },
    {
      "cell_type": "markdown",
      "metadata": {
        "id": "MOQNQ8ECcqrh",
        "colab_type": "text"
      },
      "source": [
        "####Without K-Flod"
      ]
    },
    {
      "cell_type": "markdown",
      "metadata": {
        "id": "dVvpbi0gfjG2",
        "colab_type": "text"
      },
      "source": [
        "Multinomial Rogistic Regression"
      ]
    },
    {
      "cell_type": "code",
      "metadata": {
        "id": "cgChMiJQcvBp",
        "colab_type": "code",
        "outputId": "6d050227-f810-4931-d503-696b1d340d65",
        "colab": {
          "base_uri": "https://localhost:8080/",
          "height": 229
        }
      },
      "source": [
        "from sklearn.metrics import confusion_matrix\n",
        "from sklearn.metrics import accuracy_score\n",
        "\n",
        "clf = LogisticRegression(random_state = 0)\n",
        "clf.fit(X_train, y_train)\n",
        "\n",
        "# Predicting the Test set results\n",
        "y_pred = clf.predict(X_test)\n",
        "\n",
        "\n",
        "\n",
        "cm = pd.DataFrame(confusion_matrix(y_test, y_pred), columns=[\"0\", \"1\", \"2\", \"3\", \"4\"], index=[\"0\", \"1\", \"2\", \"3\", \"4\"])\n",
        "\n",
        "print(\"Rogistic Regression Accuracy : %0.2f\" % accuracy_score(y_test, y_pred))\n",
        "print()\n",
        "cm"
      ],
      "execution_count": 0,
      "outputs": [
        {
          "output_type": "stream",
          "text": [
            "Rogistic Regression Accuracy : 0.67\n",
            "\n"
          ],
          "name": "stdout"
        },
        {
          "output_type": "execute_result",
          "data": {
            "text/html": [
              "<div>\n",
              "<style scoped>\n",
              "    .dataframe tbody tr th:only-of-type {\n",
              "        vertical-align: middle;\n",
              "    }\n",
              "\n",
              "    .dataframe tbody tr th {\n",
              "        vertical-align: top;\n",
              "    }\n",
              "\n",
              "    .dataframe thead th {\n",
              "        text-align: right;\n",
              "    }\n",
              "</style>\n",
              "<table border=\"1\" class=\"dataframe\">\n",
              "  <thead>\n",
              "    <tr style=\"text-align: right;\">\n",
              "      <th></th>\n",
              "      <th>0</th>\n",
              "      <th>1</th>\n",
              "      <th>2</th>\n",
              "      <th>3</th>\n",
              "      <th>4</th>\n",
              "    </tr>\n",
              "  </thead>\n",
              "  <tbody>\n",
              "    <tr>\n",
              "      <th>0</th>\n",
              "      <td>34</td>\n",
              "      <td>1</td>\n",
              "      <td>0</td>\n",
              "      <td>0</td>\n",
              "      <td>0</td>\n",
              "    </tr>\n",
              "    <tr>\n",
              "      <th>1</th>\n",
              "      <td>6</td>\n",
              "      <td>3</td>\n",
              "      <td>1</td>\n",
              "      <td>1</td>\n",
              "      <td>0</td>\n",
              "    </tr>\n",
              "    <tr>\n",
              "      <th>2</th>\n",
              "      <td>4</td>\n",
              "      <td>1</td>\n",
              "      <td>0</td>\n",
              "      <td>1</td>\n",
              "      <td>0</td>\n",
              "    </tr>\n",
              "    <tr>\n",
              "      <th>3</th>\n",
              "      <td>0</td>\n",
              "      <td>1</td>\n",
              "      <td>1</td>\n",
              "      <td>0</td>\n",
              "      <td>0</td>\n",
              "    </tr>\n",
              "    <tr>\n",
              "      <th>4</th>\n",
              "      <td>0</td>\n",
              "      <td>1</td>\n",
              "      <td>0</td>\n",
              "      <td>0</td>\n",
              "      <td>0</td>\n",
              "    </tr>\n",
              "  </tbody>\n",
              "</table>\n",
              "</div>"
            ],
            "text/plain": [
              "    0  1  2  3  4\n",
              "0  34  1  0  0  0\n",
              "1   6  3  1  1  0\n",
              "2   4  1  0  1  0\n",
              "3   0  1  1  0  0\n",
              "4   0  1  0  0  0"
            ]
          },
          "metadata": {
            "tags": []
          },
          "execution_count": 92
        }
      ]
    },
    {
      "cell_type": "markdown",
      "metadata": {
        "id": "KCv3NSGrfuXL",
        "colab_type": "text"
      },
      "source": [
        "SVM (Support Vector Machines)"
      ]
    },
    {
      "cell_type": "code",
      "metadata": {
        "id": "3Zi1QcaOfyGo",
        "colab_type": "code",
        "outputId": "4a9a0e4c-c789-4310-a025-953bfdea1744",
        "colab": {
          "base_uri": "https://localhost:8080/",
          "height": 229
        }
      },
      "source": [
        "from sklearn.svm import SVC\n",
        "clf_svm = SVC(kernel  = \"rbf\", random_state = 0 )\n",
        "clf_svm.fit(X_train, y_train)\n",
        "\n",
        "y_pred = clf_svm.predict(X_test)\n",
        "\n",
        "cm = pd.DataFrame(confusion_matrix(y_test, y_pred), columns=[\"0\", \"1\", \"2\", \"3\", \"4\"], index=[\"0\", \"1\", \"2\", \"3\", \"4\"])\n",
        "\n",
        "print(\"SVM Accuracy : %0.2f\" % accuracy_score(y_test, y_pred))\n",
        "print()\n",
        "cm"
      ],
      "execution_count": 0,
      "outputs": [
        {
          "output_type": "stream",
          "text": [
            "SVM Accuracy : 0.65\n",
            "\n"
          ],
          "name": "stdout"
        },
        {
          "output_type": "execute_result",
          "data": {
            "text/html": [
              "<div>\n",
              "<style scoped>\n",
              "    .dataframe tbody tr th:only-of-type {\n",
              "        vertical-align: middle;\n",
              "    }\n",
              "\n",
              "    .dataframe tbody tr th {\n",
              "        vertical-align: top;\n",
              "    }\n",
              "\n",
              "    .dataframe thead th {\n",
              "        text-align: right;\n",
              "    }\n",
              "</style>\n",
              "<table border=\"1\" class=\"dataframe\">\n",
              "  <thead>\n",
              "    <tr style=\"text-align: right;\">\n",
              "      <th></th>\n",
              "      <th>0</th>\n",
              "      <th>1</th>\n",
              "      <th>2</th>\n",
              "      <th>3</th>\n",
              "      <th>4</th>\n",
              "    </tr>\n",
              "  </thead>\n",
              "  <tbody>\n",
              "    <tr>\n",
              "      <th>0</th>\n",
              "      <td>35</td>\n",
              "      <td>0</td>\n",
              "      <td>0</td>\n",
              "      <td>0</td>\n",
              "      <td>0</td>\n",
              "    </tr>\n",
              "    <tr>\n",
              "      <th>1</th>\n",
              "      <td>9</td>\n",
              "      <td>0</td>\n",
              "      <td>0</td>\n",
              "      <td>2</td>\n",
              "      <td>0</td>\n",
              "    </tr>\n",
              "    <tr>\n",
              "      <th>2</th>\n",
              "      <td>5</td>\n",
              "      <td>0</td>\n",
              "      <td>0</td>\n",
              "      <td>1</td>\n",
              "      <td>0</td>\n",
              "    </tr>\n",
              "    <tr>\n",
              "      <th>3</th>\n",
              "      <td>0</td>\n",
              "      <td>1</td>\n",
              "      <td>0</td>\n",
              "      <td>1</td>\n",
              "      <td>0</td>\n",
              "    </tr>\n",
              "    <tr>\n",
              "      <th>4</th>\n",
              "      <td>0</td>\n",
              "      <td>1</td>\n",
              "      <td>0</td>\n",
              "      <td>0</td>\n",
              "      <td>0</td>\n",
              "    </tr>\n",
              "  </tbody>\n",
              "</table>\n",
              "</div>"
            ],
            "text/plain": [
              "    0  1  2  3  4\n",
              "0  35  0  0  0  0\n",
              "1   9  0  0  2  0\n",
              "2   5  0  0  1  0\n",
              "3   0  1  0  1  0\n",
              "4   0  1  0  0  0"
            ]
          },
          "metadata": {
            "tags": []
          },
          "execution_count": 93
        }
      ]
    },
    {
      "cell_type": "markdown",
      "metadata": {
        "id": "cwfGNcWYfyfz",
        "colab_type": "text"
      },
      "source": [
        "KNN"
      ]
    },
    {
      "cell_type": "code",
      "metadata": {
        "id": "rK9_1IElfzqt",
        "colab_type": "code",
        "outputId": "61e36199-8adb-4e01-bdbd-bbd933cdf8c8",
        "colab": {
          "base_uri": "https://localhost:8080/",
          "height": 229
        }
      },
      "source": [
        "from sklearn.neighbors import KNeighborsClassifier\n",
        "clf_knn = KNeighborsClassifier(n_neighbors=3) #set k value 3\n",
        "clf_knn.fit(X_train, y_train)\n",
        "\n",
        "y_pred = clf_knn.predict(X_test)\n",
        "\n",
        "cm = pd.DataFrame(confusion_matrix(y_test, y_pred), columns=[\"0\", \"1\", \"2\", \"3\", \"4\"], index=[\"0\", \"1\", \"2\", \"3\", \"4\"])\n",
        "\n",
        "print(\"KNN Accuracy : %0.2f\" % accuracy_score(y_test, y_pred))\n",
        "print()\n",
        "cm"
      ],
      "execution_count": 0,
      "outputs": [
        {
          "output_type": "stream",
          "text": [
            "KNN Accuracy : 0.69\n",
            "\n"
          ],
          "name": "stdout"
        },
        {
          "output_type": "execute_result",
          "data": {
            "text/html": [
              "<div>\n",
              "<style scoped>\n",
              "    .dataframe tbody tr th:only-of-type {\n",
              "        vertical-align: middle;\n",
              "    }\n",
              "\n",
              "    .dataframe tbody tr th {\n",
              "        vertical-align: top;\n",
              "    }\n",
              "\n",
              "    .dataframe thead th {\n",
              "        text-align: right;\n",
              "    }\n",
              "</style>\n",
              "<table border=\"1\" class=\"dataframe\">\n",
              "  <thead>\n",
              "    <tr style=\"text-align: right;\">\n",
              "      <th></th>\n",
              "      <th>0</th>\n",
              "      <th>1</th>\n",
              "      <th>2</th>\n",
              "      <th>3</th>\n",
              "      <th>4</th>\n",
              "    </tr>\n",
              "  </thead>\n",
              "  <tbody>\n",
              "    <tr>\n",
              "      <th>0</th>\n",
              "      <td>32</td>\n",
              "      <td>3</td>\n",
              "      <td>0</td>\n",
              "      <td>0</td>\n",
              "      <td>0</td>\n",
              "    </tr>\n",
              "    <tr>\n",
              "      <th>1</th>\n",
              "      <td>4</td>\n",
              "      <td>5</td>\n",
              "      <td>0</td>\n",
              "      <td>2</td>\n",
              "      <td>0</td>\n",
              "    </tr>\n",
              "    <tr>\n",
              "      <th>2</th>\n",
              "      <td>3</td>\n",
              "      <td>2</td>\n",
              "      <td>1</td>\n",
              "      <td>0</td>\n",
              "      <td>0</td>\n",
              "    </tr>\n",
              "    <tr>\n",
              "      <th>3</th>\n",
              "      <td>0</td>\n",
              "      <td>2</td>\n",
              "      <td>0</td>\n",
              "      <td>0</td>\n",
              "      <td>0</td>\n",
              "    </tr>\n",
              "    <tr>\n",
              "      <th>4</th>\n",
              "      <td>0</td>\n",
              "      <td>1</td>\n",
              "      <td>0</td>\n",
              "      <td>0</td>\n",
              "      <td>0</td>\n",
              "    </tr>\n",
              "  </tbody>\n",
              "</table>\n",
              "</div>"
            ],
            "text/plain": [
              "    0  1  2  3  4\n",
              "0  32  3  0  0  0\n",
              "1   4  5  0  2  0\n",
              "2   3  2  1  0  0\n",
              "3   0  2  0  0  0\n",
              "4   0  1  0  0  0"
            ]
          },
          "metadata": {
            "tags": []
          },
          "execution_count": 94
        }
      ]
    },
    {
      "cell_type": "markdown",
      "metadata": {
        "id": "PLgU1v1xf0yz",
        "colab_type": "text"
      },
      "source": [
        "Decision Tree"
      ]
    },
    {
      "cell_type": "code",
      "metadata": {
        "id": "IpAjDmATf2tM",
        "colab_type": "code",
        "outputId": "e090894a-f81f-44a1-b604-500046bd7c27",
        "colab": {
          "base_uri": "https://localhost:8080/",
          "height": 229
        }
      },
      "source": [
        "from sklearn import tree\n",
        "clf_dt = tree.DecisionTreeClassifier(criterion = 'entropy', max_depth = 4, random_state = 0)\n",
        "clf_dt.fit(X_train, y_train)\n",
        "\n",
        "y_pred = clf_dt.predict(X_test)\n",
        "\n",
        "cm = pd.DataFrame(confusion_matrix(y_test, y_pred), columns=[\"0\", \"1\", \"2\", \"3\", \"4\"], index=[\"0\", \"1\", \"2\", \"3\", \"4\"])\n",
        "\n",
        "print(\"Decision Tree Accuracy : %0.2f\" % accuracy_score(y_test, y_pred))\n",
        "print()\n",
        "cm"
      ],
      "execution_count": 0,
      "outputs": [
        {
          "output_type": "stream",
          "text": [
            "Decision Tree Accuracy : 0.65\n",
            "\n"
          ],
          "name": "stdout"
        },
        {
          "output_type": "execute_result",
          "data": {
            "text/html": [
              "<div>\n",
              "<style scoped>\n",
              "    .dataframe tbody tr th:only-of-type {\n",
              "        vertical-align: middle;\n",
              "    }\n",
              "\n",
              "    .dataframe tbody tr th {\n",
              "        vertical-align: top;\n",
              "    }\n",
              "\n",
              "    .dataframe thead th {\n",
              "        text-align: right;\n",
              "    }\n",
              "</style>\n",
              "<table border=\"1\" class=\"dataframe\">\n",
              "  <thead>\n",
              "    <tr style=\"text-align: right;\">\n",
              "      <th></th>\n",
              "      <th>0</th>\n",
              "      <th>1</th>\n",
              "      <th>2</th>\n",
              "      <th>3</th>\n",
              "      <th>4</th>\n",
              "    </tr>\n",
              "  </thead>\n",
              "  <tbody>\n",
              "    <tr>\n",
              "      <th>0</th>\n",
              "      <td>32</td>\n",
              "      <td>2</td>\n",
              "      <td>0</td>\n",
              "      <td>1</td>\n",
              "      <td>0</td>\n",
              "    </tr>\n",
              "    <tr>\n",
              "      <th>1</th>\n",
              "      <td>6</td>\n",
              "      <td>4</td>\n",
              "      <td>0</td>\n",
              "      <td>1</td>\n",
              "      <td>0</td>\n",
              "    </tr>\n",
              "    <tr>\n",
              "      <th>2</th>\n",
              "      <td>3</td>\n",
              "      <td>3</td>\n",
              "      <td>0</td>\n",
              "      <td>0</td>\n",
              "      <td>0</td>\n",
              "    </tr>\n",
              "    <tr>\n",
              "      <th>3</th>\n",
              "      <td>0</td>\n",
              "      <td>1</td>\n",
              "      <td>1</td>\n",
              "      <td>0</td>\n",
              "      <td>0</td>\n",
              "    </tr>\n",
              "    <tr>\n",
              "      <th>4</th>\n",
              "      <td>0</td>\n",
              "      <td>1</td>\n",
              "      <td>0</td>\n",
              "      <td>0</td>\n",
              "      <td>0</td>\n",
              "    </tr>\n",
              "  </tbody>\n",
              "</table>\n",
              "</div>"
            ],
            "text/plain": [
              "    0  1  2  3  4\n",
              "0  32  2  0  1  0\n",
              "1   6  4  0  1  0\n",
              "2   3  3  0  0  0\n",
              "3   0  1  1  0  0\n",
              "4   0  1  0  0  0"
            ]
          },
          "metadata": {
            "tags": []
          },
          "execution_count": 95
        }
      ]
    },
    {
      "cell_type": "markdown",
      "metadata": {
        "id": "WpZ3YhtBf2-T",
        "colab_type": "text"
      },
      "source": [
        "Random Forest"
      ]
    },
    {
      "cell_type": "code",
      "metadata": {
        "id": "-TPyKwmmf4m6",
        "colab_type": "code",
        "outputId": "8890c986-548d-4577-b877-4c40a36a2c21",
        "colab": {
          "base_uri": "https://localhost:8080/",
          "height": 229
        }
      },
      "source": [
        "from sklearn.ensemble import RandomForestClassifier\n",
        "clf_rf=RandomForestClassifier(random_state = 0)\n",
        "clf_rf.fit(X_train, y_train)\n",
        "\n",
        "y_pred = clf_rf.predict(X_test)\n",
        "\n",
        "cm = pd.DataFrame(confusion_matrix(y_test, y_pred), columns=[\"0\", \"1\", \"2\", \"3\", \"4\"], index=[\"0\", \"1\", \"2\", \"3\", \"4\"])\n",
        "\n",
        "print(\"Random Forest Accuracy : %0.2f\" % accuracy_score(y_test, y_pred))\n",
        "print()\n",
        "cm"
      ],
      "execution_count": 0,
      "outputs": [
        {
          "output_type": "stream",
          "text": [
            "Random Forest Accuracy : 0.65\n",
            "\n"
          ],
          "name": "stdout"
        },
        {
          "output_type": "execute_result",
          "data": {
            "text/html": [
              "<div>\n",
              "<style scoped>\n",
              "    .dataframe tbody tr th:only-of-type {\n",
              "        vertical-align: middle;\n",
              "    }\n",
              "\n",
              "    .dataframe tbody tr th {\n",
              "        vertical-align: top;\n",
              "    }\n",
              "\n",
              "    .dataframe thead th {\n",
              "        text-align: right;\n",
              "    }\n",
              "</style>\n",
              "<table border=\"1\" class=\"dataframe\">\n",
              "  <thead>\n",
              "    <tr style=\"text-align: right;\">\n",
              "      <th></th>\n",
              "      <th>0</th>\n",
              "      <th>1</th>\n",
              "      <th>2</th>\n",
              "      <th>3</th>\n",
              "      <th>4</th>\n",
              "    </tr>\n",
              "  </thead>\n",
              "  <tbody>\n",
              "    <tr>\n",
              "      <th>0</th>\n",
              "      <td>34</td>\n",
              "      <td>1</td>\n",
              "      <td>0</td>\n",
              "      <td>0</td>\n",
              "      <td>0</td>\n",
              "    </tr>\n",
              "    <tr>\n",
              "      <th>1</th>\n",
              "      <td>8</td>\n",
              "      <td>2</td>\n",
              "      <td>0</td>\n",
              "      <td>1</td>\n",
              "      <td>0</td>\n",
              "    </tr>\n",
              "    <tr>\n",
              "      <th>2</th>\n",
              "      <td>5</td>\n",
              "      <td>1</td>\n",
              "      <td>0</td>\n",
              "      <td>0</td>\n",
              "      <td>0</td>\n",
              "    </tr>\n",
              "    <tr>\n",
              "      <th>3</th>\n",
              "      <td>1</td>\n",
              "      <td>1</td>\n",
              "      <td>0</td>\n",
              "      <td>0</td>\n",
              "      <td>0</td>\n",
              "    </tr>\n",
              "    <tr>\n",
              "      <th>4</th>\n",
              "      <td>0</td>\n",
              "      <td>0</td>\n",
              "      <td>1</td>\n",
              "      <td>0</td>\n",
              "      <td>0</td>\n",
              "    </tr>\n",
              "  </tbody>\n",
              "</table>\n",
              "</div>"
            ],
            "text/plain": [
              "    0  1  2  3  4\n",
              "0  34  1  0  0  0\n",
              "1   8  2  0  1  0\n",
              "2   5  1  0  0  0\n",
              "3   1  1  0  0  0\n",
              "4   0  0  1  0  0"
            ]
          },
          "metadata": {
            "tags": []
          },
          "execution_count": 96
        }
      ]
    }
  ]
}