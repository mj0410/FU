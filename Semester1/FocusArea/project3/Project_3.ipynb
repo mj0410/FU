{
  "nbformat": 4,
  "nbformat_minor": 0,
  "metadata": {
    "kernelspec": {
      "name": "python3",
      "display_name": "Python 3"
    },
    "language_info": {
      "name": "python",
      "version": "3.6.4",
      "mimetype": "text/x-python",
      "codemirror_mode": {
        "name": "ipython",
        "version": 3
      },
      "pygments_lexer": "ipython3",
      "nbconvert_exporter": "python",
      "file_extension": ".py"
    },
    "colab": {
      "name": "Project_3.ipynb",
      "provenance": [],
      "collapsed_sections": [],
      "toc_visible": true
    },
    "accelerator": "GPU"
  },
  "cells": [
    {
      "cell_type": "code",
      "metadata": {
        "id": "TW8yYT9pZZdF",
        "colab_type": "code",
        "colab": {}
      },
      "source": [
        "!apt-get install openjdk-8-jdk-headless -qq > /dev/null\n",
        "!wget -q http://www-eu.apache.org/dist/spark/spark-2.4.4/spark-2.4.4-bin-hadoop2.7.tgz\n",
        "!tar xf spark-2.4.4-bin-hadoop2.7.tgz\n",
        "!pip install -q findspark"
      ],
      "execution_count": 0,
      "outputs": []
    },
    {
      "cell_type": "code",
      "metadata": {
        "id": "iJSl8OqDZZSR",
        "colab_type": "code",
        "colab": {}
      },
      "source": [
        "import os\n",
        "os.environ[\"JAVA_HOME\"] = \"/usr/lib/jvm/java-8-openjdk-amd64\"\n",
        "os.environ[\"SPARK_HOME\"] = \"/content/spark-2.4.4-bin-hadoop2.7\""
      ],
      "execution_count": 0,
      "outputs": []
    },
    {
      "cell_type": "code",
      "metadata": {
        "id": "OutL_EC_ZZCp",
        "colab_type": "code",
        "colab": {}
      },
      "source": [
        "import findspark\n",
        "findspark.init(\"spark-2.4.4-bin-hadoop2.7\")# SPARK_HOME\n",
        "from pyspark.sql import SparkSession\n",
        "spark= SparkSession.builder.master(\"local[*]\").getOrCreate()\n",
        "import pyspark.sql as sparksql\n",
        "sc= spark.sparkContext"
      ],
      "execution_count": 0,
      "outputs": []
    },
    {
      "cell_type": "code",
      "metadata": {
        "_uuid": "8f2839f25d086af736a60e9eeb907d3b93b6e0e5",
        "_cell_guid": "b1076dfc-b9ad-4769-8c92-a6c4dae69d19",
        "trusted": true,
        "id": "76cEilfzZT_g",
        "colab_type": "code",
        "colab": {}
      },
      "source": [
        "# This Python 3 environment comes with many helpful analytics libraries installed\n",
        "# It is defined by the kaggle/python docker image: https://github.com/kaggle/docker-python\n",
        "# For example, here's several helpful packages to load in \n",
        "\n",
        "import numpy as np # linear algebra\n",
        "import pandas as pd # data processing, CSV file I/O (e.g. pd.read_csv)\n",
        "import seaborn as sns\n",
        "import matplotlib.pyplot as plt\n",
        "\n",
        "# Input data files are available in the \"../input/\" directory.\n",
        "# For example, running this (by clicking run or pressing Shift+Enter) will list the files in the input directory\n",
        "\n",
        "import os\n",
        "#print(os.listdir(\"../input\"))\n",
        "\n",
        "# Any results you write to the current directory are saved as output."
      ],
      "execution_count": 0,
      "outputs": []
    },
    {
      "cell_type": "code",
      "metadata": {
        "_cell_guid": "79c7e3d0-c299-4dcb-8224-4455121ee9b0",
        "_uuid": "d629ff2d2480ee46fbb7e2d37f6b5fab8052498a",
        "trusted": true,
        "id": "8gDOusfTZT_m",
        "colab_type": "code",
        "colab": {}
      },
      "source": [
        "from pyspark.sql import SparkSession\n",
        "import pyspark.sql as sparksql\n",
        "spark = SparkSession.builder.appName('stroke').getOrCreate()\n",
        "train = spark.read.csv('train_2v.csv', inferSchema=True,header=True)\n",
        "test = spark.read.csv('test_2v.csv', inferSchema=True,header=True)"
      ],
      "execution_count": 0,
      "outputs": []
    },
    {
      "cell_type": "markdown",
      "metadata": {
        "id": "RX1GiZQGZT_r",
        "colab_type": "text"
      },
      "source": [
        "### Exploring the training data"
      ]
    },
    {
      "cell_type": "code",
      "metadata": {
        "trusted": true,
        "id": "OfGRhYU8ZT_s",
        "colab_type": "code",
        "outputId": "aaafbf23-8303-470a-e4a5-b3600e36bc60",
        "colab": {
          "base_uri": "https://localhost:8080/",
          "height": 252
        }
      },
      "source": [
        "train.printSchema()"
      ],
      "execution_count": 6,
      "outputs": [
        {
          "output_type": "stream",
          "text": [
            "root\n",
            " |-- id: integer (nullable = true)\n",
            " |-- gender: string (nullable = true)\n",
            " |-- age: double (nullable = true)\n",
            " |-- hypertension: integer (nullable = true)\n",
            " |-- heart_disease: integer (nullable = true)\n",
            " |-- ever_married: string (nullable = true)\n",
            " |-- work_type: string (nullable = true)\n",
            " |-- Residence_type: string (nullable = true)\n",
            " |-- avg_glucose_level: double (nullable = true)\n",
            " |-- bmi: double (nullable = true)\n",
            " |-- smoking_status: string (nullable = true)\n",
            " |-- stroke: integer (nullable = true)\n",
            "\n"
          ],
          "name": "stdout"
        }
      ]
    },
    {
      "cell_type": "code",
      "metadata": {
        "trusted": true,
        "id": "m1FZI8nDZT_w",
        "colab_type": "code",
        "outputId": "02ac66c4-b2a5-47d5-fdb6-e49b4084a75b",
        "colab": {
          "base_uri": "https://localhost:8080/",
          "height": 218
        }
      },
      "source": [
        "train.dtypes"
      ],
      "execution_count": 7,
      "outputs": [
        {
          "output_type": "execute_result",
          "data": {
            "text/plain": [
              "[('id', 'int'),\n",
              " ('gender', 'string'),\n",
              " ('age', 'double'),\n",
              " ('hypertension', 'int'),\n",
              " ('heart_disease', 'int'),\n",
              " ('ever_married', 'string'),\n",
              " ('work_type', 'string'),\n",
              " ('Residence_type', 'string'),\n",
              " ('avg_glucose_level', 'double'),\n",
              " ('bmi', 'double'),\n",
              " ('smoking_status', 'string'),\n",
              " ('stroke', 'int')]"
            ]
          },
          "metadata": {
            "tags": []
          },
          "execution_count": 7
        }
      ]
    },
    {
      "cell_type": "code",
      "metadata": {
        "trusted": true,
        "id": "JfGLnoL4ZT_0",
        "colab_type": "code",
        "outputId": "623a0bbc-e8e0-428b-faa3-fdd790671a73",
        "colab": {
          "base_uri": "https://localhost:8080/",
          "height": 205
        }
      },
      "source": [
        "train.describe().show()"
      ],
      "execution_count": 8,
      "outputs": [
        {
          "output_type": "stream",
          "text": [
            "+-------+-----------------+------+------------------+-------------------+-------------------+------------+---------+--------------+------------------+------------------+---------------+-------------------+\n",
            "|summary|               id|gender|               age|       hypertension|      heart_disease|ever_married|work_type|Residence_type| avg_glucose_level|               bmi| smoking_status|             stroke|\n",
            "+-------+-----------------+------+------------------+-------------------+-------------------+------------+---------+--------------+------------------+------------------+---------------+-------------------+\n",
            "|  count|            43400| 43400|             43400|              43400|              43400|       43400|    43400|         43400|             43400|             41938|          30108|              43400|\n",
            "|   mean|36326.14235023042|  null| 42.21789400921646|0.09357142857142857|0.04751152073732719|        null|     null|          null|104.48274999999916|28.605038390004545|           null|0.01804147465437788|\n",
            "| stddev|21072.13487918279|  null|22.519648680503554|  0.291234906309397|0.21273274050209726|        null|     null|          null|  43.1117509512961| 7.770020497238766|           null|0.13310292280179215|\n",
            "|    min|                1|Female|              0.08|                  0|                  0|          No| Govt_job|         Rural|              55.0|              10.1|formerly smoked|                  0|\n",
            "|    max|            72943| Other|              82.0|                  1|                  1|         Yes| children|         Urban|            291.05|              97.6|         smokes|                  1|\n",
            "+-------+-----------------+------+------------------+-------------------+-------------------+------------+---------+--------------+------------------+------------------+---------------+-------------------+\n",
            "\n"
          ],
          "name": "stdout"
        }
      ]
    },
    {
      "cell_type": "code",
      "metadata": {
        "trusted": true,
        "id": "u1OZNX8WZT_3",
        "colab_type": "code",
        "outputId": "410eac0e-8168-48b5-961d-0674b81a328a",
        "colab": {
          "base_uri": "https://localhost:8080/",
          "height": 215
        }
      },
      "source": [
        "train.toPandas().head(5)"
      ],
      "execution_count": 9,
      "outputs": [
        {
          "output_type": "execute_result",
          "data": {
            "text/html": [
              "<div>\n",
              "<style scoped>\n",
              "    .dataframe tbody tr th:only-of-type {\n",
              "        vertical-align: middle;\n",
              "    }\n",
              "\n",
              "    .dataframe tbody tr th {\n",
              "        vertical-align: top;\n",
              "    }\n",
              "\n",
              "    .dataframe thead th {\n",
              "        text-align: right;\n",
              "    }\n",
              "</style>\n",
              "<table border=\"1\" class=\"dataframe\">\n",
              "  <thead>\n",
              "    <tr style=\"text-align: right;\">\n",
              "      <th></th>\n",
              "      <th>id</th>\n",
              "      <th>gender</th>\n",
              "      <th>age</th>\n",
              "      <th>hypertension</th>\n",
              "      <th>heart_disease</th>\n",
              "      <th>ever_married</th>\n",
              "      <th>work_type</th>\n",
              "      <th>Residence_type</th>\n",
              "      <th>avg_glucose_level</th>\n",
              "      <th>bmi</th>\n",
              "      <th>smoking_status</th>\n",
              "      <th>stroke</th>\n",
              "    </tr>\n",
              "  </thead>\n",
              "  <tbody>\n",
              "    <tr>\n",
              "      <th>0</th>\n",
              "      <td>30669</td>\n",
              "      <td>Male</td>\n",
              "      <td>3.0</td>\n",
              "      <td>0</td>\n",
              "      <td>0</td>\n",
              "      <td>No</td>\n",
              "      <td>children</td>\n",
              "      <td>Rural</td>\n",
              "      <td>95.12</td>\n",
              "      <td>18.0</td>\n",
              "      <td>None</td>\n",
              "      <td>0</td>\n",
              "    </tr>\n",
              "    <tr>\n",
              "      <th>1</th>\n",
              "      <td>30468</td>\n",
              "      <td>Male</td>\n",
              "      <td>58.0</td>\n",
              "      <td>1</td>\n",
              "      <td>0</td>\n",
              "      <td>Yes</td>\n",
              "      <td>Private</td>\n",
              "      <td>Urban</td>\n",
              "      <td>87.96</td>\n",
              "      <td>39.2</td>\n",
              "      <td>never smoked</td>\n",
              "      <td>0</td>\n",
              "    </tr>\n",
              "    <tr>\n",
              "      <th>2</th>\n",
              "      <td>16523</td>\n",
              "      <td>Female</td>\n",
              "      <td>8.0</td>\n",
              "      <td>0</td>\n",
              "      <td>0</td>\n",
              "      <td>No</td>\n",
              "      <td>Private</td>\n",
              "      <td>Urban</td>\n",
              "      <td>110.89</td>\n",
              "      <td>17.6</td>\n",
              "      <td>None</td>\n",
              "      <td>0</td>\n",
              "    </tr>\n",
              "    <tr>\n",
              "      <th>3</th>\n",
              "      <td>56543</td>\n",
              "      <td>Female</td>\n",
              "      <td>70.0</td>\n",
              "      <td>0</td>\n",
              "      <td>0</td>\n",
              "      <td>Yes</td>\n",
              "      <td>Private</td>\n",
              "      <td>Rural</td>\n",
              "      <td>69.04</td>\n",
              "      <td>35.9</td>\n",
              "      <td>formerly smoked</td>\n",
              "      <td>0</td>\n",
              "    </tr>\n",
              "    <tr>\n",
              "      <th>4</th>\n",
              "      <td>46136</td>\n",
              "      <td>Male</td>\n",
              "      <td>14.0</td>\n",
              "      <td>0</td>\n",
              "      <td>0</td>\n",
              "      <td>No</td>\n",
              "      <td>Never_worked</td>\n",
              "      <td>Rural</td>\n",
              "      <td>161.28</td>\n",
              "      <td>19.1</td>\n",
              "      <td>None</td>\n",
              "      <td>0</td>\n",
              "    </tr>\n",
              "  </tbody>\n",
              "</table>\n",
              "</div>"
            ],
            "text/plain": [
              "      id  gender   age  ...   bmi   smoking_status stroke\n",
              "0  30669    Male   3.0  ...  18.0             None      0\n",
              "1  30468    Male  58.0  ...  39.2     never smoked      0\n",
              "2  16523  Female   8.0  ...  17.6             None      0\n",
              "3  56543  Female  70.0  ...  35.9  formerly smoked      0\n",
              "4  46136    Male  14.0  ...  19.1             None      0\n",
              "\n",
              "[5 rows x 12 columns]"
            ]
          },
          "metadata": {
            "tags": []
          },
          "execution_count": 9
        }
      ]
    },
    {
      "cell_type": "markdown",
      "metadata": {
        "id": "hJLeytrDZT_-",
        "colab_type": "text"
      },
      "source": [
        "### Lets also look at test data"
      ]
    },
    {
      "cell_type": "code",
      "metadata": {
        "trusted": true,
        "id": "WnwfbtESZUAA",
        "colab_type": "code",
        "outputId": "b5a66baa-acbb-4199-fbb2-b7785c0045cd",
        "colab": {
          "base_uri": "https://localhost:8080/",
          "height": 205
        }
      },
      "source": [
        "test.describe().show()"
      ],
      "execution_count": 10,
      "outputs": [
        {
          "output_type": "stream",
          "text": [
            "+-------+------------------+------+------------------+-------------------+--------------------+------------+---------+--------------+------------------+------------------+---------------+\n",
            "|summary|                id|gender|               age|       hypertension|       heart_disease|ever_married|work_type|Residence_type| avg_glucose_level|               bmi| smoking_status|\n",
            "+-------+------------------+------+------------------+-------------------+--------------------+------------+---------+--------------+------------------+------------------+---------------+\n",
            "|  count|             18601| 18601|             18601|              18601|               18601|       18601|    18601|         18601|             18601|             18010|          12850|\n",
            "|   mean| 36747.36804472878|  null|42.056504489006024|0.09316703403042847|0.048061932154185256|        null|     null|          null| 104.3863593355191|28.545324819544625|           null|\n",
            "| stddev|21053.151123778684|  null|22.528017622414048|0.29067418204733125| 0.21390288127048365|        null|     null|          null|42.606714400087824| 7.757091805747331|           null|\n",
            "|    min|                 2|Female|              0.08|                  0|                   0|          No| Govt_job|         Rural|              55.0|              10.2|formerly smoked|\n",
            "|    max|             72942| Other|              82.0|                  1|                   1|         Yes| children|         Urban|            275.72|              88.3|         smokes|\n",
            "+-------+------------------+------+------------------+-------------------+--------------------+------------+---------+--------------+------------------+------------------+---------------+\n",
            "\n"
          ],
          "name": "stdout"
        }
      ]
    },
    {
      "cell_type": "markdown",
      "metadata": {
        "id": "tLIMfa7uS4ir",
        "colab_type": "text"
      },
      "source": [
        "###Detect missing value"
      ]
    },
    {
      "cell_type": "code",
      "metadata": {
        "id": "p8xAH2fuS45Q",
        "colab_type": "code",
        "outputId": "b4a016c3-f281-4558-9506-9a5044119f7b",
        "colab": {
          "base_uri": "https://localhost:8080/",
          "height": 235
        }
      },
      "source": [
        "#train data\n",
        "train_mv = train.toPandas()\n",
        "train_mv.isnull().sum() #/len(train_mv)*100"
      ],
      "execution_count": 11,
      "outputs": [
        {
          "output_type": "execute_result",
          "data": {
            "text/plain": [
              "id                       0\n",
              "gender                   0\n",
              "age                      0\n",
              "hypertension             0\n",
              "heart_disease            0\n",
              "ever_married             0\n",
              "work_type                0\n",
              "Residence_type           0\n",
              "avg_glucose_level        0\n",
              "bmi                   1462\n",
              "smoking_status       13292\n",
              "stroke                   0\n",
              "dtype: int64"
            ]
          },
          "metadata": {
            "tags": []
          },
          "execution_count": 11
        }
      ]
    },
    {
      "cell_type": "code",
      "metadata": {
        "id": "wao6kTauTg7Y",
        "colab_type": "code",
        "outputId": "bf622d90-d4fb-4f4f-b117-898d24da5b41",
        "colab": {
          "base_uri": "https://localhost:8080/",
          "height": 218
        }
      },
      "source": [
        "#test data\n",
        "test_mv = test.toPandas()\n",
        "test_mv.isnull().sum() #/len(test_mv)*100"
      ],
      "execution_count": 12,
      "outputs": [
        {
          "output_type": "execute_result",
          "data": {
            "text/plain": [
              "id                      0\n",
              "gender                  0\n",
              "age                     0\n",
              "hypertension            0\n",
              "heart_disease           0\n",
              "ever_married            0\n",
              "work_type               0\n",
              "Residence_type          0\n",
              "avg_glucose_level       0\n",
              "bmi                   591\n",
              "smoking_status       5751\n",
              "dtype: int64"
            ]
          },
          "metadata": {
            "tags": []
          },
          "execution_count": 12
        }
      ]
    },
    {
      "cell_type": "markdown",
      "metadata": {
        "id": "q8RcFaZQZUAE",
        "colab_type": "text"
      },
      "source": [
        "### Lets look the the target distribution"
      ]
    },
    {
      "cell_type": "code",
      "metadata": {
        "trusted": true,
        "id": "_O2tVreIZUAG",
        "colab_type": "code",
        "outputId": "cfca2f86-ea02-451e-9064-116989e1b607",
        "colab": {
          "base_uri": "https://localhost:8080/",
          "height": 134
        }
      },
      "source": [
        "train.groupBy('stroke').count().show()"
      ],
      "execution_count": 13,
      "outputs": [
        {
          "output_type": "stream",
          "text": [
            "+------+-----+\n",
            "|stroke|count|\n",
            "+------+-----+\n",
            "|     1|  783|\n",
            "|     0|42617|\n",
            "+------+-----+\n",
            "\n"
          ],
          "name": "stdout"
        }
      ]
    },
    {
      "cell_type": "markdown",
      "metadata": {
        "id": "qgZLxRZ5ZUAa",
        "colab_type": "text"
      },
      "source": [
        "As can be seen from this observation. This is an Imbalanced dataset, where the number of observations belonging to one class is significantly lower than those belonging to the other classes. In this case, the predictive model could be biased and inaccurate. There are different strategies to handling Imbalanced Datasets, We will look into it later."
      ]
    },
    {
      "cell_type": "code",
      "metadata": {
        "id": "w-QPd1w9XNxW",
        "colab_type": "code",
        "outputId": "80488c6a-47cc-4c99-a552-5708ae2caf1d",
        "colab": {
          "base_uri": "https://localhost:8080/",
          "height": 295
        }
      },
      "source": [
        "## DATA UNDERSAMPLING PROCESS\n",
        "stroke = train.toPandas()\n",
        "shuffled_data = stroke.sample(frac=1,random_state=4)\n",
        "stroke_df = stroke.loc[stroke['stroke'] == 1]\n",
        "non_stroke_df = stroke.loc[stroke['stroke'] == 0].sample(n= 3500,random_state= 101)\n",
        "# non-stroke sufferers were reduced to 3500 to balance the data set.\n",
        "normalized_stroke = pd.concat([stroke_df, non_stroke_df])\n",
        "sns.countplot('stroke', data= normalized_stroke, palette= \"colorblind\")\n",
        "plt.title('Stroke Analysis')\n",
        "plt.show()"
      ],
      "execution_count": 14,
      "outputs": [
        {
          "output_type": "display_data",
          "data": {
            "image/png": "[encoded data removed]",
            "text/plain": [
              "<Figure size 432x288 with 1 Axes>"
            ]
          },
          "metadata": {
            "tags": []
          }
        }
      ]
    },
    {
      "cell_type": "code",
      "metadata": {
        "id": "QxvTjR7Q_00p",
        "colab_type": "code",
        "colab": {
          "base_uri": "https://localhost:8080/",
          "height": 455
        },
        "outputId": "b2a795f2-4983-4673-f5eb-bc9bc33c9fe9"
      },
      "source": [
        "merge_frames = [stroke_df, non_stroke_df]\n",
        "\n",
        "train_df = pd.concat(merge_frames)\n",
        "train_df"
      ],
      "execution_count": 15,
      "outputs": [
        {
          "output_type": "execute_result",
          "data": {
            "text/html": [
              "<div>\n",
              "<style scoped>\n",
              "    .dataframe tbody tr th:only-of-type {\n",
              "        vertical-align: middle;\n",
              "    }\n",
              "\n",
              "    .dataframe tbody tr th {\n",
              "        vertical-align: top;\n",
              "    }\n",
              "\n",
              "    .dataframe thead th {\n",
              "        text-align: right;\n",
              "    }\n",
              "</style>\n",
              "<table border=\"1\" class=\"dataframe\">\n",
              "  <thead>\n",
              "    <tr style=\"text-align: right;\">\n",
              "      <th></th>\n",
              "      <th>id</th>\n",
              "      <th>gender</th>\n",
              "      <th>age</th>\n",
              "      <th>hypertension</th>\n",
              "      <th>heart_disease</th>\n",
              "      <th>ever_married</th>\n",
              "      <th>work_type</th>\n",
              "      <th>Residence_type</th>\n",
              "      <th>avg_glucose_level</th>\n",
              "      <th>bmi</th>\n",
              "      <th>smoking_status</th>\n",
              "      <th>stroke</th>\n",
              "    </tr>\n",
              "  </thead>\n",
              "  <tbody>\n",
              "    <tr>\n",
              "      <th>63</th>\n",
              "      <td>9046</td>\n",
              "      <td>Male</td>\n",
              "      <td>67.0</td>\n",
              "      <td>0</td>\n",
              "      <td>1</td>\n",
              "      <td>Yes</td>\n",
              "      <td>Private</td>\n",
              "      <td>Urban</td>\n",
              "      <td>228.69</td>\n",
              "      <td>36.6</td>\n",
              "      <td>formerly smoked</td>\n",
              "      <td>1</td>\n",
              "    </tr>\n",
              "    <tr>\n",
              "      <th>81</th>\n",
              "      <td>51676</td>\n",
              "      <td>Female</td>\n",
              "      <td>61.0</td>\n",
              "      <td>0</td>\n",
              "      <td>0</td>\n",
              "      <td>Yes</td>\n",
              "      <td>Self-employed</td>\n",
              "      <td>Rural</td>\n",
              "      <td>202.21</td>\n",
              "      <td>NaN</td>\n",
              "      <td>never smoked</td>\n",
              "      <td>1</td>\n",
              "    </tr>\n",
              "    <tr>\n",
              "      <th>141</th>\n",
              "      <td>31112</td>\n",
              "      <td>Male</td>\n",
              "      <td>80.0</td>\n",
              "      <td>0</td>\n",
              "      <td>1</td>\n",
              "      <td>Yes</td>\n",
              "      <td>Private</td>\n",
              "      <td>Rural</td>\n",
              "      <td>105.92</td>\n",
              "      <td>32.5</td>\n",
              "      <td>never smoked</td>\n",
              "      <td>1</td>\n",
              "    </tr>\n",
              "    <tr>\n",
              "      <th>257</th>\n",
              "      <td>60182</td>\n",
              "      <td>Female</td>\n",
              "      <td>49.0</td>\n",
              "      <td>0</td>\n",
              "      <td>0</td>\n",
              "      <td>Yes</td>\n",
              "      <td>Private</td>\n",
              "      <td>Urban</td>\n",
              "      <td>171.23</td>\n",
              "      <td>34.4</td>\n",
              "      <td>smokes</td>\n",
              "      <td>1</td>\n",
              "    </tr>\n",
              "    <tr>\n",
              "      <th>264</th>\n",
              "      <td>1665</td>\n",
              "      <td>Female</td>\n",
              "      <td>79.0</td>\n",
              "      <td>1</td>\n",
              "      <td>0</td>\n",
              "      <td>Yes</td>\n",
              "      <td>Self-employed</td>\n",
              "      <td>Rural</td>\n",
              "      <td>174.12</td>\n",
              "      <td>24.0</td>\n",
              "      <td>never smoked</td>\n",
              "      <td>1</td>\n",
              "    </tr>\n",
              "    <tr>\n",
              "      <th>...</th>\n",
              "      <td>...</td>\n",
              "      <td>...</td>\n",
              "      <td>...</td>\n",
              "      <td>...</td>\n",
              "      <td>...</td>\n",
              "      <td>...</td>\n",
              "      <td>...</td>\n",
              "      <td>...</td>\n",
              "      <td>...</td>\n",
              "      <td>...</td>\n",
              "      <td>...</td>\n",
              "      <td>...</td>\n",
              "    </tr>\n",
              "    <tr>\n",
              "      <th>14934</th>\n",
              "      <td>68854</td>\n",
              "      <td>Male</td>\n",
              "      <td>27.0</td>\n",
              "      <td>0</td>\n",
              "      <td>0</td>\n",
              "      <td>No</td>\n",
              "      <td>Private</td>\n",
              "      <td>Rural</td>\n",
              "      <td>145.32</td>\n",
              "      <td>27.2</td>\n",
              "      <td>smokes</td>\n",
              "      <td>0</td>\n",
              "    </tr>\n",
              "    <tr>\n",
              "      <th>15502</th>\n",
              "      <td>72470</td>\n",
              "      <td>Female</td>\n",
              "      <td>65.0</td>\n",
              "      <td>0</td>\n",
              "      <td>0</td>\n",
              "      <td>Yes</td>\n",
              "      <td>Private</td>\n",
              "      <td>Urban</td>\n",
              "      <td>61.24</td>\n",
              "      <td>39.4</td>\n",
              "      <td>None</td>\n",
              "      <td>0</td>\n",
              "    </tr>\n",
              "    <tr>\n",
              "      <th>18589</th>\n",
              "      <td>4567</td>\n",
              "      <td>Female</td>\n",
              "      <td>21.0</td>\n",
              "      <td>0</td>\n",
              "      <td>0</td>\n",
              "      <td>No</td>\n",
              "      <td>Private</td>\n",
              "      <td>Rural</td>\n",
              "      <td>80.11</td>\n",
              "      <td>34.3</td>\n",
              "      <td>never smoked</td>\n",
              "      <td>0</td>\n",
              "    </tr>\n",
              "    <tr>\n",
              "      <th>15622</th>\n",
              "      <td>66236</td>\n",
              "      <td>Female</td>\n",
              "      <td>32.0</td>\n",
              "      <td>0</td>\n",
              "      <td>0</td>\n",
              "      <td>No</td>\n",
              "      <td>Govt_job</td>\n",
              "      <td>Rural</td>\n",
              "      <td>60.16</td>\n",
              "      <td>35.6</td>\n",
              "      <td>never smoked</td>\n",
              "      <td>0</td>\n",
              "    </tr>\n",
              "    <tr>\n",
              "      <th>39031</th>\n",
              "      <td>31963</td>\n",
              "      <td>Male</td>\n",
              "      <td>5.0</td>\n",
              "      <td>0</td>\n",
              "      <td>0</td>\n",
              "      <td>No</td>\n",
              "      <td>children</td>\n",
              "      <td>Rural</td>\n",
              "      <td>85.64</td>\n",
              "      <td>17.5</td>\n",
              "      <td>None</td>\n",
              "      <td>0</td>\n",
              "    </tr>\n",
              "  </tbody>\n",
              "</table>\n",
              "<p>4283 rows × 12 columns</p>\n",
              "</div>"
            ],
            "text/plain": [
              "          id  gender   age  ...   bmi   smoking_status stroke\n",
              "63      9046    Male  67.0  ...  36.6  formerly smoked      1\n",
              "81     51676  Female  61.0  ...   NaN     never smoked      1\n",
              "141    31112    Male  80.0  ...  32.5     never smoked      1\n",
              "257    60182  Female  49.0  ...  34.4           smokes      1\n",
              "264     1665  Female  79.0  ...  24.0     never smoked      1\n",
              "...      ...     ...   ...  ...   ...              ...    ...\n",
              "14934  68854    Male  27.0  ...  27.2           smokes      0\n",
              "15502  72470  Female  65.0  ...  39.4             None      0\n",
              "18589   4567  Female  21.0  ...  34.3     never smoked      0\n",
              "15622  66236  Female  32.0  ...  35.6     never smoked      0\n",
              "39031  31963    Male   5.0  ...  17.5             None      0\n",
              "\n",
              "[4283 rows x 12 columns]"
            ]
          },
          "metadata": {
            "tags": []
          },
          "execution_count": 15
        }
      ]
    },
    {
      "cell_type": "code",
      "metadata": {
        "id": "qpHxJ2seApov",
        "colab_type": "code",
        "colab": {
          "base_uri": "https://localhost:8080/",
          "height": 34
        },
        "outputId": "1f17eb13-83f4-4932-e189-8b3a9e75b5d7"
      },
      "source": [
        "from pyspark.sql import SQLContext\n",
        "sqlContext = SQLContext(sc)\n",
        "train_ds = sqlContext.createDataFrame(train_df)\n",
        "\n",
        "type(train_ds)"
      ],
      "execution_count": 16,
      "outputs": [
        {
          "output_type": "execute_result",
          "data": {
            "text/plain": [
              "pyspark.sql.dataframe.DataFrame"
            ]
          },
          "metadata": {
            "tags": []
          },
          "execution_count": 16
        }
      ]
    },
    {
      "cell_type": "code",
      "metadata": {
        "id": "Sajijruf-T__",
        "colab_type": "code",
        "colab": {
          "base_uri": "https://localhost:8080/",
          "height": 134
        },
        "outputId": "9e72cc69-64bb-4f95-b577-aa7521beb624"
      },
      "source": [
        "train_ds.groupBy('stroke').count().show()"
      ],
      "execution_count": 17,
      "outputs": [
        {
          "output_type": "stream",
          "text": [
            "+------+-----+\n",
            "|stroke|count|\n",
            "+------+-----+\n",
            "|     0| 3500|\n",
            "|     1|  783|\n",
            "+------+-----+\n",
            "\n"
          ],
          "name": "stdout"
        }
      ]
    },
    {
      "cell_type": "code",
      "metadata": {
        "id": "9w-hplWs0UQu",
        "colab_type": "code",
        "outputId": "a0c37500-68ad-4350-f53b-cb177c985ce6",
        "colab": {
          "base_uri": "https://localhost:8080/",
          "height": 1000
        }
      },
      "source": [
        "# Count plot to check subjects\n",
        "\n",
        "#age\n",
        "fig,axes_age = plt.subplots(1,2, figsize=(12,5))\n",
        "sns.distplot(stroke_df.age, ax=axes_age[0])\n",
        "axes_age[0].set_title('Age Distribution for stroke')\n",
        "sns.distplot(non_stroke_df.age, ax=axes_age[1])\n",
        "axes_age[1].set_title('Age Distribution for non stroke')\n",
        "plt.show()\n",
        "\n",
        "#bmi\n",
        "fig,axes_age = plt.subplots(1,2, figsize=(12,5))\n",
        "sns.distplot(stroke_df.bmi.dropna(), ax=axes_age[0])\n",
        "axes_age[0].set_title('BMI Level for stroke')\n",
        "sns.distplot(non_stroke_df.bmi.dropna(), ax=axes_age[1])\n",
        "axes_age[1].set_title('BMI Level for non stroke')\n",
        "plt.show()\n",
        "\n",
        "#Blood Glucose Level\n",
        "fig,axes_glu=plt.subplots(1,2, figsize=(12,5))\n",
        "sns.distplot(stroke_df.avg_glucose_level.dropna(), ax=axes_glu[0])\n",
        "axes_glu[0].set_title('Blood Glucose Level for stroke')\n",
        "sns.distplot(non_stroke_df.avg_glucose_level.dropna(), ax=axes_glu[1])\n",
        "axes_glu[1].set_title('Blood Glucose Level for non stroke')\n",
        "plt.show()\n"
      ],
      "execution_count": 18,
      "outputs": [
        {
          "output_type": "display_data",
          "data": {
            "image/png": "[encoded data removed]",
            "text/plain": [
              "<Figure size 864x360 with 2 Axes>"
            ]
          },
          "metadata": {
            "tags": []
          }
        },
        {
          "output_type": "display_data",
          "data": {
            "image/png": "[encoded data removed]",
            "text/plain": [
              "<Figure size 864x360 with 2 Axes>"
            ]
          },
          "metadata": {
            "tags": []
          }
        },
        {
          "output_type": "display_data",
          "data": {
            "image/png": "[encoded data removed]",
            "text/plain": [
              "<Figure size 864x360 with 2 Axes>"
            ]
          },
          "metadata": {
            "tags": []
          }
        }
      ]
    },
    {
      "cell_type": "code",
      "metadata": {
        "id": "FHjp0VYsHzRc",
        "colab_type": "code",
        "outputId": "e6313787-22c3-4ed0-8674-110638239205",
        "colab": {
          "base_uri": "https://localhost:8080/",
          "height": 1000
        }
      },
      "source": [
        "#gender\n",
        "fig,axes_gender = plt.subplots(1,2, figsize=(12,5))\n",
        "sns.countplot(stroke_df.gender, palette= \"colorblind\", ax=axes_gender[0])\n",
        "axes_gender[0].set_title('stroke')\n",
        "sns.countplot(non_stroke_df.gender, palette= \"colorblind\", ax=axes_gender[1])\n",
        "axes_gender[1].set_title('non stroke')\n",
        "plt.show()\n",
        "\n",
        "#hypertension\n",
        "fig,axes_hyp = plt.subplots(1,2, figsize=(12,5))\n",
        "sns.countplot(stroke_df.hypertension, palette= \"colorblind\", ax=axes_hyp[0])\n",
        "axes_hyp[0].set_title('stroke')\n",
        "sns.countplot(non_stroke_df.hypertension, palette= \"colorblind\", ax=axes_hyp[1])\n",
        "axes_hyp[1].set_title('non stroke')\n",
        "plt.show()\n",
        "\n",
        "#heart_disease\n",
        "fig,axes_heart = plt.subplots(1,2, figsize=(12,5))\n",
        "sns.countplot(stroke_df.heart_disease, palette= \"colorblind\", ax=axes_heart[0])\n",
        "axes_heart[0].set_title('stroke')\n",
        "sns.countplot(non_stroke_df.heart_disease, palette= \"colorblind\", ax=axes_heart[1])\n",
        "axes_heart[1].set_title('non stroke')\n",
        "plt.show()\n",
        "\n",
        "#ever_married\t\n",
        "fig,axes_em = plt.subplots(1,2, figsize=(12,5))\n",
        "sns.countplot(stroke_df.ever_married, palette= \"colorblind\", ax=axes_em[0])\n",
        "axes_em[0].set_title('stroke')\n",
        "sns.countplot(non_stroke_df.ever_married, palette= \"colorblind\", ax=axes_em[1])\n",
        "axes_em[1].set_title('non stroke')\n",
        "plt.show()\n",
        "\n",
        "#work_type\n",
        "fig,axes_work = plt.subplots(1,2, figsize=(12,5))\n",
        "sns.countplot(stroke_df.work_type, palette= \"colorblind\", ax=axes_work[0])\n",
        "sns.countplot(non_stroke_df.work_type, palette= \"colorblind\", ax=axes_work[1])\n",
        "axes_work[0].set_title('stroke')\n",
        "axes_work[1].set_title('non stroke')\n",
        "plt.show()\n",
        "\n",
        "#Residence_type\t\n",
        "fig,axes_rt = plt.subplots(1,2, figsize=(12,5))\n",
        "sns.countplot(stroke_df.Residence_type, palette= \"colorblind\", ax=axes_rt[0])\n",
        "sns.countplot(non_stroke_df.Residence_type, palette= \"colorblind\", ax=axes_rt[1])\n",
        "axes_rt[0].set_title('stroke')\n",
        "axes_rt[1].set_title('non stroke')\n",
        "plt.show()\n",
        "\n",
        "#smoking_status\n",
        "fig,axes_ss = plt.subplots(1,2, figsize=(12,5))\n",
        "sns.countplot(stroke_df.smoking_status.dropna(), palette= \"colorblind\", ax=axes_ss[0])\n",
        "sns.countplot(non_stroke_df.smoking_status.dropna(), palette= \"colorblind\", ax=axes_ss[1])\n",
        "axes_ss[0].set_title('stroke')\n",
        "axes_ss[1].set_title('non stroke')\n",
        "plt.show()\n"
      ],
      "execution_count": 19,
      "outputs": [
        {
          "output_type": "display_data",
          "data": {
            "image/png": "[encoded data removed]",
            "text/plain": [
              "<Figure size 864x360 with 2 Axes>"
            ]
          },
          "metadata": {
            "tags": []
          }
        },
        {
          "output_type": "display_data",
          "data": {
            "image/png": "[encoded data removed]",
            "text/plain": [
              "<Figure size 864x360 with 2 Axes>"
            ]
          },
          "metadata": {
            "tags": []
          }
        },
        {
          "output_type": "display_data",
          "data": {
            "image/png": "[encoded data removed]",
            "text/plain": [
              "<Figure size 864x360 with 2 Axes>"
            ]
          },
          "metadata": {
            "tags": []
          }
        },
        {
          "output_type": "display_data",
          "data": {
            "image/png": "[encoded data removed]",
            "text/plain": [
              "<Figure size 864x360 with 2 Axes>"
            ]
          },
          "metadata": {
            "tags": []
          }
        },
        {
          "output_type": "display_data",
          "data": {
            "image/png": "[encoded data removed]",
            "text/plain": [
              "<Figure size 864x360 with 2 Axes>"
            ]
          },
          "metadata": {
            "tags": []
          }
        },
        {
          "output_type": "display_data",
          "data": {
            "image/png": "[encoded data removed]",
            "text/plain": [
              "<Figure size 864x360 with 2 Axes>"
            ]
          },
          "metadata": {
            "tags": []
          }
        },
        {
          "output_type": "display_data",
          "data": {
            "image/png": "[encoded data removed]",
            "text/plain": [
              "<Figure size 864x360 with 2 Axes>"
            ]
          },
          "metadata": {
            "tags": []
          }
        }
      ]
    },
    {
      "cell_type": "markdown",
      "metadata": {
        "id": "62QSYp4wAW07",
        "colab_type": "text"
      },
      "source": [
        "###Correlation"
      ]
    },
    {
      "cell_type": "code",
      "metadata": {
        "id": "pjriqT7QAYDr",
        "colab_type": "code",
        "outputId": "a47a022d-e93c-435e-dab1-e4a52e275561",
        "colab": {
          "base_uri": "https://localhost:8080/",
          "height": 688
        }
      },
      "source": [
        "train_corr = train_ds.toPandas()\n",
        "\n",
        "train_corr['smoking_status'] = train_corr['smoking_status'].astype('category').cat.codes\n",
        "train_corr['ever_married'] = train_corr['ever_married'].astype('category').cat.codes\n",
        "train_corr['work_type'] = train_corr['work_type'].astype('category').cat.codes\n",
        "train_corr['Residence_type'] = train_corr['Residence_type'].astype('category').cat.codes\n",
        "train_corr['gender'] = train_corr['gender'].astype('category').cat.codes\n",
        "\n",
        "#print(train_corr)\n",
        "\n",
        "train_corr = train_corr.drop('id', axis = 1)\n",
        "f,ax=plt.subplots(figsize = (10,10))\n",
        "sns.heatmap(train_corr.corr(),annot= True,linewidths=0.5,fmt = \".2f\",ax=ax)\n",
        "plt.xticks(rotation=90)\n",
        "plt.yticks(rotation=0)\n",
        "plt.title('Correlation Map')\n",
        "plt.show()"
      ],
      "execution_count": 143,
      "outputs": [
        {
          "output_type": "display_data",
          "data": {
            "image/png": "[encoded data removed]",
            "text/plain": [
              "<Figure size 720x720 with 2 Axes>"
            ]
          },
          "metadata": {
            "tags": []
          }
        }
      ]
    },
    {
      "cell_type": "markdown",
      "metadata": {
        "id": "mrpczv7BZUAd",
        "colab_type": "text"
      },
      "source": [
        "### Training feature analysis "
      ]
    },
    {
      "cell_type": "code",
      "metadata": {
        "trusted": true,
        "id": "7y2TWf-gZUAt",
        "colab_type": "code",
        "colab": {}
      },
      "source": [
        "# create DataFrame as a temporary view for SQL queries\n",
        "train.createOrReplaceTempView('table')"
      ],
      "execution_count": 0,
      "outputs": []
    },
    {
      "cell_type": "markdown",
      "metadata": {
        "id": "Load1JKGZUBE",
        "colab_type": "text"
      },
      "source": [
        "influence of work type on getting stroke"
      ]
    },
    {
      "cell_type": "code",
      "metadata": {
        "trusted": true,
        "id": "6zgxDvk1ZUBJ",
        "colab_type": "code",
        "outputId": "6e631155-2887-4370-f685-f188f341a5a7",
        "colab": {
          "base_uri": "https://localhost:8080/",
          "height": 336
        }
      },
      "source": [
        "# sql query to find the number of people in specific work_type who have had stroke and not\n",
        "spark.sql(\"SELECT work_type, COUNT(work_type) as work_type_count FROM table WHERE stroke == 1 GROUP BY work_type ORDER BY COUNT(work_type) DESC\").show()\n",
        "spark.sql(\"SELECT work_type, COUNT(work_type) as work_type_count FROM table WHERE stroke == 0 GROUP BY work_type ORDER BY COUNT(work_type) DESC\").show()"
      ],
      "execution_count": 145,
      "outputs": [
        {
          "output_type": "stream",
          "text": [
            "+-------------+---------------+\n",
            "|    work_type|work_type_count|\n",
            "+-------------+---------------+\n",
            "|      Private|            441|\n",
            "|Self-employed|            251|\n",
            "|     Govt_job|             89|\n",
            "|     children|              2|\n",
            "+-------------+---------------+\n",
            "\n",
            "+-------------+---------------+\n",
            "|    work_type|work_type_count|\n",
            "+-------------+---------------+\n",
            "|      Private|          24393|\n",
            "|Self-employed|           6542|\n",
            "|     children|           6154|\n",
            "|     Govt_job|           5351|\n",
            "| Never_worked|            177|\n",
            "+-------------+---------------+\n",
            "\n"
          ],
          "name": "stdout"
        }
      ]
    },
    {
      "cell_type": "markdown",
      "metadata": {
        "id": "gzIfFCpjZUBQ",
        "colab_type": "text"
      },
      "source": [
        "It is mostly happening to private or self-employed person."
      ]
    },
    {
      "cell_type": "markdown",
      "metadata": {
        "id": "RGPoGb4EKmbX",
        "colab_type": "text"
      },
      "source": [
        "influence of smoking status on getting stroke"
      ]
    },
    {
      "cell_type": "code",
      "metadata": {
        "id": "JjFufFieKlq9",
        "colab_type": "code",
        "outputId": "1b7f8e9e-2904-4317-85dd-d2855a37efdd",
        "colab": {
          "base_uri": "https://localhost:8080/",
          "height": 319
        }
      },
      "source": [
        "spark.sql(\"SELECT smoking_status, COUNT(smoking_status) as smoking_status_count FROM table WHERE stroke == 1 GROUP BY smoking_status ORDER BY COUNT(smoking_status) DESC\").show()\n",
        "spark.sql(\"SELECT smoking_status, COUNT(smoking_status) as smoking_status_count FROM table WHERE stroke == 0 GROUP BY smoking_status ORDER BY COUNT(smoking_status) DESC\").show()"
      ],
      "execution_count": 23,
      "outputs": [
        {
          "output_type": "stream",
          "text": [
            "+---------------+--------------------+\n",
            "| smoking_status|smoking_status_count|\n",
            "+---------------+--------------------+\n",
            "|   never smoked|                 284|\n",
            "|formerly smoked|                 221|\n",
            "|         smokes|                 133|\n",
            "|           null|                   0|\n",
            "+---------------+--------------------+\n",
            "\n",
            "+---------------+--------------------+\n",
            "| smoking_status|smoking_status_count|\n",
            "+---------------+--------------------+\n",
            "|   never smoked|               15769|\n",
            "|formerly smoked|                7272|\n",
            "|         smokes|                6429|\n",
            "|           null|                   0|\n",
            "+---------------+--------------------+\n",
            "\n"
          ],
          "name": "stdout"
        }
      ]
    },
    {
      "cell_type": "markdown",
      "metadata": {
        "id": "-RkkLbnFK6q9",
        "colab_type": "text"
      },
      "source": [
        "influence of marrage on getting stroke"
      ]
    },
    {
      "cell_type": "code",
      "metadata": {
        "id": "CSHpHe0NK94F",
        "colab_type": "code",
        "outputId": "c4ce1667-82dc-45c7-fb62-9c08a5c6e9b8",
        "colab": {
          "base_uri": "https://localhost:8080/",
          "height": 252
        }
      },
      "source": [
        "spark.sql(\"SELECT ever_married, COUNT(ever_married) as ever_married_count FROM table WHERE stroke == 1 GROUP BY ever_married ORDER BY COUNT(ever_married) DESC\").show()\n",
        "spark.sql(\"SELECT ever_married, COUNT(ever_married) as ever_married_count FROM table WHERE stroke == 0 GROUP BY ever_married ORDER BY COUNT(ever_married) DESC\").show()"
      ],
      "execution_count": 24,
      "outputs": [
        {
          "output_type": "stream",
          "text": [
            "+------------+------------------+\n",
            "|ever_married|ever_married_count|\n",
            "+------------+------------------+\n",
            "|         Yes|               703|\n",
            "|          No|                80|\n",
            "+------------+------------------+\n",
            "\n",
            "+------------+------------------+\n",
            "|ever_married|ever_married_count|\n",
            "+------------+------------------+\n",
            "|         Yes|             27235|\n",
            "|          No|             15382|\n",
            "+------------+------------------+\n",
            "\n"
          ],
          "name": "stdout"
        }
      ]
    },
    {
      "cell_type": "markdown",
      "metadata": {
        "id": "6o9APSXwZUBR",
        "colab_type": "text"
      },
      "source": [
        "Is it related to gender !!!"
      ]
    },
    {
      "cell_type": "code",
      "metadata": {
        "trusted": true,
        "id": "3sQ_hUhVZUBS",
        "colab_type": "code",
        "outputId": "2d240d8d-5bcd-4a07-b9da-87c77b629395",
        "colab": {
          "base_uri": "https://localhost:8080/",
          "height": 218
        }
      },
      "source": [
        "spark.sql(\"SELECT gender, COUNT(gender) as gender_count, COUNT(gender)*100/(SELECT COUNT(gender) FROM table WHERE gender == 'Male') as percentage FROM table WHERE stroke== 1 AND gender = 'Male' GROUP BY gender\").show()\n",
        "spark.sql(\"SELECT gender, COUNT(gender) as gender_count, COUNT(gender)*100/(SELECT COUNT(gender) FROM table WHERE gender == 'Female') as percentage FROM table WHERE stroke== 1 AND gender = 'Female' GROUP BY gender\").show()"
      ],
      "execution_count": 25,
      "outputs": [
        {
          "output_type": "stream",
          "text": [
            "+------+------------+------------------+\n",
            "|gender|gender_count|        percentage|\n",
            "+------+------------+------------------+\n",
            "|  Male|         352|1.9860076732114647|\n",
            "+------+------------+------------------+\n",
            "\n",
            "+------+------------+------------------+\n",
            "|gender|gender_count|        percentage|\n",
            "+------+------------+------------------+\n",
            "|Female|         431|1.6793298266121177|\n",
            "+------+------------+------------------+\n",
            "\n"
          ],
          "name": "stdout"
        }
      ]
    },
    {
      "cell_type": "markdown",
      "metadata": {
        "id": "r1uRIzbxZUCA",
        "colab_type": "text"
      },
      "source": [
        "1.68% male and almost 2% male had stroke."
      ]
    },
    {
      "cell_type": "markdown",
      "metadata": {
        "id": "whEGzH8jZUCC",
        "colab_type": "text"
      },
      "source": [
        "Now we will see influence of age on stroke"
      ]
    },
    {
      "cell_type": "code",
      "metadata": {
        "trusted": true,
        "id": "gmyKdMroZUCE",
        "colab_type": "code",
        "outputId": "b1c8ff85-3e87-459e-9202-c13629bd9757",
        "colab": {
          "base_uri": "https://localhost:8080/",
          "height": 118
        }
      },
      "source": [
        "spark.sql(\"SELECT COUNT(age)*100/(SELECT COUNT(age) FROM table WHERE stroke ==1) as percentage FROM table WHERE stroke == 1 AND age>=50\").show()"
      ],
      "execution_count": 26,
      "outputs": [
        {
          "output_type": "stream",
          "text": [
            "+-----------------+\n",
            "|       percentage|\n",
            "+-----------------+\n",
            "|91.57088122605364|\n",
            "+-----------------+\n",
            "\n"
          ],
          "name": "stdout"
        }
      ]
    },
    {
      "cell_type": "markdown",
      "metadata": {
        "id": "L_3HhIXPZUCJ",
        "colab_type": "text"
      },
      "source": [
        "Here we see that 91.5% stroke had occured for person who are more than 50 years old"
      ]
    },
    {
      "cell_type": "markdown",
      "metadata": {
        "id": "YZqBB02GKFXH",
        "colab_type": "text"
      },
      "source": [
        ""
      ]
    },
    {
      "cell_type": "markdown",
      "metadata": {
        "id": "arUF0rwlZUCK",
        "colab_type": "text"
      },
      "source": [
        "### Cleaning up training data"
      ]
    },
    {
      "cell_type": "code",
      "metadata": {
        "trusted": true,
        "id": "j80qsiSZZUCM",
        "colab_type": "code",
        "outputId": "76fae1de-5e5d-4c67-faed-90ae21445da0",
        "colab": {
          "base_uri": "https://localhost:8080/",
          "height": 205
        }
      },
      "source": [
        "train_ds.describe().show()"
      ],
      "execution_count": 27,
      "outputs": [
        {
          "output_type": "stream",
          "text": [
            "+-------+------------------+------+-----------------+------------------+-------------------+------------+---------+--------------+------------------+----+---------------+-------------------+\n",
            "|summary|                id|gender|              age|      hypertension|      heart_disease|ever_married|work_type|Residence_type| avg_glucose_level| bmi| smoking_status|             stroke|\n",
            "+-------+------------------+------+-----------------+------------------+-------------------+------------+---------+--------------+------------------+----+---------------+-------------------+\n",
            "|  count|              4283|  4283|             4283|              4283|               4283|        4283|     4283|          4283|              4283|4283|           3073|               4283|\n",
            "|   mean| 36184.19472332477|  null|46.26733597945366|0.1183749708148494|0.07494746672892832|        null|     null|          null|108.77480504319395| NaN|           null|0.18281578332944198|\n",
            "| stddev|21269.635900864585|  null|23.08161073880853|0.3230893211390816|0.26333730285016466|        null|     null|          null|  47.6376666197001| NaN|           null| 0.3865605535649069|\n",
            "|    min|                 7|Female|             0.08|                 0|                  0|          No| Govt_job|         Rural|             55.01|10.6|formerly smoked|                  0|\n",
            "|    max|             72934| Other|             82.0|                 1|                  1|         Yes| children|         Urban|            291.05| NaN|         smokes|                  1|\n",
            "+-------+------------------+------+-----------------+------------------+-------------------+------------+---------+--------------+------------------+----+---------------+-------------------+\n",
            "\n"
          ],
          "name": "stdout"
        }
      ]
    },
    {
      "cell_type": "markdown",
      "metadata": {
        "id": "24X9mLlVZUCR",
        "colab_type": "text"
      },
      "source": [
        "1. Here we see that there are few missing values in *smoking_status* and *bmi* column\n",
        "2. Also there are few categorical data (*gender, ever_married, work_type, Residence_type, smoking_status* which we need to covert into one hot encoding"
      ]
    },
    {
      "cell_type": "markdown",
      "metadata": {
        "id": "WrLiUAQABf-5",
        "colab_type": "text"
      },
      "source": [
        "####Impute missing values"
      ]
    },
    {
      "cell_type": "code",
      "metadata": {
        "trusted": true,
        "id": "a92Nqf9cZUCS",
        "colab_type": "code",
        "colab": {}
      },
      "source": [
        "# fill in missing values for smoking status\n",
        "# As this is categorical data, we will add one data type \"No Info\" for the missing one\n",
        "train_f = train_ds.na.fill('No Info', subset=['smoking_status'])\n",
        "test_f = test.na.fill('No Info', subset=['smoking_status'])"
      ],
      "execution_count": 0,
      "outputs": []
    },
    {
      "cell_type": "code",
      "metadata": {
        "id": "fYYc9lHedttU",
        "colab_type": "code",
        "colab": {}
      },
      "source": [
        "#calculate mean of bmi\n",
        "from pyspark.sql.functions import mean\n",
        "train_bmi = train_ds.select(train_ds.bmi)\n",
        "train_bmi = train_bmi.na.drop()\n",
        "mean = train_bmi.select(mean(train_bmi['bmi'])).collect()\n",
        "mean_bmi = mean[0][0]"
      ],
      "execution_count": 0,
      "outputs": []
    },
    {
      "cell_type": "code",
      "metadata": {
        "trusted": true,
        "colab_type": "code",
        "id": "Xe96CY-KBdHZ",
        "colab": {}
      },
      "source": [
        "# fill in miss values for bmi\n",
        "train_f = train_f.na.fill(mean_bmi,['bmi'])\n",
        "test_f = test_f.na.fill(mean_bmi,['bmi'])"
      ],
      "execution_count": 0,
      "outputs": []
    },
    {
      "cell_type": "code",
      "metadata": {
        "id": "GR7kxDY8cex5",
        "colab_type": "code",
        "colab": {
          "base_uri": "https://localhost:8080/",
          "height": 205
        },
        "outputId": "41068790-4b78-4870-b5cf-475473afd003"
      },
      "source": [
        "train_f.describe().show()\n"
      ],
      "execution_count": 31,
      "outputs": [
        {
          "output_type": "stream",
          "text": [
            "+-------+------------------+------+-----------------+------------------+-------------------+------------+---------+--------------+------------------+------------------+--------------+-------------------+\n",
            "|summary|                id|gender|              age|      hypertension|      heart_disease|ever_married|work_type|Residence_type| avg_glucose_level|               bmi|smoking_status|             stroke|\n",
            "+-------+------------------+------+-----------------+------------------+-------------------+------------+---------+--------------+------------------+------------------+--------------+-------------------+\n",
            "|  count|              4283|  4283|             4283|              4283|               4283|        4283|     4283|          4283|              4283|              4283|          4283|               4283|\n",
            "|   mean| 36184.19472332477|  null|46.26733597945366|0.1183749708148494|0.07494746672892832|        null|     null|          null|108.77480504319395|28.954617874035343|          null|0.18281578332944198|\n",
            "| stddev|21269.635900864585|  null|23.08161073880853|0.3230893211390816|0.26333730285016466|        null|     null|          null|  47.6376666197001| 7.420102163915383|          null| 0.3865605535649069|\n",
            "|    min|                 7|Female|             0.08|                 0|                  0|          No| Govt_job|         Rural|             55.01|              10.6|       No Info|                  0|\n",
            "|    max|             72934| Other|             82.0|                 1|                  1|         Yes| children|         Urban|            291.05|              71.5|        smokes|                  1|\n",
            "+-------+------------------+------+-----------------+------------------+-------------------+------------+---------+--------------+------------------+------------------+--------------+-------------------+\n",
            "\n"
          ],
          "name": "stdout"
        }
      ]
    },
    {
      "cell_type": "code",
      "metadata": {
        "trusted": true,
        "id": "U6km0frzZUCk",
        "colab_type": "code",
        "outputId": "510ce597-65f7-4bcc-bc1a-4ec028da5a81",
        "colab": {
          "base_uri": "https://localhost:8080/",
          "height": 205
        }
      },
      "source": [
        "test_f.describe().show()"
      ],
      "execution_count": 32,
      "outputs": [
        {
          "output_type": "stream",
          "text": [
            "+-------+------------------+------+------------------+-------------------+--------------------+------------+---------+--------------+------------------+------------------+--------------+\n",
            "|summary|                id|gender|               age|       hypertension|       heart_disease|ever_married|work_type|Residence_type| avg_glucose_level|               bmi|smoking_status|\n",
            "+-------+------------------+------+------------------+-------------------+--------------------+------------+---------+--------------+------------------+------------------+--------------+\n",
            "|  count|             18601| 18601|             18601|              18601|               18601|       18601|    18601|         18601|             18601|             18601|         18601|\n",
            "|   mean| 36747.36804472878|  null|42.056504489006024|0.09316703403042847|0.048061932154185256|        null|     null|          null| 104.3863593355191|28.558329077122657|          null|\n",
            "| stddev|21053.151123778684|  null|22.528017622414048|0.29067418204733125| 0.21390288127048365|        null|     null|          null|42.606714400087824| 7.633196918007348|          null|\n",
            "|    min|                 2|Female|              0.08|                  0|                   0|          No| Govt_job|         Rural|              55.0|              10.2|       No Info|\n",
            "|    max|             72942| Other|              82.0|                  1|                   1|         Yes| children|         Urban|            275.72|              88.3|        smokes|\n",
            "+-------+------------------+------+------------------+-------------------+--------------------+------------+---------+--------------+------------------+------------------+--------------+\n",
            "\n"
          ],
          "name": "stdout"
        }
      ]
    },
    {
      "cell_type": "markdown",
      "metadata": {
        "id": "c8e7lkz62ucT",
        "colab_type": "text"
      },
      "source": [
        "correlation after imputation"
      ]
    },
    {
      "cell_type": "code",
      "metadata": {
        "id": "WarHrN9q2uEn",
        "colab_type": "code",
        "outputId": "4c6021c3-4ac3-4359-e50f-190b31d99348",
        "colab": {
          "base_uri": "https://localhost:8080/",
          "height": 688
        }
      },
      "source": [
        "train_corr_f = train_f.toPandas()\n",
        "\n",
        "train_corr_f['smoking_status'] = train_corr_f['smoking_status'].astype('category').cat.codes\n",
        "train_corr_f['ever_married'] = train_corr_f['ever_married'].astype('category').cat.codes\n",
        "train_corr_f['work_type'] = train_corr_f['work_type'].astype('category').cat.codes\n",
        "train_corr_f['Residence_type'] = train_corr_f['Residence_type'].astype('category').cat.codes\n",
        "train_corr_f['gender'] = train_corr_f['gender'].astype('category').cat.codes\n",
        "\n",
        "train_corr_f = train_corr_f.drop('id', axis = 1)\n",
        "f,ax=plt.subplots(figsize = (10,10))\n",
        "sns.heatmap(train_corr_f.corr(),annot= True,linewidths=0.5,fmt = \".2f\",ax=ax)\n",
        "plt.xticks(rotation=90)\n",
        "plt.yticks(rotation=0)\n",
        "plt.title('Correlation Map')\n",
        "plt.show()"
      ],
      "execution_count": 33,
      "outputs": [
        {
          "output_type": "display_data",
          "data": {
            "image/png": "[encoded data removed]",
            "text/plain": [
              "<Figure size 720x720 with 2 Axes>"
            ]
          },
          "metadata": {
            "tags": []
          }
        }
      ]
    },
    {
      "cell_type": "markdown",
      "metadata": {
        "id": "e50CGjp4WEA4",
        "colab_type": "text"
      },
      "source": [
        "Outlier after imputation"
      ]
    },
    {
      "cell_type": "code",
      "metadata": {
        "id": "aXMw7uuHWFng",
        "colab_type": "code",
        "outputId": "138d5347-e210-4006-df47-caa927a71fdb",
        "colab": {
          "base_uri": "https://localhost:8080/",
          "height": 335
        }
      },
      "source": [
        "outlier_impute = train_f.toPandas()\n",
        "\n",
        "fig, axes_out_im = plt.subplots(1,3, figsize=(18,5))\n",
        "\n",
        "sns.boxplot(x = \"stroke\", y = \"bmi\", data=outlier_impute, ax=axes_out_im[0])\n",
        "sns.boxplot(x = \"stroke\", y = \"avg_glucose_level\", data=outlier_impute,ax=axes_out_im[1])\n",
        "sns.boxplot(x = \"stroke\", y = \"age\", data=outlier_impute,ax=axes_out_im[2])\n",
        "plt.show()"
      ],
      "execution_count": 34,
      "outputs": [
        {
          "output_type": "display_data",
          "data": {
            "image/png": "[encoded data removed]",
            "text/plain": [
              "<Figure size 1296x360 with 3 Axes>"
            ]
          },
          "metadata": {
            "tags": []
          }
        }
      ]
    },
    {
      "cell_type": "markdown",
      "metadata": {
        "id": "_EJxoD_mBkOI",
        "colab_type": "text"
      },
      "source": [
        "####Delete rows which has missing values"
      ]
    },
    {
      "cell_type": "code",
      "metadata": {
        "id": "8pK7IF4OBocp",
        "colab_type": "code",
        "outputId": "c77ec887-11f4-48b3-8f7b-63394a992d7a",
        "colab": {
          "base_uri": "https://localhost:8080/",
          "height": 205
        }
      },
      "source": [
        "train_delete = train_ds.na.drop()\n",
        "train_delete.describe().show()"
      ],
      "execution_count": 35,
      "outputs": [
        {
          "output_type": "stream",
          "text": [
            "+-------+------------------+------+------------------+-------------------+-------------------+------------+---------+--------------+------------------+------------------+---------------+-------------------+\n",
            "|summary|                id|gender|               age|       hypertension|      heart_disease|ever_married|work_type|Residence_type| avg_glucose_level|               bmi| smoking_status|             stroke|\n",
            "+-------+------------------+------+------------------+-------------------+-------------------+------------+---------+--------------+------------------+------------------+---------------+-------------------+\n",
            "|  count|              2901|  2901|              2901|               2901|               2901|        2901|     2901|          2901|              2901|              2901|           2901|               2901|\n",
            "|   mean|  37383.1647707687|  null| 51.04308859014133|0.13960703205791106|0.08100654946570149|        null|     null|          null|111.43634264046887|30.250534298517753|           null|0.18890037917959324|\n",
            "| stddev|20993.350731906547|  null|19.412949943061303| 0.3466386133735936|0.27289221117981166|        null|     null|          null| 49.92558168084612|7.2187493346012435|           null| 0.3914969468369001|\n",
            "|    min|                 7|Female|              10.0|                  0|                  0|          No| Govt_job|         Rural|             55.01|              11.0|formerly smoked|                  0|\n",
            "|    max|             72934| Other|              82.0|                  1|                  1|         Yes| children|         Urban|            291.05|              71.5|         smokes|                  1|\n",
            "+-------+------------------+------+------------------+-------------------+-------------------+------------+---------+--------------+------------------+------------------+---------------+-------------------+\n",
            "\n"
          ],
          "name": "stdout"
        }
      ]
    },
    {
      "cell_type": "code",
      "metadata": {
        "id": "EvN3V3Wy-IZJ",
        "colab_type": "code",
        "outputId": "5ade0788-fad3-4f88-848e-158c7a49a730",
        "colab": {
          "base_uri": "https://localhost:8080/",
          "height": 205
        }
      },
      "source": [
        "test_delete = test.na.drop()\n",
        "test_delete.describe().show()"
      ],
      "execution_count": 36,
      "outputs": [
        {
          "output_type": "stream",
          "text": [
            "+-------+------------------+------+------------------+-------------------+--------------------+------------+---------+--------------+------------------+-----------------+---------------+\n",
            "|summary|                id|gender|               age|       hypertension|       heart_disease|ever_married|work_type|Residence_type| avg_glucose_level|              bmi| smoking_status|\n",
            "+-------+------------------+------+------------------+-------------------+--------------------+------------+---------+--------------+------------------+-----------------+---------------+\n",
            "|  count|             12423| 12423|             12423|              12423|               12423|       12423|    12423|         12423|             12423|            12423|          12423|\n",
            "|   mean|37139.647911132575|  null|47.573210979634545|0.11188923770425824|0.052000321983417856|        null|     null|          null|106.55493359092029|30.08220236657801|           null|\n",
            "| stddev|20821.226259445666|  null|18.730673320972677|0.31524282023563616| 0.22203661176334882|        null|     null|          null|45.077682370821435|7.207207360984721|           null|\n",
            "|    min|                 5|Female|              10.0|                  0|                   0|          No| Govt_job|         Rural|              55.0|             12.7|formerly smoked|\n",
            "|    max|             72942|  Male|              82.0|                  1|                   1|         Yes| children|         Urban|            275.72|             88.3|         smokes|\n",
            "+-------+------------------+------+------------------+-------------------+--------------------+------------+---------+--------------+------------------+-----------------+---------------+\n",
            "\n"
          ],
          "name": "stdout"
        }
      ]
    },
    {
      "cell_type": "markdown",
      "metadata": {
        "id": "ucWYXV8E4NCm",
        "colab_type": "text"
      },
      "source": [
        "correlation after deletion"
      ]
    },
    {
      "cell_type": "code",
      "metadata": {
        "id": "jeSM-Rie4O2k",
        "colab_type": "code",
        "outputId": "9663a5f2-0e13-43c8-a44f-8c9b360fa522",
        "colab": {
          "base_uri": "https://localhost:8080/",
          "height": 688
        }
      },
      "source": [
        "train_corr_delete = train_delete.toPandas()\n",
        "\n",
        "train_corr_delete['smoking_status'] = train_corr_delete['smoking_status'].astype('category').cat.codes\n",
        "train_corr_delete['ever_married'] = train_corr_delete['ever_married'].astype('category').cat.codes\n",
        "train_corr_delete['work_type'] = train_corr_delete['work_type'].astype('category').cat.codes\n",
        "train_corr_delete['Residence_type'] = train_corr_delete['Residence_type'].astype('category').cat.codes\n",
        "train_corr_delete['gender'] = train_corr_delete['gender'].astype('category').cat.codes\n",
        "\n",
        "train_corr_delete = train_corr_delete.drop('id', axis = 1)\n",
        "f,ax=plt.subplots(figsize = (10,10))\n",
        "sns.heatmap(train_corr_delete.corr(),annot= True,linewidths=0.5,fmt = \".2f\",ax=ax)\n",
        "plt.xticks(rotation=90)\n",
        "plt.yticks(rotation=0)\n",
        "plt.title('Correlation Map')\n",
        "plt.show()"
      ],
      "execution_count": 37,
      "outputs": [
        {
          "output_type": "display_data",
          "data": {
            "image/png": "[encoded data removed]",
            "text/plain": [
              "<Figure size 720x720 with 2 Axes>"
            ]
          },
          "metadata": {
            "tags": []
          }
        }
      ]
    },
    {
      "cell_type": "markdown",
      "metadata": {
        "id": "R4nwB0gTVf2w",
        "colab_type": "text"
      },
      "source": [
        "Outlier after deletion"
      ]
    },
    {
      "cell_type": "code",
      "metadata": {
        "id": "udqsb7bgViVI",
        "colab_type": "code",
        "outputId": "2abd4c5f-f93a-4e3c-98f2-ac58f68bd46c",
        "colab": {
          "base_uri": "https://localhost:8080/",
          "height": 335
        }
      },
      "source": [
        "outlier_delete = train_delete.toPandas()\n",
        "\n",
        "fig, axes_out_delete = plt.subplots(1,3, figsize=(18,5))\n",
        "\n",
        "sns.boxplot(x = \"stroke\", y = \"bmi\", data=outlier_delete, ax=axes_out_delete[0])\n",
        "sns.boxplot(x = \"stroke\", y = \"avg_glucose_level\", data=outlier_delete, ax=axes_out_delete[1])\n",
        "sns.boxplot(x = \"stroke\", y = \"age\", data=outlier_delete, ax=axes_out_delete[2])\n",
        "plt.show()"
      ],
      "execution_count": 38,
      "outputs": [
        {
          "output_type": "display_data",
          "data": {
            "image/png": "[encoded data removed]",
            "text/plain": [
              "<Figure size 1296x360 with 3 Axes>"
            ]
          },
          "metadata": {
            "tags": []
          }
        }
      ]
    },
    {
      "cell_type": "markdown",
      "metadata": {
        "id": "dkAV8zjsZUCv",
        "colab_type": "text"
      },
      "source": [
        "Now there is no missing values, Lets work on categorical columns now..."
      ]
    },
    {
      "cell_type": "markdown",
      "metadata": {
        "id": "7Q3KGXHlZUCx",
        "colab_type": "text"
      },
      "source": [
        "StringIndexer -> OneHotEncoder -> VectorAssembler"
      ]
    },
    {
      "cell_type": "code",
      "metadata": {
        "trusted": true,
        "id": "pTkRLbEbZUC1",
        "colab_type": "code",
        "colab": {}
      },
      "source": [
        "# indexing all categorical columns in the dataset\n",
        "from pyspark.ml.feature import StringIndexer\n",
        "indexer1 = StringIndexer(inputCol=\"gender\", outputCol=\"genderIndex\")\n",
        "indexer2 = StringIndexer(inputCol=\"ever_married\", outputCol=\"ever_marriedIndex\")\n",
        "indexer3 = StringIndexer(inputCol=\"work_type\", outputCol=\"work_typeIndex\")\n",
        "indexer4 = StringIndexer(inputCol=\"Residence_type\", outputCol=\"Residence_typeIndex\")\n",
        "indexer5 = StringIndexer(inputCol=\"smoking_status\", outputCol=\"smoking_statusIndex\")\n"
      ],
      "execution_count": 0,
      "outputs": []
    },
    {
      "cell_type": "code",
      "metadata": {
        "trusted": true,
        "id": "uW_lIesKZUC7",
        "colab_type": "code",
        "colab": {}
      },
      "source": [
        "# Doing one hot encoding of indexed data\n",
        "from pyspark.ml.feature import OneHotEncoderEstimator\n",
        "encoder = OneHotEncoderEstimator(inputCols=[\"genderIndex\",\"ever_marriedIndex\",\"work_typeIndex\",\"Residence_typeIndex\",\"smoking_statusIndex\"],\n",
        "                                 outputCols=[\"genderVec\",\"ever_marriedVec\",\"work_typeVec\",\"Residence_typeVec\",\"smoking_statusVec\"])"
      ],
      "execution_count": 0,
      "outputs": []
    },
    {
      "cell_type": "markdown",
      "metadata": {
        "id": "Ff5t8KhiZUC_",
        "colab_type": "text"
      },
      "source": [
        "The next step is to create an assembler, that combines a given list of columns into a single vector column to train ML model. I will use the vector columns, that we got after one_hot_encoding."
      ]
    },
    {
      "cell_type": "code",
      "metadata": {
        "trusted": true,
        "id": "AX7qotBWZUDA",
        "colab_type": "code",
        "outputId": "7382ab1c-e8e6-497d-fef4-c6dc896695c0",
        "colab": {
          "base_uri": "https://localhost:8080/",
          "height": 34
        }
      },
      "source": [
        "from pyspark.ml.feature import VectorAssembler\n",
        "assembler = VectorAssembler(inputCols=['genderVec',\n",
        " 'age',\n",
        " 'hypertension',\n",
        " 'heart_disease',\n",
        " 'ever_marriedVec',\n",
        " 'work_typeVec',\n",
        " 'Residence_typeVec',\n",
        " 'avg_glucose_level',\n",
        " 'bmi',\n",
        " 'smoking_statusVec'],outputCol='features')\n",
        "assembler"
      ],
      "execution_count": 41,
      "outputs": [
        {
          "output_type": "execute_result",
          "data": {
            "text/plain": [
              "VectorAssembler_d2d13e0c1181"
            ]
          },
          "metadata": {
            "tags": []
          },
          "execution_count": 41
        }
      ]
    },
    {
      "cell_type": "markdown",
      "metadata": {
        "id": "PbHlMXH8ZUDF",
        "colab_type": "text"
      },
      "source": [
        "### Classification (Decision Tree)"
      ]
    },
    {
      "cell_type": "markdown",
      "metadata": {
        "id": "Dx_a8y2lZUDG",
        "colab_type": "text"
      },
      "source": [
        "We are using Decision tree classifier for baseline model"
      ]
    },
    {
      "cell_type": "code",
      "metadata": {
        "trusted": true,
        "colab_type": "code",
        "id": "xd6oXeiWI-Iu",
        "colab": {}
      },
      "source": [
        "from pyspark.ml.classification import DecisionTreeClassifier\n",
        "dtc = DecisionTreeClassifier(labelCol='stroke',featuresCol='features')"
      ],
      "execution_count": 0,
      "outputs": []
    },
    {
      "cell_type": "markdown",
      "metadata": {
        "id": "8ZCoQcolZUDL",
        "colab_type": "text"
      },
      "source": [
        "So far we have kind of a complex task that contains bunch of stages, that need to be performed to process data. To wrap all of that Spark ML represents such a workflow as a Pipeline, which consists of a sequence of PipelineStages to be run in a specific order."
      ]
    },
    {
      "cell_type": "code",
      "metadata": {
        "trusted": true,
        "id": "kB9RDbFJZUDM",
        "colab_type": "code",
        "colab": {}
      },
      "source": [
        "from pyspark.ml import Pipeline\n",
        "pipeline = Pipeline(stages=[indexer1, indexer2, indexer3, indexer4, indexer5, encoder, assembler, dtc])"
      ],
      "execution_count": 0,
      "outputs": []
    },
    {
      "cell_type": "markdown",
      "metadata": {
        "id": "ahONagadZUDP",
        "colab_type": "text"
      },
      "source": [
        "The next step is to split dataset to train and test to train the model and make predictions."
      ]
    },
    {
      "cell_type": "code",
      "metadata": {
        "trusted": true,
        "id": "YacxR8mwZUDR",
        "colab_type": "code",
        "colab": {}
      },
      "source": [
        "# splitting training and validation data\n",
        "train_data,val_data = train_f.randomSplit([0.7,0.3])\n",
        "\n",
        "# training model pipeline with data\n",
        "model = pipeline.fit(train_data)"
      ],
      "execution_count": 0,
      "outputs": []
    },
    {
      "cell_type": "markdown",
      "metadata": {
        "id": "UDgqfsWKZUDV",
        "colab_type": "text"
      },
      "source": [
        "Now we will evaluate the model with validation data"
      ]
    },
    {
      "cell_type": "code",
      "metadata": {
        "trusted": true,
        "id": "lPKRbVLLZUDW",
        "colab_type": "code",
        "outputId": "8f4e7b0f-8e43-4f6e-8295-a753c03e1c93",
        "colab": {
          "base_uri": "https://localhost:8080/",
          "height": 202
        }
      },
      "source": [
        "# making prediction on model with validation data\n",
        "dtc_predictions = model.transform(val_data)\n",
        "\n",
        "# Select example rows to display.\n",
        "dtc_predictions.select(\"prediction\",\"probability\", \"stroke\", \"features\").show(5)"
      ],
      "execution_count": 106,
      "outputs": [
        {
          "output_type": "stream",
          "text": [
            "+----------+--------------------+------+--------------------+\n",
            "|prediction|         probability|stroke|            features|\n",
            "+----------+--------------------+------+--------------------+\n",
            "|       0.0|[0.98108925869894...|     0|(16,[0,2,6,10,11,...|\n",
            "|       0.0|[0.57142857142857...|     1|(16,[1,2,5,7,10,1...|\n",
            "|       1.0|[0.36842105263157...|     1|(16,[1,2,5,7,11,1...|\n",
            "|       0.0|[0.87234042553191...|     0|(16,[1,2,5,6,11,1...|\n",
            "|       0.0|[0.98108925869894...|     0|(16,[0,2,6,10,11,...|\n",
            "+----------+--------------------+------+--------------------+\n",
            "only showing top 5 rows\n",
            "\n"
          ],
          "name": "stdout"
        }
      ]
    },
    {
      "cell_type": "code",
      "metadata": {
        "trusted": true,
        "id": "CW_oJhSrZUDb",
        "colab_type": "code",
        "outputId": "0e1bbdb4-2e98-4c76-9182-637098645ab5",
        "colab": {
          "base_uri": "https://localhost:8080/",
          "height": 34
        }
      },
      "source": [
        "from pyspark.ml.evaluation import MulticlassClassificationEvaluator\n",
        "# Select (prediction, true label) and compute test error\n",
        "acc_evaluator = MulticlassClassificationEvaluator(labelCol=\"stroke\", predictionCol=\"prediction\", metricName=\"accuracy\")\n",
        "dtc_acc = acc_evaluator.evaluate(dtc_predictions)\n",
        "print('A Decision Tree algorithm had an accuracy of: {0:2.2f}%'.format(dtc_acc*100))"
      ],
      "execution_count": 107,
      "outputs": [
        {
          "output_type": "stream",
          "text": [
            "A Decision Tree algorithm had an accuracy of: 81.56%\n"
          ],
          "name": "stdout"
        }
      ]
    },
    {
      "cell_type": "code",
      "metadata": {
        "id": "brESY5k4bH92",
        "colab_type": "code",
        "outputId": "c0664204-012b-4d98-e553-74ae7c9be370",
        "colab": {
          "base_uri": "https://localhost:8080/",
          "height": 34
        }
      },
      "source": [
        "evaluatorf1 = MulticlassClassificationEvaluator(labelCol=\"stroke\", predictionCol=\"prediction\", metricName=\"f1\")\n",
        "f1 = evaluatorf1.evaluate(dtc_predictions)\n",
        "print(\"F1 = %g\" % f1)"
      ],
      "execution_count": 108,
      "outputs": [
        {
          "output_type": "stream",
          "text": [
            "F1 = 0.812439\n"
          ],
          "name": "stdout"
        }
      ]
    },
    {
      "cell_type": "code",
      "metadata": {
        "trusted": true,
        "id": "C7fi5YgqZUDe",
        "colab_type": "code",
        "outputId": "1fbf79c8-5b55-4ffe-fa8a-cc6ce4a5661b",
        "colab": {
          "base_uri": "https://localhost:8080/",
          "height": 343
        }
      },
      "source": [
        "# now predicting the labels for test data\n",
        "test_pred = model.transform(test_f)\n",
        "test_selected = test_pred.select(\"id\", \"features\", \"prediction\")\n",
        "test_selected.limit(10).toPandas()"
      ],
      "execution_count": 147,
      "outputs": [
        {
          "output_type": "execute_result",
          "data": {
            "text/html": [
              "<div>\n",
              "<style scoped>\n",
              "    .dataframe tbody tr th:only-of-type {\n",
              "        vertical-align: middle;\n",
              "    }\n",
              "\n",
              "    .dataframe tbody tr th {\n",
              "        vertical-align: top;\n",
              "    }\n",
              "\n",
              "    .dataframe thead th {\n",
              "        text-align: right;\n",
              "    }\n",
              "</style>\n",
              "<table border=\"1\" class=\"dataframe\">\n",
              "  <thead>\n",
              "    <tr style=\"text-align: right;\">\n",
              "      <th></th>\n",
              "      <th>id</th>\n",
              "      <th>features</th>\n",
              "      <th>prediction</th>\n",
              "    </tr>\n",
              "  </thead>\n",
              "  <tbody>\n",
              "    <tr>\n",
              "      <th>0</th>\n",
              "      <td>36306</td>\n",
              "      <td>(0.0, 1.0, 80.0, 0.0, 0.0, 1.0, 1.0, 0.0, 0.0,...</td>\n",
              "      <td>0.0</td>\n",
              "    </tr>\n",
              "    <tr>\n",
              "      <th>1</th>\n",
              "      <td>61829</td>\n",
              "      <td>(1.0, 0.0, 74.0, 0.0, 1.0, 1.0, 0.0, 1.0, 0.0,...</td>\n",
              "      <td>0.0</td>\n",
              "    </tr>\n",
              "    <tr>\n",
              "      <th>2</th>\n",
              "      <td>14152</td>\n",
              "      <td>(1.0, 0.0, 14.0, 0.0, 0.0, 0.0, 0.0, 0.0, 0.0,...</td>\n",
              "      <td>0.0</td>\n",
              "    </tr>\n",
              "    <tr>\n",
              "      <th>3</th>\n",
              "      <td>12997</td>\n",
              "      <td>(0.0, 1.0, 28.0, 0.0, 0.0, 0.0, 1.0, 0.0, 0.0,...</td>\n",
              "      <td>0.0</td>\n",
              "    </tr>\n",
              "    <tr>\n",
              "      <th>4</th>\n",
              "      <td>40801</td>\n",
              "      <td>(1.0, 0.0, 63.0, 0.0, 0.0, 1.0, 0.0, 0.0, 1.0,...</td>\n",
              "      <td>0.0</td>\n",
              "    </tr>\n",
              "    <tr>\n",
              "      <th>5</th>\n",
              "      <td>9348</td>\n",
              "      <td>(1.0, 0.0, 66.0, 1.0, 0.0, 1.0, 1.0, 0.0, 0.0,...</td>\n",
              "      <td>0.0</td>\n",
              "    </tr>\n",
              "    <tr>\n",
              "      <th>6</th>\n",
              "      <td>51550</td>\n",
              "      <td>(1.0, 0.0, 49.0, 0.0, 0.0, 1.0, 0.0, 1.0, 0.0,...</td>\n",
              "      <td>0.0</td>\n",
              "    </tr>\n",
              "    <tr>\n",
              "      <th>7</th>\n",
              "      <td>60512</td>\n",
              "      <td>(0.0, 1.0, 46.0, 0.0, 0.0, 1.0, 0.0, 0.0, 1.0,...</td>\n",
              "      <td>0.0</td>\n",
              "    </tr>\n",
              "    <tr>\n",
              "      <th>8</th>\n",
              "      <td>31309</td>\n",
              "      <td>(1.0, 0.0, 75.0, 0.0, 0.0, 1.0, 0.0, 1.0, 0.0,...</td>\n",
              "      <td>1.0</td>\n",
              "    </tr>\n",
              "    <tr>\n",
              "      <th>9</th>\n",
              "      <td>39199</td>\n",
              "      <td>(0.0, 1.0, 75.0, 0.0, 0.0, 1.0, 0.0, 1.0, 0.0,...</td>\n",
              "      <td>1.0</td>\n",
              "    </tr>\n",
              "  </tbody>\n",
              "</table>\n",
              "</div>"
            ],
            "text/plain": [
              "      id                                           features  prediction\n",
              "0  36306  (0.0, 1.0, 80.0, 0.0, 0.0, 1.0, 1.0, 0.0, 0.0,...         0.0\n",
              "1  61829  (1.0, 0.0, 74.0, 0.0, 1.0, 1.0, 0.0, 1.0, 0.0,...         0.0\n",
              "2  14152  (1.0, 0.0, 14.0, 0.0, 0.0, 0.0, 0.0, 0.0, 0.0,...         0.0\n",
              "3  12997  (0.0, 1.0, 28.0, 0.0, 0.0, 0.0, 1.0, 0.0, 0.0,...         0.0\n",
              "4  40801  (1.0, 0.0, 63.0, 0.0, 0.0, 1.0, 0.0, 0.0, 1.0,...         0.0\n",
              "5   9348  (1.0, 0.0, 66.0, 1.0, 0.0, 1.0, 1.0, 0.0, 0.0,...         0.0\n",
              "6  51550  (1.0, 0.0, 49.0, 0.0, 0.0, 1.0, 0.0, 1.0, 0.0,...         0.0\n",
              "7  60512  (0.0, 1.0, 46.0, 0.0, 0.0, 1.0, 0.0, 0.0, 1.0,...         0.0\n",
              "8  31309  (1.0, 0.0, 75.0, 0.0, 0.0, 1.0, 0.0, 1.0, 0.0,...         1.0\n",
              "9  39199  (0.0, 1.0, 75.0, 0.0, 0.0, 1.0, 0.0, 1.0, 0.0,...         1.0"
            ]
          },
          "metadata": {
            "tags": []
          },
          "execution_count": 147
        }
      ]
    },
    {
      "cell_type": "code",
      "metadata": {
        "id": "Jfmm8gEFJxS4",
        "colab_type": "code",
        "outputId": "1d5eac01-6771-4a75-af16-3b5853cb9a3e",
        "colab": {
          "base_uri": "https://localhost:8080/",
          "height": 34
        }
      },
      "source": [
        "predict_p_dt = test_pred.select(\"id\", \"prediction\", \"probability\", \"features\").toPandas()\n",
        "a = 0\n",
        "\n",
        "for i in range(predict_p_dt.count().probability) :\n",
        "  a = a + predict_p_dt.probability[i][0]\n",
        "\n",
        "p_dt_mean = a/(predict_p_dt.count().probability)\n",
        "print('A Decision Tree had an accuracy of {0:2.4f}%'.format(p_dt_mean*100) + ' using independent test set')"
      ],
      "execution_count": 111,
      "outputs": [
        {
          "output_type": "stream",
          "text": [
            "A Decision Tree had an accuracy of 85.7350% using independent test set\n"
          ],
          "name": "stdout"
        }
      ]
    },
    {
      "cell_type": "markdown",
      "metadata": {
        "id": "9SP9t7rT4J1d",
        "colab_type": "text"
      },
      "source": [
        "###Predictor (Logistic Regression)"
      ]
    },
    {
      "cell_type": "markdown",
      "metadata": {
        "id": "Qh1BNZFq9QAI",
        "colab_type": "text"
      },
      "source": [
        "####With imputation\n"
      ]
    },
    {
      "cell_type": "code",
      "metadata": {
        "colab_type": "code",
        "id": "3iCimn4alHko",
        "colab": {}
      },
      "source": [
        "from pyspark.ml.classification import LogisticRegression\n",
        "lr = LogisticRegression(labelCol=\"stroke\",featuresCol=\"features\",maxIter=10)\n",
        "\n",
        "from pyspark.ml import Pipeline\n",
        "pipeline2 = Pipeline(stages=[indexer1, indexer2, indexer3, indexer4, indexer5, encoder, assembler, lr])"
      ],
      "execution_count": 0,
      "outputs": []
    },
    {
      "cell_type": "code",
      "metadata": {
        "id": "Vy8D268deupC",
        "colab_type": "code",
        "colab": {}
      },
      "source": [
        "# splitting training and validation data\n",
        "train_data_lr,val_data_lr = train_f.randomSplit([0.7,0.3])\n",
        "\n",
        "# training model pipeline with data\n",
        "model_lr = pipeline2.fit(train_data_lr)"
      ],
      "execution_count": 0,
      "outputs": []
    },
    {
      "cell_type": "code",
      "metadata": {
        "id": "Ls5fE0WgfIQo",
        "colab_type": "code",
        "outputId": "68cbb4ac-a4e8-4af1-95df-81b1cfdf7d44",
        "colab": {
          "base_uri": "https://localhost:8080/",
          "height": 202
        }
      },
      "source": [
        "# making prediction on model with validation data\n",
        "lr_predictions = model_lr.transform(val_data_lr)\n",
        "\n",
        "# Select example rows to display.\n",
        "lr_predictions.select(\"stroke\", \"prediction\",\"probability\", \"features\").show(5)"
      ],
      "execution_count": 118,
      "outputs": [
        {
          "output_type": "stream",
          "text": [
            "+------+----------+--------------------+--------------------+\n",
            "|stroke|prediction|         probability|            features|\n",
            "+------+----------+--------------------+--------------------+\n",
            "|     0|       0.0|[0.97721198611071...|(16,[0,2,6,10,11,...|\n",
            "|     0|       0.0|[0.99842824315361...|(16,[0,2,9,11,12,...|\n",
            "|     0|       0.0|[0.90357031763867...|(16,[0,2,5,6,10,1...|\n",
            "|     0|       0.0|[0.99058247322944...|(16,[0,2,6,10,11,...|\n",
            "|     0|       0.0|[0.99860921629977...|(16,[0,2,9,11,12,...|\n",
            "+------+----------+--------------------+--------------------+\n",
            "only showing top 5 rows\n",
            "\n"
          ],
          "name": "stdout"
        }
      ]
    },
    {
      "cell_type": "code",
      "metadata": {
        "id": "DdP5k2a59i1f",
        "colab_type": "code",
        "outputId": "1828104f-24b4-40d8-d8db-90cf6efe131e",
        "colab": {
          "base_uri": "https://localhost:8080/",
          "height": 34
        }
      },
      "source": [
        "from pyspark.ml.evaluation import MulticlassClassificationEvaluator\n",
        "# Select (prediction, true label) and compute test error\n",
        "acc_evaluator_lr = MulticlassClassificationEvaluator(labelCol=\"stroke\", predictionCol=\"prediction\", metricName=\"accuracy\")\n",
        "lr_acc = acc_evaluator_lr.evaluate(lr_predictions)\n",
        "print('A Logistic Regression with imputation had an accuracy of: {0:2.4f}%'.format(lr_acc*100))"
      ],
      "execution_count": 119,
      "outputs": [
        {
          "output_type": "stream",
          "text": [
            "A Logistic Regression with imputation had an accuracy of: 83.9783%\n"
          ],
          "name": "stdout"
        }
      ]
    },
    {
      "cell_type": "code",
      "metadata": {
        "id": "wSE_RztobDpD",
        "colab_type": "code",
        "outputId": "d71957df-ad78-435c-e65f-862d60e220e3",
        "colab": {
          "base_uri": "https://localhost:8080/",
          "height": 34
        }
      },
      "source": [
        "evaluatorf1 = MulticlassClassificationEvaluator(labelCol=\"stroke\", predictionCol=\"prediction\", metricName=\"f1\")\n",
        "f1 = evaluatorf1.evaluate(lr_predictions)\n",
        "print(\"F1 = %g\" % f1)"
      ],
      "execution_count": 120,
      "outputs": [
        {
          "output_type": "stream",
          "text": [
            "F1 = 0.82951\n"
          ],
          "name": "stdout"
        }
      ]
    },
    {
      "cell_type": "code",
      "metadata": {
        "id": "5oa_iYqWeipq",
        "colab_type": "code",
        "outputId": "f2c7b991-a891-4e1d-a47e-e3d2304e3d76",
        "colab": {
          "base_uri": "https://localhost:8080/",
          "height": 343
        }
      },
      "source": [
        "predict_test = model.transform(test_f)\n",
        "predict_test.select(\"id\", \"prediction\",\"probability\").limit(10).toPandas()"
      ],
      "execution_count": 121,
      "outputs": [
        {
          "output_type": "execute_result",
          "data": {
            "text/html": [
              "<div>\n",
              "<style scoped>\n",
              "    .dataframe tbody tr th:only-of-type {\n",
              "        vertical-align: middle;\n",
              "    }\n",
              "\n",
              "    .dataframe tbody tr th {\n",
              "        vertical-align: top;\n",
              "    }\n",
              "\n",
              "    .dataframe thead th {\n",
              "        text-align: right;\n",
              "    }\n",
              "</style>\n",
              "<table border=\"1\" class=\"dataframe\">\n",
              "  <thead>\n",
              "    <tr style=\"text-align: right;\">\n",
              "      <th></th>\n",
              "      <th>id</th>\n",
              "      <th>prediction</th>\n",
              "      <th>probability</th>\n",
              "    </tr>\n",
              "  </thead>\n",
              "  <tbody>\n",
              "    <tr>\n",
              "      <th>0</th>\n",
              "      <td>36306</td>\n",
              "      <td>0.0</td>\n",
              "      <td>[0.5714285714285714, 0.42857142857142855]</td>\n",
              "    </tr>\n",
              "    <tr>\n",
              "      <th>1</th>\n",
              "      <td>61829</td>\n",
              "      <td>0.0</td>\n",
              "      <td>[0.5714285714285714, 0.42857142857142855]</td>\n",
              "    </tr>\n",
              "    <tr>\n",
              "      <th>2</th>\n",
              "      <td>14152</td>\n",
              "      <td>0.0</td>\n",
              "      <td>[0.981089258698941, 0.018910741301059002]</td>\n",
              "    </tr>\n",
              "    <tr>\n",
              "      <th>3</th>\n",
              "      <td>12997</td>\n",
              "      <td>0.0</td>\n",
              "      <td>[0.981089258698941, 0.018910741301059002]</td>\n",
              "    </tr>\n",
              "    <tr>\n",
              "      <th>4</th>\n",
              "      <td>40801</td>\n",
              "      <td>0.0</td>\n",
              "      <td>[0.8723404255319149, 0.1276595744680851]</td>\n",
              "    </tr>\n",
              "    <tr>\n",
              "      <th>5</th>\n",
              "      <td>9348</td>\n",
              "      <td>0.0</td>\n",
              "      <td>[0.6666666666666666, 0.3333333333333333]</td>\n",
              "    </tr>\n",
              "    <tr>\n",
              "      <th>6</th>\n",
              "      <td>51550</td>\n",
              "      <td>0.0</td>\n",
              "      <td>[0.8723404255319149, 0.1276595744680851]</td>\n",
              "    </tr>\n",
              "    <tr>\n",
              "      <th>7</th>\n",
              "      <td>60512</td>\n",
              "      <td>0.0</td>\n",
              "      <td>[0.8723404255319149, 0.1276595744680851]</td>\n",
              "    </tr>\n",
              "    <tr>\n",
              "      <th>8</th>\n",
              "      <td>31309</td>\n",
              "      <td>1.0</td>\n",
              "      <td>[0.432258064516129, 0.567741935483871]</td>\n",
              "    </tr>\n",
              "    <tr>\n",
              "      <th>9</th>\n",
              "      <td>39199</td>\n",
              "      <td>1.0</td>\n",
              "      <td>[0.432258064516129, 0.567741935483871]</td>\n",
              "    </tr>\n",
              "  </tbody>\n",
              "</table>\n",
              "</div>"
            ],
            "text/plain": [
              "      id  prediction                                probability\n",
              "0  36306         0.0  [0.5714285714285714, 0.42857142857142855]\n",
              "1  61829         0.0  [0.5714285714285714, 0.42857142857142855]\n",
              "2  14152         0.0  [0.981089258698941, 0.018910741301059002]\n",
              "3  12997         0.0  [0.981089258698941, 0.018910741301059002]\n",
              "4  40801         0.0   [0.8723404255319149, 0.1276595744680851]\n",
              "5   9348         0.0   [0.6666666666666666, 0.3333333333333333]\n",
              "6  51550         0.0   [0.8723404255319149, 0.1276595744680851]\n",
              "7  60512         0.0   [0.8723404255319149, 0.1276595744680851]\n",
              "8  31309         1.0     [0.432258064516129, 0.567741935483871]\n",
              "9  39199         1.0     [0.432258064516129, 0.567741935483871]"
            ]
          },
          "metadata": {
            "tags": []
          },
          "execution_count": 121
        }
      ]
    },
    {
      "cell_type": "code",
      "metadata": {
        "id": "vWCNVznVtYot",
        "colab_type": "code",
        "outputId": "ed49c2b6-eaae-4110-c940-b1b6b2d453ee",
        "colab": {
          "base_uri": "https://localhost:8080/",
          "height": 34
        }
      },
      "source": [
        "predict_test_p = predict_test.select(\"id\", \"prediction\",\"probability\", \"features\").toPandas()\n",
        "a = 0\n",
        "\n",
        "for i in range(predict_test_p.count().probability) :\n",
        "  a = a + predict_test_p.probability[i][0]\n",
        "\n",
        "p_mean = a/(predict_test_p.count().probability)\n",
        "print('A Logistic Regression algorithm with imputation had prediction probability of {0:2.4f}%'.format(p_mean*100) + ' using independent test set')"
      ],
      "execution_count": 122,
      "outputs": [
        {
          "output_type": "stream",
          "text": [
            "A Logistic Regression algorithm with imputation had prediction probability of 85.7350% using independent test set\n"
          ],
          "name": "stdout"
        }
      ]
    },
    {
      "cell_type": "code",
      "metadata": {
        "id": "HFgmhgqsjjOe",
        "colab_type": "code",
        "colab": {
          "base_uri": "https://localhost:8080/",
          "height": 70
        },
        "outputId": "12f3a9b7-f001-4b93-e1f9-f1c51fa3a261"
      },
      "source": [
        "print(\"Coefficients: \", model_lr.stages[-1].coefficients)\n",
        "print(\"Intercepts:\", str(model_lr.stages[-1].intercept))"
      ],
      "execution_count": 102,
      "outputs": [
        {
          "output_type": "stream",
          "text": [
            "Coefficients:  [-1.596925742757241,-1.3555589065577358,0.07465284067507821,0.3528583778924133,0.9066054178632676,-0.6231344528967676,-0.8116235691945479,-0.8739578790110162,-2.8024457199412205,-0.8399523002346109,0.13536258388176234,0.0026651555772316928,-0.023053229849737907,-0.7268465954143414,-0.4637350791726219,-0.502838803169115]\n",
            "Intercepts: -2.226285833066799\n"
          ],
          "name": "stdout"
        }
      ]
    },
    {
      "cell_type": "markdown",
      "metadata": {
        "id": "cclhZwrEnK_r",
        "colab_type": "text"
      },
      "source": [
        "####Without imputation (Delete rows which have missing values)"
      ]
    },
    {
      "cell_type": "code",
      "metadata": {
        "colab_type": "code",
        "id": "Jo4awPIGnZjB",
        "colab": {}
      },
      "source": [
        "from pyspark.ml.classification import LogisticRegression\n",
        "lr_del = LogisticRegression(labelCol=\"stroke\",featuresCol=\"features\",maxIter=10)\n",
        "\n",
        "from pyspark.ml import Pipeline\n",
        "pipeline3 = Pipeline(stages=[indexer1, indexer2, indexer3, indexer4, indexer5, encoder, assembler, lr_del])"
      ],
      "execution_count": 0,
      "outputs": []
    },
    {
      "cell_type": "code",
      "metadata": {
        "colab_type": "code",
        "id": "KVLkWJk8nZjJ",
        "colab": {}
      },
      "source": [
        "# splitting training and validation data\n",
        "train_data_del,val_data_del = train_delete.randomSplit([0.7,0.3])\n",
        "\n",
        "# training model pipeline with data\n",
        "model_del = pipeline3.fit(train_data_del)"
      ],
      "execution_count": 0,
      "outputs": []
    },
    {
      "cell_type": "code",
      "metadata": {
        "colab_type": "code",
        "outputId": "d175cbf5-a86f-4f8f-fcef-d52b5955b4fe",
        "id": "Owjsmei7nZjN",
        "colab": {
          "base_uri": "https://localhost:8080/",
          "height": 202
        }
      },
      "source": [
        "# making prediction on model with validation data\n",
        "lr_del_predictions = model_del.transform(val_data_del)\n",
        "\n",
        "# Select example rows to display.\n",
        "lr_del_predictions.select(\"stroke\", \"prediction\",\"probability\", \"features\").show(5)"
      ],
      "execution_count": 132,
      "outputs": [
        {
          "output_type": "stream",
          "text": [
            "+------+----------+--------------------+--------------------+\n",
            "|stroke|prediction|         probability|            features|\n",
            "+------+----------+--------------------+--------------------+\n",
            "|     1|       0.0|[0.55843917078411...|(15,[1,2,5,7,10,1...|\n",
            "|     1|       0.0|[0.54550100964652...|(15,[1,2,5,7,11,1...|\n",
            "|     1|       0.0|[0.70335855490855...|(15,[0,2,5,7,10,1...|\n",
            "|     0|       0.0|[0.56635063816521...|(15,[1,2,5,6,11,1...|\n",
            "|     0|       0.0|[0.88792835937719...|(15,[1,2,5,6,11,1...|\n",
            "+------+----------+--------------------+--------------------+\n",
            "only showing top 5 rows\n",
            "\n"
          ],
          "name": "stdout"
        }
      ]
    },
    {
      "cell_type": "code",
      "metadata": {
        "id": "oXPKHoNgn9Qn",
        "colab_type": "code",
        "outputId": "6fe328b0-ca3f-4716-fa61-9fef91df553b",
        "colab": {
          "base_uri": "https://localhost:8080/",
          "height": 34
        }
      },
      "source": [
        "from pyspark.ml.evaluation import MulticlassClassificationEvaluator\n",
        "# Select (prediction, true label) and compute test error\n",
        "acc_evaluator_lr_del = MulticlassClassificationEvaluator(labelCol=\"stroke\", predictionCol=\"prediction\", metricName=\"accuracy\")\n",
        "lr_del_acc = acc_evaluator_lr_del.evaluate(lr_del_predictions)\n",
        "print('A Logistic Regression without imputation had an accuracy of: {0:2.4f}%'.format(lr_del_acc*100))"
      ],
      "execution_count": 133,
      "outputs": [
        {
          "output_type": "stream",
          "text": [
            "A Logistic Regression without imputation had an accuracy of: 80.7783%\n"
          ],
          "name": "stdout"
        }
      ]
    },
    {
      "cell_type": "code",
      "metadata": {
        "id": "QSMm32Mpa_DD",
        "colab_type": "code",
        "outputId": "b863f95a-738c-45ae-a557-f992982db9b6",
        "colab": {
          "base_uri": "https://localhost:8080/",
          "height": 34
        }
      },
      "source": [
        "evaluatorf1 = MulticlassClassificationEvaluator(labelCol=\"stroke\", predictionCol=\"prediction\", metricName=\"f1\")\n",
        "f1 = evaluatorf1.evaluate(lr_del_predictions)\n",
        "print(\"F1 = %g\" % f1)"
      ],
      "execution_count": 134,
      "outputs": [
        {
          "output_type": "stream",
          "text": [
            "F1 = 0.780562\n"
          ],
          "name": "stdout"
        }
      ]
    },
    {
      "cell_type": "code",
      "metadata": {
        "colab_type": "code",
        "outputId": "d1b1fb28-a44e-441b-897f-2970d34527a3",
        "id": "OaMKPxjtnZjS",
        "colab": {
          "base_uri": "https://localhost:8080/",
          "height": 343
        }
      },
      "source": [
        "predict_test_del = model.transform(test_delete)\n",
        "predict_test_del.select(\"id\", \"prediction\",\"probability\").limit(10).toPandas()"
      ],
      "execution_count": 135,
      "outputs": [
        {
          "output_type": "execute_result",
          "data": {
            "text/html": [
              "<div>\n",
              "<style scoped>\n",
              "    .dataframe tbody tr th:only-of-type {\n",
              "        vertical-align: middle;\n",
              "    }\n",
              "\n",
              "    .dataframe tbody tr th {\n",
              "        vertical-align: top;\n",
              "    }\n",
              "\n",
              "    .dataframe thead th {\n",
              "        text-align: right;\n",
              "    }\n",
              "</style>\n",
              "<table border=\"1\" class=\"dataframe\">\n",
              "  <thead>\n",
              "    <tr style=\"text-align: right;\">\n",
              "      <th></th>\n",
              "      <th>id</th>\n",
              "      <th>prediction</th>\n",
              "      <th>probability</th>\n",
              "    </tr>\n",
              "  </thead>\n",
              "  <tbody>\n",
              "    <tr>\n",
              "      <th>0</th>\n",
              "      <td>36306</td>\n",
              "      <td>0.0</td>\n",
              "      <td>[0.5714285714285714, 0.42857142857142855]</td>\n",
              "    </tr>\n",
              "    <tr>\n",
              "      <th>1</th>\n",
              "      <td>61829</td>\n",
              "      <td>0.0</td>\n",
              "      <td>[0.5714285714285714, 0.42857142857142855]</td>\n",
              "    </tr>\n",
              "    <tr>\n",
              "      <th>2</th>\n",
              "      <td>40801</td>\n",
              "      <td>0.0</td>\n",
              "      <td>[0.8723404255319149, 0.1276595744680851]</td>\n",
              "    </tr>\n",
              "    <tr>\n",
              "      <th>3</th>\n",
              "      <td>9348</td>\n",
              "      <td>0.0</td>\n",
              "      <td>[0.6666666666666666, 0.3333333333333333]</td>\n",
              "    </tr>\n",
              "    <tr>\n",
              "      <th>4</th>\n",
              "      <td>60512</td>\n",
              "      <td>0.0</td>\n",
              "      <td>[0.8723404255319149, 0.1276595744680851]</td>\n",
              "    </tr>\n",
              "    <tr>\n",
              "      <th>5</th>\n",
              "      <td>31309</td>\n",
              "      <td>1.0</td>\n",
              "      <td>[0.432258064516129, 0.567741935483871]</td>\n",
              "    </tr>\n",
              "    <tr>\n",
              "      <th>6</th>\n",
              "      <td>39199</td>\n",
              "      <td>1.0</td>\n",
              "      <td>[0.432258064516129, 0.567741935483871]</td>\n",
              "    </tr>\n",
              "    <tr>\n",
              "      <th>7</th>\n",
              "      <td>19042</td>\n",
              "      <td>0.0</td>\n",
              "      <td>[0.8723404255319149, 0.1276595744680851]</td>\n",
              "    </tr>\n",
              "    <tr>\n",
              "      <th>8</th>\n",
              "      <td>33104</td>\n",
              "      <td>0.0</td>\n",
              "      <td>[0.6666666666666666, 0.3333333333333333]</td>\n",
              "    </tr>\n",
              "    <tr>\n",
              "      <th>9</th>\n",
              "      <td>55264</td>\n",
              "      <td>0.0</td>\n",
              "      <td>[0.8723404255319149, 0.1276595744680851]</td>\n",
              "    </tr>\n",
              "  </tbody>\n",
              "</table>\n",
              "</div>"
            ],
            "text/plain": [
              "      id  prediction                                probability\n",
              "0  36306         0.0  [0.5714285714285714, 0.42857142857142855]\n",
              "1  61829         0.0  [0.5714285714285714, 0.42857142857142855]\n",
              "2  40801         0.0   [0.8723404255319149, 0.1276595744680851]\n",
              "3   9348         0.0   [0.6666666666666666, 0.3333333333333333]\n",
              "4  60512         0.0   [0.8723404255319149, 0.1276595744680851]\n",
              "5  31309         1.0     [0.432258064516129, 0.567741935483871]\n",
              "6  39199         1.0     [0.432258064516129, 0.567741935483871]\n",
              "7  19042         0.0   [0.8723404255319149, 0.1276595744680851]\n",
              "8  33104         0.0   [0.6666666666666666, 0.3333333333333333]\n",
              "9  55264         0.0   [0.8723404255319149, 0.1276595744680851]"
            ]
          },
          "metadata": {
            "tags": []
          },
          "execution_count": 135
        }
      ]
    },
    {
      "cell_type": "code",
      "metadata": {
        "id": "9AkcZAbC9d6_",
        "colab_type": "code",
        "outputId": "de76ba66-c00d-40b4-ae39-d23233237e1a",
        "colab": {
          "base_uri": "https://localhost:8080/",
          "height": 34
        }
      },
      "source": [
        "predict_test_del_p = predict_test_del.select(\"id\", \"prediction\",\"probability\", \"features\").toPandas()\n",
        "a = 0\n",
        "\n",
        "for i in range(predict_test_del_p.count().probability) :\n",
        "  a = a + predict_test_del_p.probability[i][0]\n",
        "\n",
        "del_p_mean = a/(predict_test_del_p.count().probability)\n",
        "print('A Logistic Regression algorithm without imputation had prediction probability of {0:2.4f}%'.format(del_p_mean*100) + ' using independent test set')"
      ],
      "execution_count": 136,
      "outputs": [
        {
          "output_type": "stream",
          "text": [
            "A Logistic Regression algorithm without imputation had prediction probability of 84.0559% using independent test set\n"
          ],
          "name": "stdout"
        }
      ]
    },
    {
      "cell_type": "code",
      "metadata": {
        "id": "EMhO-v8ZnzLM",
        "colab_type": "code",
        "colab": {
          "base_uri": "https://localhost:8080/",
          "height": 70
        },
        "outputId": "3064a676-823e-4434-88a7-2269caf676ab"
      },
      "source": [
        "print(\"Coefficients: \", model_del.stages[-1].coefficients)\n",
        "print(\"Intercepts:\", str(model_del.stages[-1].intercept))"
      ],
      "execution_count": 137,
      "outputs": [
        {
          "output_type": "stream",
          "text": [
            "Coefficients:  [-1.5343536529373494,-1.3544346532429141,0.07556839889038569,0.4097004751142307,0.637012764764908,-0.7148189154618536,-1.2099511701435766,-1.2082620778549127,-1.211744243521239,-2.7449546435436756,0.026084509402923086,0.002573425587776823,-0.009301458211343186,-0.7555722448665145,-0.7373523073591269]\n",
            "Intercepts: -2.213966973129203\n"
          ],
          "name": "stdout"
        }
      ]
    },
    {
      "cell_type": "markdown",
      "metadata": {
        "id": "ocsuLtMT4Jj4",
        "colab_type": "text"
      },
      "source": [
        "### K-mean Clustering"
      ]
    },
    {
      "cell_type": "code",
      "metadata": {
        "id": "Sw9pbCse4nGM",
        "colab_type": "code",
        "colab": {}
      },
      "source": [
        "from pyspark.ml.evaluation import ClusteringEvaluator\n",
        "from pyspark.ml.clustering import KMeans\n",
        "# a k-means model.\n",
        "kmeans = KMeans().setK(2).setSeed(1)\n",
        "\n",
        "# Loads data.\n",
        "pipeline4 = Pipeline(stages=[indexer1, indexer2, indexer3, indexer4, indexer5, encoder, assembler, kmeans])\n",
        "\n",
        "train_data_k,val_data_k = train_f.randomSplit([0.7,0.3])\n",
        "\n",
        "# Trains a k-means model.\n",
        "kmean_predictor = pipeline4.fit(train_data_k)\n",
        "\n",
        "# Make predictions\n",
        "kmean_predictions = kmean_predictor.transform(val_data_k)"
      ],
      "execution_count": 0,
      "outputs": []
    },
    {
      "cell_type": "code",
      "metadata": {
        "id": "1_DyAQEkohJF",
        "colab_type": "code",
        "outputId": "c0392646-52a1-4201-e604-4851c02098d5",
        "colab": {
          "base_uri": "https://localhost:8080/",
          "height": 286
        }
      },
      "source": [
        "kmena_output_df = kmean_predictions.withColumn(\"prediction\",kmean_predictions[\"prediction\"].cast('double'))\n",
        "#.withColumn(\"stroke\",kmean_predictions[\"stroke\"].cast('double'))\n",
        "test_selected = kmena_output_df.select(\"id\", \"features\", \"prediction\",\"stroke\")\n",
        "test_selected.show(10)"
      ],
      "execution_count": 139,
      "outputs": [
        {
          "output_type": "stream",
          "text": [
            "+----+--------------------+----------+------+\n",
            "|  id|            features|prediction|stroke|\n",
            "+----+--------------------+----------+------+\n",
            "|  38|(16,[0,2,6,10,11,...|       0.0|     0|\n",
            "|  61|(16,[1,2,3,6,11,1...|       0.0|     0|\n",
            "| 312|(16,[0,2,5,6,10,1...|       0.0|     0|\n",
            "| 573|(16,[1,2,4,7,11,1...|       1.0|     1|\n",
            "| 712|(16,[0,2,3,4,6,11...|       0.0|     1|\n",
            "| 714|(16,[0,2,5,6,11,1...|       0.0|     1|\n",
            "| 756|(16,[0,2,6,10,11,...|       0.0|     0|\n",
            "| 919|(16,[0,2,3,5,7,11...|       0.0|     1|\n",
            "|1010|(16,[1,2,8,11,12,...|       0.0|     0|\n",
            "|1081|(16,[0,2,3,5,6,10...|       1.0|     1|\n",
            "+----+--------------------+----------+------+\n",
            "only showing top 10 rows\n",
            "\n"
          ],
          "name": "stdout"
        }
      ]
    },
    {
      "cell_type": "code",
      "metadata": {
        "id": "HnoOD2IXojD0",
        "colab_type": "code",
        "outputId": "84d826ac-bffd-44ac-e65f-c5d0e7c2ed41",
        "colab": {
          "base_uri": "https://localhost:8080/",
          "height": 34
        }
      },
      "source": [
        "# Evaluate clustering by computing Silhouette score\n",
        "evaluator = ClusteringEvaluator()\n",
        "\n",
        "silhouette = evaluator.evaluate(kmean_predictions)\n",
        "print(\"Silhouette with squared euclidean distance = \" + str(silhouette))"
      ],
      "execution_count": 140,
      "outputs": [
        {
          "output_type": "stream",
          "text": [
            "Silhouette with squared euclidean distance = 0.8464796298282147\n"
          ],
          "name": "stdout"
        }
      ]
    },
    {
      "cell_type": "code",
      "metadata": {
        "id": "px3NnAqAokNp",
        "colab_type": "code",
        "outputId": "31d51ca9-033a-4091-f62c-d81cf4d28620",
        "colab": {
          "base_uri": "https://localhost:8080/",
          "height": 34
        }
      },
      "source": [
        "from pyspark.ml.evaluation import MulticlassClassificationEvaluator\n",
        "# Select (prediction, true label) and compute test error\n",
        "acc_evaluator = MulticlassClassificationEvaluator(labelCol=\"stroke\", predictionCol=\"prediction\", metricName=\"accuracy\")\n",
        "kmean_acc = acc_evaluator.evaluate(kmena_output_df)\n",
        "print('A K-mean clustering algorithm had an accuracy of: {0:2.2f}%'.format(kmean_acc*100))"
      ],
      "execution_count": 141,
      "outputs": [
        {
          "output_type": "stream",
          "text": [
            "A K-mean clustering algorithm had an accuracy of: 76.80%\n"
          ],
          "name": "stdout"
        }
      ]
    },
    {
      "cell_type": "code",
      "metadata": {
        "id": "QlpF3jR-azjg",
        "colab_type": "code",
        "outputId": "7d0193d7-4ac4-4dc8-e400-61599190d00f",
        "colab": {
          "base_uri": "https://localhost:8080/",
          "height": 34
        }
      },
      "source": [
        "evaluatorf1 = MulticlassClassificationEvaluator(labelCol=\"stroke\", predictionCol=\"prediction\", metricName=\"f1\")\n",
        "f1 = evaluatorf1.evaluate(kmena_output_df)\n",
        "print(\"F1 = %g\" % f1)"
      ],
      "execution_count": 142,
      "outputs": [
        {
          "output_type": "stream",
          "text": [
            "F1 = 0.763383\n"
          ],
          "name": "stdout"
        }
      ]
    }
  ]
}